{
 "cells": [
  {
   "cell_type": "code",
   "execution_count": 1,
   "id": "39a0cb0a",
   "metadata": {},
   "outputs": [],
   "source": [
    "import pandas as pd\n",
    "import numpy as np\n",
    "import matplotlib.pyplot as plt"
   ]
  },
  {
   "cell_type": "code",
   "execution_count": 2,
   "id": "0cec652b",
   "metadata": {},
   "outputs": [],
   "source": [
    "df = pd.read_csv('TP', parse_dates=True, index_col=['Date'])"
   ]
  },
  {
   "cell_type": "code",
   "execution_count": 3,
   "id": "75a29e15",
   "metadata": {},
   "outputs": [
    {
     "data": {
      "text/html": [
       "<div>\n",
       "<style scoped>\n",
       "    .dataframe tbody tr th:only-of-type {\n",
       "        vertical-align: middle;\n",
       "    }\n",
       "\n",
       "    .dataframe tbody tr th {\n",
       "        vertical-align: top;\n",
       "    }\n",
       "\n",
       "    .dataframe thead th {\n",
       "        text-align: right;\n",
       "    }\n",
       "</style>\n",
       "<table border=\"1\" class=\"dataframe\">\n",
       "  <thead>\n",
       "    <tr style=\"text-align: right;\">\n",
       "      <th></th>\n",
       "      <th>High</th>\n",
       "      <th>Low</th>\n",
       "      <th>Open</th>\n",
       "      <th>Close</th>\n",
       "      <th>Volume</th>\n",
       "      <th>Adj Close</th>\n",
       "    </tr>\n",
       "    <tr>\n",
       "      <th>Date</th>\n",
       "      <th></th>\n",
       "      <th></th>\n",
       "      <th></th>\n",
       "      <th></th>\n",
       "      <th></th>\n",
       "      <th></th>\n",
       "    </tr>\n",
       "  </thead>\n",
       "  <tbody>\n",
       "    <tr>\n",
       "      <th>2017-05-15</th>\n",
       "      <td>83.800003</td>\n",
       "      <td>82.150002</td>\n",
       "      <td>82.550003</td>\n",
       "      <td>83.550003</td>\n",
       "      <td>2007841.0</td>\n",
       "      <td>71.511093</td>\n",
       "    </tr>\n",
       "    <tr>\n",
       "      <th>2017-05-16</th>\n",
       "      <td>85.949997</td>\n",
       "      <td>83.400002</td>\n",
       "      <td>83.900002</td>\n",
       "      <td>83.849998</td>\n",
       "      <td>5141578.0</td>\n",
       "      <td>71.767860</td>\n",
       "    </tr>\n",
       "    <tr>\n",
       "      <th>2017-05-17</th>\n",
       "      <td>86.000000</td>\n",
       "      <td>83.599998</td>\n",
       "      <td>84.000000</td>\n",
       "      <td>85.349998</td>\n",
       "      <td>5499293.0</td>\n",
       "      <td>73.051727</td>\n",
       "    </tr>\n",
       "    <tr>\n",
       "      <th>2017-05-18</th>\n",
       "      <td>85.599998</td>\n",
       "      <td>83.500000</td>\n",
       "      <td>84.750000</td>\n",
       "      <td>83.750000</td>\n",
       "      <td>2296399.0</td>\n",
       "      <td>71.682281</td>\n",
       "    </tr>\n",
       "    <tr>\n",
       "      <th>2017-05-19</th>\n",
       "      <td>85.449997</td>\n",
       "      <td>83.050003</td>\n",
       "      <td>84.400002</td>\n",
       "      <td>84.150002</td>\n",
       "      <td>6222693.0</td>\n",
       "      <td>72.024635</td>\n",
       "    </tr>\n",
       "  </tbody>\n",
       "</table>\n",
       "</div>"
      ],
      "text/plain": [
       "                 High        Low       Open      Close     Volume  Adj Close\n",
       "Date                                                                        \n",
       "2017-05-15  83.800003  82.150002  82.550003  83.550003  2007841.0  71.511093\n",
       "2017-05-16  85.949997  83.400002  83.900002  83.849998  5141578.0  71.767860\n",
       "2017-05-17  86.000000  83.599998  84.000000  85.349998  5499293.0  73.051727\n",
       "2017-05-18  85.599998  83.500000  84.750000  83.750000  2296399.0  71.682281\n",
       "2017-05-19  85.449997  83.050003  84.400002  84.150002  6222693.0  72.024635"
      ]
     },
     "execution_count": 3,
     "metadata": {},
     "output_type": "execute_result"
    }
   ],
   "source": [
    "df.head()"
   ]
  },
  {
   "cell_type": "code",
   "execution_count": 4,
   "id": "4e988954",
   "metadata": {},
   "outputs": [],
   "source": [
    "data = df.filter(['Close'])"
   ]
  },
  {
   "cell_type": "code",
   "execution_count": 5,
   "id": "994fabeb",
   "metadata": {},
   "outputs": [
    {
     "data": {
      "text/plain": [
       "1175"
      ]
     },
     "execution_count": 5,
     "metadata": {},
     "output_type": "execute_result"
    }
   ],
   "source": [
    "# Converting data frame into nparray\n",
    "dataset = data.values\n",
    "# Geting the number of rows to train rhe model on\n",
    "training_data_len = int(np.ceil(len(dataset)*0.95))\n",
    "\n",
    "training_data_len\n"
   ]
  },
  {
   "cell_type": "code",
   "execution_count": 6,
   "id": "564f3e67",
   "metadata": {},
   "outputs": [
    {
     "data": {
      "text/plain": [
       "array([[0.21428574],\n",
       "       [0.21542858],\n",
       "       [0.22114286],\n",
       "       ...,\n",
       "       [0.75885718],\n",
       "       [0.73047624],\n",
       "       [0.74476195]])"
      ]
     },
     "execution_count": 6,
     "metadata": {},
     "output_type": "execute_result"
    }
   ],
   "source": [
    "# Scaling Data\n",
    "from sklearn.preprocessing import MinMaxScaler\n",
    "scaler  = MinMaxScaler(feature_range=(0,1))\n",
    "scaled_data  = scaler.fit_transform(dataset)\n",
    "scaled_data"
   ]
  },
  {
   "cell_type": "code",
   "execution_count": 7,
   "id": "f59cf518",
   "metadata": {},
   "outputs": [
    {
     "name": "stdout",
     "output_type": "stream",
     "text": [
      "[array([0.21428574, 0.21542858, 0.22114286, 0.21504763, 0.21657145,\n",
      "       0.20857145, 0.20266668, 0.2017143 , 0.20228573, 0.20476193,\n",
      "       0.20514287, 0.20990478, 0.20457144, 0.20342857, 0.20476193,\n",
      "       0.20457144, 0.1992381 , 0.20076192, 0.19714288, 0.19238098,\n",
      "       0.19657145, 0.19352382, 0.19142859, 0.18971429, 0.19276192,\n",
      "       0.19333336, 0.20876191, 0.20742858, 0.21123811, 0.2064762 ,\n",
      "       0.20495239, 0.20704764, 0.20666669, 0.20285717, 0.20228573,\n",
      "       0.20533333, 0.20742858, 0.20819048, 0.2072381 , 0.21390476,\n",
      "       0.21219049, 0.21238098, 0.21314287, 0.212     , 0.2137143 ,\n",
      "       0.21009524, 0.212     , 0.21180954, 0.21352382, 0.21314287,\n",
      "       0.21219049, 0.21047621, 0.20838096, 0.2089524 , 0.20838096,\n",
      "       0.2114286 , 0.21066667, 0.21085716, 0.2017143 , 0.20076192])]\n",
      "[array([0.19409525])]\n",
      "\n",
      "[array([0.21428574, 0.21542858, 0.22114286, 0.21504763, 0.21657145,\n",
      "       0.20857145, 0.20266668, 0.2017143 , 0.20228573, 0.20476193,\n",
      "       0.20514287, 0.20990478, 0.20457144, 0.20342857, 0.20476193,\n",
      "       0.20457144, 0.1992381 , 0.20076192, 0.19714288, 0.19238098,\n",
      "       0.19657145, 0.19352382, 0.19142859, 0.18971429, 0.19276192,\n",
      "       0.19333336, 0.20876191, 0.20742858, 0.21123811, 0.2064762 ,\n",
      "       0.20495239, 0.20704764, 0.20666669, 0.20285717, 0.20228573,\n",
      "       0.20533333, 0.20742858, 0.20819048, 0.2072381 , 0.21390476,\n",
      "       0.21219049, 0.21238098, 0.21314287, 0.212     , 0.2137143 ,\n",
      "       0.21009524, 0.212     , 0.21180954, 0.21352382, 0.21314287,\n",
      "       0.21219049, 0.21047621, 0.20838096, 0.2089524 , 0.20838096,\n",
      "       0.2114286 , 0.21066667, 0.21085716, 0.2017143 , 0.20076192]), array([0.21542858, 0.22114286, 0.21504763, 0.21657145, 0.20857145,\n",
      "       0.20266668, 0.2017143 , 0.20228573, 0.20476193, 0.20514287,\n",
      "       0.20990478, 0.20457144, 0.20342857, 0.20476193, 0.20457144,\n",
      "       0.1992381 , 0.20076192, 0.19714288, 0.19238098, 0.19657145,\n",
      "       0.19352382, 0.19142859, 0.18971429, 0.19276192, 0.19333336,\n",
      "       0.20876191, 0.20742858, 0.21123811, 0.2064762 , 0.20495239,\n",
      "       0.20704764, 0.20666669, 0.20285717, 0.20228573, 0.20533333,\n",
      "       0.20742858, 0.20819048, 0.2072381 , 0.21390476, 0.21219049,\n",
      "       0.21238098, 0.21314287, 0.212     , 0.2137143 , 0.21009524,\n",
      "       0.212     , 0.21180954, 0.21352382, 0.21314287, 0.21219049,\n",
      "       0.21047621, 0.20838096, 0.2089524 , 0.20838096, 0.2114286 ,\n",
      "       0.21066667, 0.21085716, 0.2017143 , 0.20076192, 0.19409525])]\n",
      "[array([0.19409525]), array([0.19238098])]\n",
      "\n"
     ]
    },
    {
     "data": {
      "text/plain": [
       "(1115, 60, 1)"
      ]
     },
     "execution_count": 7,
     "metadata": {},
     "output_type": "execute_result"
    }
   ],
   "source": [
    "# creating the training dataset \n",
    "# create the scaled training data set\n",
    "train_data = scaled_data[0:int(training_data_len), :]\n",
    "# Split the data into x_train and y_train data sets\n",
    "x_train = []\n",
    "y_train = []\n",
    "\n",
    "for i in range(60,len(train_data)):\n",
    "    x_train.append(train_data[i-60:i, 0])\n",
    "    y_train.append(train_data[i])\n",
    "    if i<= 61:\n",
    "        print(x_train)\n",
    "        print(y_train)\n",
    "        print()\n",
    "# Convert the x_train and y_train to numpy arrays\n",
    "x_train, y_train = np.array(x_train), np.array(y_train)\n",
    "\n",
    "# Reshape the  data\n",
    "x_train = np.reshape(x_train, (x_train.shape[0], x_train.shape[1], 1))\n",
    "x_train.shape"
   ]
  },
  {
   "cell_type": "code",
   "execution_count": 8,
   "id": "0ddc54fa",
   "metadata": {},
   "outputs": [],
   "source": [
    "# Building the RNN\n",
    "\n",
    "from keras.models import Sequential\n",
    "from keras.layers import Dense\n",
    "from keras.layers import LSTM\n",
    "from keras.layers import Dropout"
   ]
  },
  {
   "cell_type": "code",
   "execution_count": 9,
   "id": "ebdffeb1",
   "metadata": {},
   "outputs": [],
   "source": [
    "# intailizing the RNN\n",
    "model = Sequential()"
   ]
  },
  {
   "cell_type": "code",
   "execution_count": 10,
   "id": "8a0e9528",
   "metadata": {},
   "outputs": [
    {
     "name": "stdout",
     "output_type": "stream",
     "text": [
      "Epoch 1/10\n",
      "1115/1115 [==============================] - 33s 27ms/step - loss: 0.0020\n",
      "Epoch 2/10\n",
      "1115/1115 [==============================] - 39s 35ms/step - loss: 9.1871e-04\n",
      "Epoch 3/10\n",
      "1115/1115 [==============================] - 39s 35ms/step - loss: 6.1706e-04\n",
      "Epoch 4/10\n",
      "1115/1115 [==============================] - 39s 35ms/step - loss: 0.0011\n",
      "Epoch 5/10\n",
      "1115/1115 [==============================] - 39s 35ms/step - loss: 7.6466e-04\n",
      "Epoch 6/10\n",
      "1115/1115 [==============================] - 39s 35ms/step - loss: 3.8096e-04\n",
      "Epoch 7/10\n",
      "1115/1115 [==============================] - 38s 34ms/step - loss: 4.5013e-04\n",
      "Epoch 8/10\n",
      "1115/1115 [==============================] - 38s 34ms/step - loss: 4.0202e-04\n",
      "Epoch 9/10\n",
      "1115/1115 [==============================] - 39s 35ms/step - loss: 5.4929e-04\n",
      "Epoch 10/10\n",
      "1115/1115 [==============================] - 38s 34ms/step - loss: 3.3862e-04\n"
     ]
    },
    {
     "data": {
      "text/plain": [
       "<keras.callbacks.History at 0x2b7c0a53e80>"
      ]
     },
     "execution_count": 10,
     "metadata": {},
     "output_type": "execute_result"
    }
   ],
   "source": [
    "model.add(LSTM(128,return_sequences=True, input_shape = (x_train.shape[1], 1)))\n",
    "model.add(LSTM(64, return_sequences=False))\n",
    "model.add(Dense(25))\n",
    "model.add(Dense(1))\n",
    "\n",
    "# Compile the model \n",
    "model.compile(optimizer = 'adam', loss='mean_squared_error')\n",
    "\n",
    "# Train the model\n",
    "model.fit(x_train, y_train, batch_size=1, epochs=10)"
   ]
  },
  {
   "cell_type": "code",
   "execution_count": 22,
   "id": "bffba0b9",
   "metadata": {},
   "outputs": [
    {
     "data": {
      "text/plain": [
       "7.54050848292274"
      ]
     },
     "execution_count": 22,
     "metadata": {},
     "output_type": "execute_result"
    }
   ],
   "source": [
    "# creating the testing data set\n",
    "test_data = scaled_data[training_data_len-60: , :]\n",
    "# Create the data sets x_test and y_test\n",
    "x_test = []\n",
    "y_test = dataset[training_data_len:, :]\n",
    "for i in range(60, len(test_data)):\n",
    "    x_test.append(test_data[i-60:i, 0])\n",
    "    \n",
    "# converting the data to a numpy array\n",
    "x_test = np.array(x_test)\n",
    "\n",
    "# Reshape the data\n",
    "x_test = np.reshape(x_test, (x_test.shape[0], x_test.shape[1], 1))\n",
    "\n",
    "# Get the models predicted price values\n",
    "predictions = model.predict(x_test)\n",
    "predictions = scaler.inverse_transform(predictions)\n",
    "\n",
    "# Get the root mean square error\n",
    "rmse = np.sqrt(np.mean(((predictions-y_test)**2)))\n",
    "rmse"
   ]
  },
  {
   "cell_type": "code",
   "execution_count": 24,
   "id": "4e99edd8",
   "metadata": {},
   "outputs": [
    {
     "name": "stderr",
     "output_type": "stream",
     "text": [
      "C:\\Users\\HARDIK\\AppData\\Local\\Temp/ipykernel_2420/4282045915.py:4: SettingWithCopyWarning: \n",
      "A value is trying to be set on a copy of a slice from a DataFrame.\n",
      "Try using .loc[row_indexer,col_indexer] = value instead\n",
      "\n",
      "See the caveats in the documentation: https://pandas.pydata.org/pandas-docs/stable/user_guide/indexing.html#returning-a-view-versus-a-copy\n",
      "  valid['predictions'] = predictions\n"
     ]
    },
    {
     "data": {
      "image/png": "[encoded data removed]",
      "text/plain": [
       "<Figure size 1152x432 with 1 Axes>"
      ]
     },
     "metadata": {
      "needs_background": "light"
     },
     "output_type": "display_data"
    }
   ],
   "source": [
    "# Plot Data \n",
    "train = data[:training_data_len]\n",
    "valid = data[training_data_len:]\n",
    "valid['predictions'] = predictions\n",
    "# Visulaizing the data\n",
    "plt.figure(figsize=(16,6))\n",
    "plt.title('Model')\n",
    "plt.xlabel('Date', fontsize=18)\n",
    "plt.ylabel('Close price', fontsize=18)\n",
    "plt.plot(train['Close'])\n",
    "plt.plot(valid[['Close', 'predictions']])\n",
    "plt.legend(['Train', 'Val','Predictions'], loc='best')\n",
    "plt.show()"
   ]
  },
  {
   "cell_type": "code",
   "execution_count": 25,
   "id": "5e6f3541",
   "metadata": {},
   "outputs": [
    {
     "data": {
      "text/html": [
       "<div>\n",
       "<style scoped>\n",
       "    .dataframe tbody tr th:only-of-type {\n",
       "        vertical-align: middle;\n",
       "    }\n",
       "\n",
       "    .dataframe tbody tr th {\n",
       "        vertical-align: top;\n",
       "    }\n",
       "\n",
       "    .dataframe thead th {\n",
       "        text-align: right;\n",
       "    }\n",
       "</style>\n",
       "<table border=\"1\" class=\"dataframe\">\n",
       "  <thead>\n",
       "    <tr style=\"text-align: right;\">\n",
       "      <th></th>\n",
       "      <th>Close</th>\n",
       "      <th>predictions</th>\n",
       "    </tr>\n",
       "    <tr>\n",
       "      <th>Date</th>\n",
       "      <th></th>\n",
       "      <th></th>\n",
       "    </tr>\n",
       "  </thead>\n",
       "  <tbody>\n",
       "    <tr>\n",
       "      <th>2022-02-11</th>\n",
       "      <td>232.300003</td>\n",
       "      <td>240.384460</td>\n",
       "    </tr>\n",
       "    <tr>\n",
       "      <th>2022-02-14</th>\n",
       "      <td>220.500000</td>\n",
       "      <td>232.893463</td>\n",
       "    </tr>\n",
       "    <tr>\n",
       "      <th>2022-02-15</th>\n",
       "      <td>230.399994</td>\n",
       "      <td>222.477707</td>\n",
       "    </tr>\n",
       "    <tr>\n",
       "      <th>2022-02-16</th>\n",
       "      <td>231.350006</td>\n",
       "      <td>230.969833</td>\n",
       "    </tr>\n",
       "    <tr>\n",
       "      <th>2022-02-17</th>\n",
       "      <td>227.750000</td>\n",
       "      <td>232.371597</td>\n",
       "    </tr>\n",
       "    <tr>\n",
       "      <th>...</th>\n",
       "      <td>...</td>\n",
       "      <td>...</td>\n",
       "    </tr>\n",
       "    <tr>\n",
       "      <th>2022-05-09</th>\n",
       "      <td>230.000000</td>\n",
       "      <td>244.016663</td>\n",
       "    </tr>\n",
       "    <tr>\n",
       "      <th>2022-05-10</th>\n",
       "      <td>222.149994</td>\n",
       "      <td>230.844574</td>\n",
       "    </tr>\n",
       "    <tr>\n",
       "      <th>2022-05-11</th>\n",
       "      <td>226.500000</td>\n",
       "      <td>223.779266</td>\n",
       "    </tr>\n",
       "    <tr>\n",
       "      <th>2022-05-12</th>\n",
       "      <td>219.050003</td>\n",
       "      <td>227.833176</td>\n",
       "    </tr>\n",
       "    <tr>\n",
       "      <th>2022-05-13</th>\n",
       "      <td>222.800003</td>\n",
       "      <td>221.867798</td>\n",
       "    </tr>\n",
       "  </tbody>\n",
       "</table>\n",
       "<p>61 rows × 2 columns</p>\n",
       "</div>"
      ],
      "text/plain": [
       "                 Close  predictions\n",
       "Date                               \n",
       "2022-02-11  232.300003   240.384460\n",
       "2022-02-14  220.500000   232.893463\n",
       "2022-02-15  230.399994   222.477707\n",
       "2022-02-16  231.350006   230.969833\n",
       "2022-02-17  227.750000   232.371597\n",
       "...                ...          ...\n",
       "2022-05-09  230.000000   244.016663\n",
       "2022-05-10  222.149994   230.844574\n",
       "2022-05-11  226.500000   223.779266\n",
       "2022-05-12  219.050003   227.833176\n",
       "2022-05-13  222.800003   221.867798\n",
       "\n",
       "[61 rows x 2 columns]"
      ]
     },
     "execution_count": 25,
     "metadata": {},
     "output_type": "execute_result"
    }
   ],
   "source": [
    "valid"
   ]
  },
  {
   "cell_type": "code",
   "execution_count": null,
   "id": "9f41ae2a",
   "metadata": {},
   "outputs": [],
   "source": []
  }
 ],
 "metadata": {
  "kernelspec": {
   "display_name": "Python 3 (ipykernel)",
   "language": "python",
   "name": "python3"
  },
  "language_info": {
   "codemirror_mode": {
    "name": "ipython",
    "version": 3
   },
   "file_extension": ".py",
   "mimetype": "text/x-python",
   "name": "python",
   "nbconvert_exporter": "python",
   "pygments_lexer": "ipython3",
   "version": "3.9.7"
  }
 },
 "nbformat": 4,
 "nbformat_minor": 5
}
