{
 "cells": [
  {
   "cell_type": "code",
   "execution_count": 1,
   "id": "8c364cd5",
   "metadata": {},
   "outputs": [],
   "source": [
    "import pandas as pd\n"
   ]
  },
  {
   "cell_type": "code",
   "execution_count": 2,
   "id": "6db81b0e",
   "metadata": {},
   "outputs": [],
   "source": [
    "import numpy as np\n",
    "import matplotlib.pyplot as plt\n"
   ]
  },
  {
   "cell_type": "code",
   "execution_count": 3,
   "id": "84c9ad63",
   "metadata": {},
   "outputs": [],
   "source": [
    "df=pd.read_csv('Index2018.csv')"
   ]
  },
  {
   "cell_type": "code",
   "execution_count": 4,
   "id": "2fb2ed3b",
   "metadata": {
    "scrolled": true
   },
   "outputs": [
    {
     "data": {
      "text/html": [
       "<div>\n",
       "<style scoped>\n",
       "    .dataframe tbody tr th:only-of-type {\n",
       "        vertical-align: middle;\n",
       "    }\n",
       "\n",
       "    .dataframe tbody tr th {\n",
       "        vertical-align: top;\n",
       "    }\n",
       "\n",
       "    .dataframe thead th {\n",
       "        text-align: right;\n",
       "    }\n",
       "</style>\n",
       "<table border=\"1\" class=\"dataframe\">\n",
       "  <thead>\n",
       "    <tr style=\"text-align: right;\">\n",
       "      <th></th>\n",
       "      <th>date</th>\n",
       "      <th>spx</th>\n",
       "      <th>dax</th>\n",
       "      <th>ftse</th>\n",
       "      <th>nikkei</th>\n",
       "    </tr>\n",
       "  </thead>\n",
       "  <tbody>\n",
       "    <tr>\n",
       "      <th>0</th>\n",
       "      <td>07/01/1994</td>\n",
       "      <td>469.90</td>\n",
       "      <td>2224.95</td>\n",
       "      <td>3445.98</td>\n",
       "      <td>18124.01</td>\n",
       "    </tr>\n",
       "    <tr>\n",
       "      <th>1</th>\n",
       "      <td>10/01/1994</td>\n",
       "      <td>475.27</td>\n",
       "      <td>2225.00</td>\n",
       "      <td>3440.58</td>\n",
       "      <td>18443.44</td>\n",
       "    </tr>\n",
       "    <tr>\n",
       "      <th>2</th>\n",
       "      <td>11/01/1994</td>\n",
       "      <td>474.13</td>\n",
       "      <td>2228.10</td>\n",
       "      <td>3413.77</td>\n",
       "      <td>18485.25</td>\n",
       "    </tr>\n",
       "    <tr>\n",
       "      <th>3</th>\n",
       "      <td>12/01/1994</td>\n",
       "      <td>474.17</td>\n",
       "      <td>2182.06</td>\n",
       "      <td>3372.02</td>\n",
       "      <td>18793.88</td>\n",
       "    </tr>\n",
       "    <tr>\n",
       "      <th>4</th>\n",
       "      <td>13/01/1994</td>\n",
       "      <td>472.47</td>\n",
       "      <td>2142.37</td>\n",
       "      <td>3360.01</td>\n",
       "      <td>18577.26</td>\n",
       "    </tr>\n",
       "  </tbody>\n",
       "</table>\n",
       "</div>"
      ],
      "text/plain": [
       "         date     spx      dax     ftse    nikkei\n",
       "0  07/01/1994  469.90  2224.95  3445.98  18124.01\n",
       "1  10/01/1994  475.27  2225.00  3440.58  18443.44\n",
       "2  11/01/1994  474.13  2228.10  3413.77  18485.25\n",
       "3  12/01/1994  474.17  2182.06  3372.02  18793.88\n",
       "4  13/01/1994  472.47  2142.37  3360.01  18577.26"
      ]
     },
     "execution_count": 4,
     "metadata": {},
     "output_type": "execute_result"
    }
   ],
   "source": [
    "df.head()"
   ]
  },
  {
   "cell_type": "code",
   "execution_count": 5,
   "id": "a127b106",
   "metadata": {},
   "outputs": [
    {
     "data": {
      "text/html": [
       "<div>\n",
       "<style scoped>\n",
       "    .dataframe tbody tr th:only-of-type {\n",
       "        vertical-align: middle;\n",
       "    }\n",
       "\n",
       "    .dataframe tbody tr th {\n",
       "        vertical-align: top;\n",
       "    }\n",
       "\n",
       "    .dataframe thead th {\n",
       "        text-align: right;\n",
       "    }\n",
       "</style>\n",
       "<table border=\"1\" class=\"dataframe\">\n",
       "  <thead>\n",
       "    <tr style=\"text-align: right;\">\n",
       "      <th></th>\n",
       "      <th>spx</th>\n",
       "      <th>dax</th>\n",
       "      <th>ftse</th>\n",
       "      <th>nikkei</th>\n",
       "    </tr>\n",
       "  </thead>\n",
       "  <tbody>\n",
       "    <tr>\n",
       "      <th>count</th>\n",
       "      <td>6269.000000</td>\n",
       "      <td>6269.000000</td>\n",
       "      <td>6269.000000</td>\n",
       "      <td>6269.000000</td>\n",
       "    </tr>\n",
       "    <tr>\n",
       "      <th>mean</th>\n",
       "      <td>1288.127542</td>\n",
       "      <td>6080.063363</td>\n",
       "      <td>5422.713545</td>\n",
       "      <td>14597.055700</td>\n",
       "    </tr>\n",
       "    <tr>\n",
       "      <th>std</th>\n",
       "      <td>487.586473</td>\n",
       "      <td>2754.361032</td>\n",
       "      <td>1145.572428</td>\n",
       "      <td>4043.122953</td>\n",
       "    </tr>\n",
       "    <tr>\n",
       "      <th>min</th>\n",
       "      <td>438.920000</td>\n",
       "      <td>1911.700000</td>\n",
       "      <td>2876.600000</td>\n",
       "      <td>7054.980000</td>\n",
       "    </tr>\n",
       "    <tr>\n",
       "      <th>25%</th>\n",
       "      <td>990.671905</td>\n",
       "      <td>4069.350000</td>\n",
       "      <td>4486.100000</td>\n",
       "      <td>10709.290000</td>\n",
       "    </tr>\n",
       "    <tr>\n",
       "      <th>50%</th>\n",
       "      <td>1233.420000</td>\n",
       "      <td>5773.340000</td>\n",
       "      <td>5662.430000</td>\n",
       "      <td>15028.170000</td>\n",
       "    </tr>\n",
       "    <tr>\n",
       "      <th>75%</th>\n",
       "      <td>1459.987747</td>\n",
       "      <td>7443.070000</td>\n",
       "      <td>6304.250000</td>\n",
       "      <td>17860.470000</td>\n",
       "    </tr>\n",
       "    <tr>\n",
       "      <th>max</th>\n",
       "      <td>2872.867839</td>\n",
       "      <td>13559.600000</td>\n",
       "      <td>7778.637689</td>\n",
       "      <td>24124.150000</td>\n",
       "    </tr>\n",
       "  </tbody>\n",
       "</table>\n",
       "</div>"
      ],
      "text/plain": [
       "               spx           dax         ftse        nikkei\n",
       "count  6269.000000   6269.000000  6269.000000   6269.000000\n",
       "mean   1288.127542   6080.063363  5422.713545  14597.055700\n",
       "std     487.586473   2754.361032  1145.572428   4043.122953\n",
       "min     438.920000   1911.700000  2876.600000   7054.980000\n",
       "25%     990.671905   4069.350000  4486.100000  10709.290000\n",
       "50%    1233.420000   5773.340000  5662.430000  15028.170000\n",
       "75%    1459.987747   7443.070000  6304.250000  17860.470000\n",
       "max    2872.867839  13559.600000  7778.637689  24124.150000"
      ]
     },
     "execution_count": 5,
     "metadata": {},
     "output_type": "execute_result"
    }
   ],
   "source": [
    "df.describe()"
   ]
  },
  {
   "cell_type": "code",
   "execution_count": 6,
   "id": "d1ad86e7",
   "metadata": {
    "scrolled": true
   },
   "outputs": [
    {
     "data": {
      "image/png": "[encoded data removed]",
      "text/plain": [
       "<Figure size 1152x432 with 1 Axes>"
      ]
     },
     "metadata": {
      "needs_background": "light"
     },
     "output_type": "display_data"
    }
   ],
   "source": [
    "plt.figure(figsize=(16,6))\n",
    "plt.plot(df.spx)\n",
    "plt.show()"
   ]
  },
  {
   "cell_type": "code",
   "execution_count": 7,
   "id": "d4b122ef",
   "metadata": {},
   "outputs": [],
   "source": [
    "## QQ Plot for seeing the distribution\n",
    "import scipy.stats\n",
    "import pylab"
   ]
  },
  {
   "cell_type": "code",
   "execution_count": 8,
   "id": "c96c8adf",
   "metadata": {
    "scrolled": true
   },
   "outputs": [
    {
     "data": {
      "image/png": "[encoded data removed]",
      "text/plain": [
       "<Figure size 432x288 with 1 Axes>"
      ]
     },
     "metadata": {
      "needs_background": "light"
     },
     "output_type": "display_data"
    }
   ],
   "source": [
    "scipy.stats.probplot(df.spx, plot=pylab)\n",
    "pylab.show()"
   ]
  },
  {
   "cell_type": "code",
   "execution_count": 9,
   "id": "fa88ac32",
   "metadata": {},
   "outputs": [],
   "source": [
    "df.date = pd.to_datetime(df.date, dayfirst=True)"
   ]
  },
  {
   "cell_type": "code",
   "execution_count": 10,
   "id": "a96d9c92",
   "metadata": {},
   "outputs": [
    {
     "data": {
      "text/html": [
       "<div>\n",
       "<style scoped>\n",
       "    .dataframe tbody tr th:only-of-type {\n",
       "        vertical-align: middle;\n",
       "    }\n",
       "\n",
       "    .dataframe tbody tr th {\n",
       "        vertical-align: top;\n",
       "    }\n",
       "\n",
       "    .dataframe thead th {\n",
       "        text-align: right;\n",
       "    }\n",
       "</style>\n",
       "<table border=\"1\" class=\"dataframe\">\n",
       "  <thead>\n",
       "    <tr style=\"text-align: right;\">\n",
       "      <th></th>\n",
       "      <th>date</th>\n",
       "      <th>spx</th>\n",
       "      <th>dax</th>\n",
       "      <th>ftse</th>\n",
       "      <th>nikkei</th>\n",
       "    </tr>\n",
       "  </thead>\n",
       "  <tbody>\n",
       "    <tr>\n",
       "      <th>0</th>\n",
       "      <td>1994-01-07</td>\n",
       "      <td>469.90</td>\n",
       "      <td>2224.95</td>\n",
       "      <td>3445.98</td>\n",
       "      <td>18124.01</td>\n",
       "    </tr>\n",
       "    <tr>\n",
       "      <th>1</th>\n",
       "      <td>1994-01-10</td>\n",
       "      <td>475.27</td>\n",
       "      <td>2225.00</td>\n",
       "      <td>3440.58</td>\n",
       "      <td>18443.44</td>\n",
       "    </tr>\n",
       "    <tr>\n",
       "      <th>2</th>\n",
       "      <td>1994-01-11</td>\n",
       "      <td>474.13</td>\n",
       "      <td>2228.10</td>\n",
       "      <td>3413.77</td>\n",
       "      <td>18485.25</td>\n",
       "    </tr>\n",
       "    <tr>\n",
       "      <th>3</th>\n",
       "      <td>1994-01-12</td>\n",
       "      <td>474.17</td>\n",
       "      <td>2182.06</td>\n",
       "      <td>3372.02</td>\n",
       "      <td>18793.88</td>\n",
       "    </tr>\n",
       "    <tr>\n",
       "      <th>4</th>\n",
       "      <td>1994-01-13</td>\n",
       "      <td>472.47</td>\n",
       "      <td>2142.37</td>\n",
       "      <td>3360.01</td>\n",
       "      <td>18577.26</td>\n",
       "    </tr>\n",
       "    <tr>\n",
       "      <th>5</th>\n",
       "      <td>1994-01-14</td>\n",
       "      <td>474.91</td>\n",
       "      <td>2151.05</td>\n",
       "      <td>3400.56</td>\n",
       "      <td>18973.70</td>\n",
       "    </tr>\n",
       "    <tr>\n",
       "      <th>6</th>\n",
       "      <td>1994-01-17</td>\n",
       "      <td>473.30</td>\n",
       "      <td>2115.56</td>\n",
       "      <td>3407.83</td>\n",
       "      <td>18725.37</td>\n",
       "    </tr>\n",
       "    <tr>\n",
       "      <th>7</th>\n",
       "      <td>1994-01-18</td>\n",
       "      <td>474.25</td>\n",
       "      <td>2130.35</td>\n",
       "      <td>3437.01</td>\n",
       "      <td>18514.55</td>\n",
       "    </tr>\n",
       "    <tr>\n",
       "      <th>8</th>\n",
       "      <td>1994-01-19</td>\n",
       "      <td>474.30</td>\n",
       "      <td>2132.52</td>\n",
       "      <td>3475.15</td>\n",
       "      <td>19039.40</td>\n",
       "    </tr>\n",
       "    <tr>\n",
       "      <th>9</th>\n",
       "      <td>1994-01-20</td>\n",
       "      <td>474.98</td>\n",
       "      <td>2098.36</td>\n",
       "      <td>3469.99</td>\n",
       "      <td>19183.92</td>\n",
       "    </tr>\n",
       "  </tbody>\n",
       "</table>\n",
       "</div>"
      ],
      "text/plain": [
       "        date     spx      dax     ftse    nikkei\n",
       "0 1994-01-07  469.90  2224.95  3445.98  18124.01\n",
       "1 1994-01-10  475.27  2225.00  3440.58  18443.44\n",
       "2 1994-01-11  474.13  2228.10  3413.77  18485.25\n",
       "3 1994-01-12  474.17  2182.06  3372.02  18793.88\n",
       "4 1994-01-13  472.47  2142.37  3360.01  18577.26\n",
       "5 1994-01-14  474.91  2151.05  3400.56  18973.70\n",
       "6 1994-01-17  473.30  2115.56  3407.83  18725.37\n",
       "7 1994-01-18  474.25  2130.35  3437.01  18514.55\n",
       "8 1994-01-19  474.30  2132.52  3475.15  19039.40\n",
       "9 1994-01-20  474.98  2098.36  3469.99  19183.92"
      ]
     },
     "execution_count": 10,
     "metadata": {},
     "output_type": "execute_result"
    }
   ],
   "source": [
    "df.head(10)"
   ]
  },
  {
   "cell_type": "code",
   "execution_count": 11,
   "id": "712c1bf3",
   "metadata": {},
   "outputs": [
    {
     "name": "stderr",
     "output_type": "stream",
     "text": [
      "C:\\Users\\HARDIK\\AppData\\Local\\Temp/ipykernel_3192/1371252037.py:1: FutureWarning: Treating datetime data as categorical rather than numeric in `.describe` is deprecated and will be removed in a future version of pandas. Specify `datetime_is_numeric=True` to silence this warning and adopt the future behavior now.\n",
      "  df.date.describe()\n"
     ]
    },
    {
     "data": {
      "text/plain": [
       "count                    6269\n",
       "unique                   6269\n",
       "top       1994-01-07 00:00:00\n",
       "freq                        1\n",
       "first     1994-01-07 00:00:00\n",
       "last      2018-01-29 00:00:00\n",
       "Name: date, dtype: object"
      ]
     },
     "execution_count": 11,
     "metadata": {},
     "output_type": "execute_result"
    }
   ],
   "source": [
    "df.date.describe()"
   ]
  },
  {
   "cell_type": "code",
   "execution_count": 12,
   "id": "a4c9a749",
   "metadata": {},
   "outputs": [],
   "source": [
    "df.set_index(df.date, inplace=True)"
   ]
  },
  {
   "cell_type": "code",
   "execution_count": 13,
   "id": "e19d7ffa",
   "metadata": {},
   "outputs": [],
   "source": [
    "df.drop('date', axis=1,inplace=True)"
   ]
  },
  {
   "cell_type": "code",
   "execution_count": 14,
   "id": "76961141",
   "metadata": {
    "scrolled": true
   },
   "outputs": [
    {
     "data": {
      "text/html": [
       "<div>\n",
       "<style scoped>\n",
       "    .dataframe tbody tr th:only-of-type {\n",
       "        vertical-align: middle;\n",
       "    }\n",
       "\n",
       "    .dataframe tbody tr th {\n",
       "        vertical-align: top;\n",
       "    }\n",
       "\n",
       "    .dataframe thead th {\n",
       "        text-align: right;\n",
       "    }\n",
       "</style>\n",
       "<table border=\"1\" class=\"dataframe\">\n",
       "  <thead>\n",
       "    <tr style=\"text-align: right;\">\n",
       "      <th></th>\n",
       "      <th>spx</th>\n",
       "      <th>dax</th>\n",
       "      <th>ftse</th>\n",
       "      <th>nikkei</th>\n",
       "    </tr>\n",
       "    <tr>\n",
       "      <th>date</th>\n",
       "      <th></th>\n",
       "      <th></th>\n",
       "      <th></th>\n",
       "      <th></th>\n",
       "    </tr>\n",
       "  </thead>\n",
       "  <tbody>\n",
       "    <tr>\n",
       "      <th>1994-01-07</th>\n",
       "      <td>469.90</td>\n",
       "      <td>2224.95</td>\n",
       "      <td>3445.98</td>\n",
       "      <td>18124.01</td>\n",
       "    </tr>\n",
       "    <tr>\n",
       "      <th>1994-01-10</th>\n",
       "      <td>475.27</td>\n",
       "      <td>2225.00</td>\n",
       "      <td>3440.58</td>\n",
       "      <td>18443.44</td>\n",
       "    </tr>\n",
       "    <tr>\n",
       "      <th>1994-01-11</th>\n",
       "      <td>474.13</td>\n",
       "      <td>2228.10</td>\n",
       "      <td>3413.77</td>\n",
       "      <td>18485.25</td>\n",
       "    </tr>\n",
       "    <tr>\n",
       "      <th>1994-01-12</th>\n",
       "      <td>474.17</td>\n",
       "      <td>2182.06</td>\n",
       "      <td>3372.02</td>\n",
       "      <td>18793.88</td>\n",
       "    </tr>\n",
       "    <tr>\n",
       "      <th>1994-01-13</th>\n",
       "      <td>472.47</td>\n",
       "      <td>2142.37</td>\n",
       "      <td>3360.01</td>\n",
       "      <td>18577.26</td>\n",
       "    </tr>\n",
       "  </tbody>\n",
       "</table>\n",
       "</div>"
      ],
      "text/plain": [
       "               spx      dax     ftse    nikkei\n",
       "date                                          \n",
       "1994-01-07  469.90  2224.95  3445.98  18124.01\n",
       "1994-01-10  475.27  2225.00  3440.58  18443.44\n",
       "1994-01-11  474.13  2228.10  3413.77  18485.25\n",
       "1994-01-12  474.17  2182.06  3372.02  18793.88\n",
       "1994-01-13  472.47  2142.37  3360.01  18577.26"
      ]
     },
     "execution_count": 14,
     "metadata": {},
     "output_type": "execute_result"
    }
   ],
   "source": [
    "df.head()"
   ]
  },
  {
   "cell_type": "markdown",
   "id": "a1356e2a",
   "metadata": {},
   "source": [
    "  Setting the desired frequency"
   ]
  },
  {
   "cell_type": "code",
   "execution_count": 15,
   "id": "7f0c0b29",
   "metadata": {},
   "outputs": [],
   "source": [
    "df = df.asfreq('b')"
   ]
  },
  {
   "cell_type": "code",
   "execution_count": 16,
   "id": "47e4bdf1",
   "metadata": {},
   "outputs": [
    {
     "data": {
      "text/html": [
       "<div>\n",
       "<style scoped>\n",
       "    .dataframe tbody tr th:only-of-type {\n",
       "        vertical-align: middle;\n",
       "    }\n",
       "\n",
       "    .dataframe tbody tr th {\n",
       "        vertical-align: top;\n",
       "    }\n",
       "\n",
       "    .dataframe thead th {\n",
       "        text-align: right;\n",
       "    }\n",
       "</style>\n",
       "<table border=\"1\" class=\"dataframe\">\n",
       "  <thead>\n",
       "    <tr style=\"text-align: right;\">\n",
       "      <th></th>\n",
       "      <th>spx</th>\n",
       "      <th>dax</th>\n",
       "      <th>ftse</th>\n",
       "      <th>nikkei</th>\n",
       "    </tr>\n",
       "    <tr>\n",
       "      <th>date</th>\n",
       "      <th></th>\n",
       "      <th></th>\n",
       "      <th></th>\n",
       "      <th></th>\n",
       "    </tr>\n",
       "  </thead>\n",
       "  <tbody>\n",
       "    <tr>\n",
       "      <th>1994-01-07</th>\n",
       "      <td>469.90</td>\n",
       "      <td>2224.95</td>\n",
       "      <td>3445.98</td>\n",
       "      <td>18124.01</td>\n",
       "    </tr>\n",
       "    <tr>\n",
       "      <th>1994-01-10</th>\n",
       "      <td>475.27</td>\n",
       "      <td>2225.00</td>\n",
       "      <td>3440.58</td>\n",
       "      <td>18443.44</td>\n",
       "    </tr>\n",
       "    <tr>\n",
       "      <th>1994-01-11</th>\n",
       "      <td>474.13</td>\n",
       "      <td>2228.10</td>\n",
       "      <td>3413.77</td>\n",
       "      <td>18485.25</td>\n",
       "    </tr>\n",
       "    <tr>\n",
       "      <th>1994-01-12</th>\n",
       "      <td>474.17</td>\n",
       "      <td>2182.06</td>\n",
       "      <td>3372.02</td>\n",
       "      <td>18793.88</td>\n",
       "    </tr>\n",
       "    <tr>\n",
       "      <th>1994-01-13</th>\n",
       "      <td>472.47</td>\n",
       "      <td>2142.37</td>\n",
       "      <td>3360.01</td>\n",
       "      <td>18577.26</td>\n",
       "    </tr>\n",
       "  </tbody>\n",
       "</table>\n",
       "</div>"
      ],
      "text/plain": [
       "               spx      dax     ftse    nikkei\n",
       "date                                          \n",
       "1994-01-07  469.90  2224.95  3445.98  18124.01\n",
       "1994-01-10  475.27  2225.00  3440.58  18443.44\n",
       "1994-01-11  474.13  2228.10  3413.77  18485.25\n",
       "1994-01-12  474.17  2182.06  3372.02  18793.88\n",
       "1994-01-13  472.47  2142.37  3360.01  18577.26"
      ]
     },
     "execution_count": 16,
     "metadata": {},
     "output_type": "execute_result"
    }
   ],
   "source": [
    "df.head()"
   ]
  },
  {
   "cell_type": "markdown",
   "id": "099811a3",
   "metadata": {},
   "source": [
    "### Handling any missing value"
   ]
  },
  {
   "cell_type": "code",
   "execution_count": 17,
   "id": "4856f81a",
   "metadata": {},
   "outputs": [
    {
     "data": {
      "text/plain": [
       "spx       8\n",
       "dax       8\n",
       "ftse      8\n",
       "nikkei    8\n",
       "dtype: int64"
      ]
     },
     "execution_count": 17,
     "metadata": {},
     "output_type": "execute_result"
    }
   ],
   "source": [
    "df.isna().sum()"
   ]
  },
  {
   "cell_type": "code",
   "execution_count": 18,
   "id": "f7e4d90f",
   "metadata": {},
   "outputs": [],
   "source": [
    "df.fillna(method='ffill',inplace=True)"
   ]
  },
  {
   "cell_type": "code",
   "execution_count": 19,
   "id": "83a2ee8b",
   "metadata": {},
   "outputs": [
    {
     "data": {
      "text/plain": [
       "spx       0\n",
       "dax       0\n",
       "ftse      0\n",
       "nikkei    0\n",
       "dtype: int64"
      ]
     },
     "execution_count": 19,
     "metadata": {},
     "output_type": "execute_result"
    }
   ],
   "source": [
    "df.isna().sum()"
   ]
  },
  {
   "cell_type": "code",
   "execution_count": 20,
   "id": "772ecae4",
   "metadata": {},
   "outputs": [],
   "source": [
    "df2 = df.copy()"
   ]
  },
  {
   "cell_type": "code",
   "execution_count": 21,
   "id": "ea63db60",
   "metadata": {},
   "outputs": [],
   "source": [
    "df3 = df.copy()"
   ]
  },
  {
   "cell_type": "markdown",
   "id": "48941532",
   "metadata": {},
   "source": [
    "## Simplifing the dataset"
   ]
  },
  {
   "cell_type": "code",
   "execution_count": 22,
   "id": "ac21e292",
   "metadata": {},
   "outputs": [],
   "source": [
    "df['Market Value'] = df.spx"
   ]
  },
  {
   "cell_type": "code",
   "execution_count": 23,
   "id": "2a9ee613",
   "metadata": {},
   "outputs": [
    {
     "data": {
      "text/html": [
       "<div>\n",
       "<style scoped>\n",
       "    .dataframe tbody tr th:only-of-type {\n",
       "        vertical-align: middle;\n",
       "    }\n",
       "\n",
       "    .dataframe tbody tr th {\n",
       "        vertical-align: top;\n",
       "    }\n",
       "\n",
       "    .dataframe thead th {\n",
       "        text-align: right;\n",
       "    }\n",
       "</style>\n",
       "<table border=\"1\" class=\"dataframe\">\n",
       "  <thead>\n",
       "    <tr style=\"text-align: right;\">\n",
       "      <th></th>\n",
       "      <th>spx</th>\n",
       "      <th>dax</th>\n",
       "      <th>ftse</th>\n",
       "      <th>nikkei</th>\n",
       "      <th>Market Value</th>\n",
       "    </tr>\n",
       "  </thead>\n",
       "  <tbody>\n",
       "    <tr>\n",
       "      <th>count</th>\n",
       "      <td>6277.000000</td>\n",
       "      <td>6277.000000</td>\n",
       "      <td>6277.000000</td>\n",
       "      <td>6277.000000</td>\n",
       "      <td>6277.000000</td>\n",
       "    </tr>\n",
       "    <tr>\n",
       "      <th>mean</th>\n",
       "      <td>1288.642547</td>\n",
       "      <td>6083.381061</td>\n",
       "      <td>5423.679824</td>\n",
       "      <td>14597.672753</td>\n",
       "      <td>1288.642547</td>\n",
       "    </tr>\n",
       "    <tr>\n",
       "      <th>std</th>\n",
       "      <td>487.868210</td>\n",
       "      <td>2755.563853</td>\n",
       "      <td>1145.616719</td>\n",
       "      <td>4043.795272</td>\n",
       "      <td>487.868210</td>\n",
       "    </tr>\n",
       "    <tr>\n",
       "      <th>min</th>\n",
       "      <td>438.920000</td>\n",
       "      <td>1911.700000</td>\n",
       "      <td>2876.600000</td>\n",
       "      <td>7054.980000</td>\n",
       "      <td>438.920000</td>\n",
       "    </tr>\n",
       "    <tr>\n",
       "      <th>25%</th>\n",
       "      <td>992.715221</td>\n",
       "      <td>4070.460000</td>\n",
       "      <td>4486.730000</td>\n",
       "      <td>10701.130000</td>\n",
       "      <td>992.715221</td>\n",
       "    </tr>\n",
       "    <tr>\n",
       "      <th>50%</th>\n",
       "      <td>1233.761241</td>\n",
       "      <td>5774.260000</td>\n",
       "      <td>5663.300000</td>\n",
       "      <td>15030.510000</td>\n",
       "      <td>1233.761241</td>\n",
       "    </tr>\n",
       "    <tr>\n",
       "      <th>75%</th>\n",
       "      <td>1460.250000</td>\n",
       "      <td>7445.560000</td>\n",
       "      <td>6304.630175</td>\n",
       "      <td>17860.470000</td>\n",
       "      <td>1460.250000</td>\n",
       "    </tr>\n",
       "    <tr>\n",
       "      <th>max</th>\n",
       "      <td>2872.867839</td>\n",
       "      <td>13559.600000</td>\n",
       "      <td>7778.637689</td>\n",
       "      <td>24124.150000</td>\n",
       "      <td>2872.867839</td>\n",
       "    </tr>\n",
       "  </tbody>\n",
       "</table>\n",
       "</div>"
      ],
      "text/plain": [
       "               spx           dax         ftse        nikkei  Market Value\n",
       "count  6277.000000   6277.000000  6277.000000   6277.000000   6277.000000\n",
       "mean   1288.642547   6083.381061  5423.679824  14597.672753   1288.642547\n",
       "std     487.868210   2755.563853  1145.616719   4043.795272    487.868210\n",
       "min     438.920000   1911.700000  2876.600000   7054.980000    438.920000\n",
       "25%     992.715221   4070.460000  4486.730000  10701.130000    992.715221\n",
       "50%    1233.761241   5774.260000  5663.300000  15030.510000   1233.761241\n",
       "75%    1460.250000   7445.560000  6304.630175  17860.470000   1460.250000\n",
       "max    2872.867839  13559.600000  7778.637689  24124.150000   2872.867839"
      ]
     },
     "execution_count": 23,
     "metadata": {},
     "output_type": "execute_result"
    }
   ],
   "source": [
    "df.describe()"
   ]
  },
  {
   "cell_type": "code",
   "execution_count": 24,
   "id": "42d18085",
   "metadata": {},
   "outputs": [],
   "source": [
    "df.drop(['spx','dax','ftse','nikkei'], axis=1,inplace=True)"
   ]
  },
  {
   "cell_type": "code",
   "execution_count": 25,
   "id": "f9728052",
   "metadata": {},
   "outputs": [
    {
     "data": {
      "text/html": [
       "<div>\n",
       "<style scoped>\n",
       "    .dataframe tbody tr th:only-of-type {\n",
       "        vertical-align: middle;\n",
       "    }\n",
       "\n",
       "    .dataframe tbody tr th {\n",
       "        vertical-align: top;\n",
       "    }\n",
       "\n",
       "    .dataframe thead th {\n",
       "        text-align: right;\n",
       "    }\n",
       "</style>\n",
       "<table border=\"1\" class=\"dataframe\">\n",
       "  <thead>\n",
       "    <tr style=\"text-align: right;\">\n",
       "      <th></th>\n",
       "      <th>Market Value</th>\n",
       "    </tr>\n",
       "  </thead>\n",
       "  <tbody>\n",
       "    <tr>\n",
       "      <th>count</th>\n",
       "      <td>6277.000000</td>\n",
       "    </tr>\n",
       "    <tr>\n",
       "      <th>mean</th>\n",
       "      <td>1288.642547</td>\n",
       "    </tr>\n",
       "    <tr>\n",
       "      <th>std</th>\n",
       "      <td>487.868210</td>\n",
       "    </tr>\n",
       "    <tr>\n",
       "      <th>min</th>\n",
       "      <td>438.920000</td>\n",
       "    </tr>\n",
       "    <tr>\n",
       "      <th>25%</th>\n",
       "      <td>992.715221</td>\n",
       "    </tr>\n",
       "    <tr>\n",
       "      <th>50%</th>\n",
       "      <td>1233.761241</td>\n",
       "    </tr>\n",
       "    <tr>\n",
       "      <th>75%</th>\n",
       "      <td>1460.250000</td>\n",
       "    </tr>\n",
       "    <tr>\n",
       "      <th>max</th>\n",
       "      <td>2872.867839</td>\n",
       "    </tr>\n",
       "  </tbody>\n",
       "</table>\n",
       "</div>"
      ],
      "text/plain": [
       "       Market Value\n",
       "count   6277.000000\n",
       "mean    1288.642547\n",
       "std      487.868210\n",
       "min      438.920000\n",
       "25%      992.715221\n",
       "50%     1233.761241\n",
       "75%     1460.250000\n",
       "max     2872.867839"
      ]
     },
     "execution_count": 25,
     "metadata": {},
     "output_type": "execute_result"
    }
   ],
   "source": [
    "df.describe()"
   ]
  },
  {
   "cell_type": "markdown",
   "id": "30a3508b",
   "metadata": {},
   "source": [
    "## Spliting the data"
   ]
  },
  {
   "cell_type": "code",
   "execution_count": 26,
   "id": "2a163866",
   "metadata": {},
   "outputs": [],
   "source": [
    "size = int(len(df)*0.8)"
   ]
  },
  {
   "cell_type": "code",
   "execution_count": 27,
   "id": "932a27ff",
   "metadata": {},
   "outputs": [],
   "source": [
    "df_train = df.iloc[:size]"
   ]
  },
  {
   "cell_type": "code",
   "execution_count": 28,
   "id": "45dbf4f9",
   "metadata": {},
   "outputs": [],
   "source": [
    "df_test = df.iloc[size:]"
   ]
  },
  {
   "cell_type": "code",
   "execution_count": 29,
   "id": "cacb532a",
   "metadata": {},
   "outputs": [
    {
     "data": {
      "text/html": [
       "<div>\n",
       "<style scoped>\n",
       "    .dataframe tbody tr th:only-of-type {\n",
       "        vertical-align: middle;\n",
       "    }\n",
       "\n",
       "    .dataframe tbody tr th {\n",
       "        vertical-align: top;\n",
       "    }\n",
       "\n",
       "    .dataframe thead th {\n",
       "        text-align: right;\n",
       "    }\n",
       "</style>\n",
       "<table border=\"1\" class=\"dataframe\">\n",
       "  <thead>\n",
       "    <tr style=\"text-align: right;\">\n",
       "      <th></th>\n",
       "      <th>Market Value</th>\n",
       "    </tr>\n",
       "    <tr>\n",
       "      <th>date</th>\n",
       "      <th></th>\n",
       "    </tr>\n",
       "  </thead>\n",
       "  <tbody>\n",
       "    <tr>\n",
       "      <th>2013-04-01</th>\n",
       "      <td>1562.173837</td>\n",
       "    </tr>\n",
       "    <tr>\n",
       "      <th>2013-04-02</th>\n",
       "      <td>1570.252238</td>\n",
       "    </tr>\n",
       "    <tr>\n",
       "      <th>2013-04-03</th>\n",
       "      <td>1553.686978</td>\n",
       "    </tr>\n",
       "    <tr>\n",
       "      <th>2013-04-04</th>\n",
       "      <td>1559.979316</td>\n",
       "    </tr>\n",
       "    <tr>\n",
       "      <th>2013-04-05</th>\n",
       "      <td>1553.278930</td>\n",
       "    </tr>\n",
       "  </tbody>\n",
       "</table>\n",
       "</div>"
      ],
      "text/plain": [
       "            Market Value\n",
       "date                    \n",
       "2013-04-01   1562.173837\n",
       "2013-04-02   1570.252238\n",
       "2013-04-03   1553.686978\n",
       "2013-04-04   1559.979316\n",
       "2013-04-05   1553.278930"
      ]
     },
     "execution_count": 29,
     "metadata": {},
     "output_type": "execute_result"
    }
   ],
   "source": [
    "df_train.tail()"
   ]
  },
  {
   "cell_type": "code",
   "execution_count": 30,
   "id": "0efe5df9",
   "metadata": {},
   "outputs": [
    {
     "data": {
      "text/html": [
       "<div>\n",
       "<style scoped>\n",
       "    .dataframe tbody tr th:only-of-type {\n",
       "        vertical-align: middle;\n",
       "    }\n",
       "\n",
       "    .dataframe tbody tr th {\n",
       "        vertical-align: top;\n",
       "    }\n",
       "\n",
       "    .dataframe thead th {\n",
       "        text-align: right;\n",
       "    }\n",
       "</style>\n",
       "<table border=\"1\" class=\"dataframe\">\n",
       "  <thead>\n",
       "    <tr style=\"text-align: right;\">\n",
       "      <th></th>\n",
       "      <th>Market Value</th>\n",
       "    </tr>\n",
       "    <tr>\n",
       "      <th>date</th>\n",
       "      <th></th>\n",
       "    </tr>\n",
       "  </thead>\n",
       "  <tbody>\n",
       "    <tr>\n",
       "      <th>2013-04-08</th>\n",
       "      <td>1563.071269</td>\n",
       "    </tr>\n",
       "    <tr>\n",
       "      <th>2013-04-09</th>\n",
       "      <td>1568.607909</td>\n",
       "    </tr>\n",
       "    <tr>\n",
       "      <th>2013-04-10</th>\n",
       "      <td>1587.731827</td>\n",
       "    </tr>\n",
       "    <tr>\n",
       "      <th>2013-04-11</th>\n",
       "      <td>1593.369863</td>\n",
       "    </tr>\n",
       "    <tr>\n",
       "      <th>2013-04-12</th>\n",
       "      <td>1588.854623</td>\n",
       "    </tr>\n",
       "  </tbody>\n",
       "</table>\n",
       "</div>"
      ],
      "text/plain": [
       "            Market Value\n",
       "date                    \n",
       "2013-04-08   1563.071269\n",
       "2013-04-09   1568.607909\n",
       "2013-04-10   1587.731827\n",
       "2013-04-11   1593.369863\n",
       "2013-04-12   1588.854623"
      ]
     },
     "execution_count": 30,
     "metadata": {},
     "output_type": "execute_result"
    }
   ],
   "source": [
    "df_test.head()"
   ]
  },
  {
   "cell_type": "markdown",
   "id": "3be07f0c",
   "metadata": {},
   "source": [
    "## White Noise"
   ]
  },
  {
   "cell_type": "code",
   "execution_count": 31,
   "id": "d48c7794",
   "metadata": {},
   "outputs": [],
   "source": [
    "wn = np.random.normal(loc=df['Market Value'].mean(), scale=df['Market Value'].std(), size = len(df))"
   ]
  },
  {
   "cell_type": "code",
   "execution_count": 32,
   "id": "49e18118",
   "metadata": {},
   "outputs": [],
   "source": [
    "df['wn'] = wn"
   ]
  },
  {
   "cell_type": "code",
   "execution_count": 33,
   "id": "7d55037e",
   "metadata": {},
   "outputs": [
    {
     "data": {
      "text/html": [
       "<div>\n",
       "<style scoped>\n",
       "    .dataframe tbody tr th:only-of-type {\n",
       "        vertical-align: middle;\n",
       "    }\n",
       "\n",
       "    .dataframe tbody tr th {\n",
       "        vertical-align: top;\n",
       "    }\n",
       "\n",
       "    .dataframe thead th {\n",
       "        text-align: right;\n",
       "    }\n",
       "</style>\n",
       "<table border=\"1\" class=\"dataframe\">\n",
       "  <thead>\n",
       "    <tr style=\"text-align: right;\">\n",
       "      <th></th>\n",
       "      <th>Market Value</th>\n",
       "      <th>wn</th>\n",
       "    </tr>\n",
       "  </thead>\n",
       "  <tbody>\n",
       "    <tr>\n",
       "      <th>count</th>\n",
       "      <td>6277.000000</td>\n",
       "      <td>6277.000000</td>\n",
       "    </tr>\n",
       "    <tr>\n",
       "      <th>mean</th>\n",
       "      <td>1288.642547</td>\n",
       "      <td>1296.868411</td>\n",
       "    </tr>\n",
       "    <tr>\n",
       "      <th>std</th>\n",
       "      <td>487.868210</td>\n",
       "      <td>483.781808</td>\n",
       "    </tr>\n",
       "    <tr>\n",
       "      <th>min</th>\n",
       "      <td>438.920000</td>\n",
       "      <td>-495.492127</td>\n",
       "    </tr>\n",
       "    <tr>\n",
       "      <th>25%</th>\n",
       "      <td>992.715221</td>\n",
       "      <td>977.362170</td>\n",
       "    </tr>\n",
       "    <tr>\n",
       "      <th>50%</th>\n",
       "      <td>1233.761241</td>\n",
       "      <td>1288.411317</td>\n",
       "    </tr>\n",
       "    <tr>\n",
       "      <th>75%</th>\n",
       "      <td>1460.250000</td>\n",
       "      <td>1625.581535</td>\n",
       "    </tr>\n",
       "    <tr>\n",
       "      <th>max</th>\n",
       "      <td>2872.867839</td>\n",
       "      <td>3272.734295</td>\n",
       "    </tr>\n",
       "  </tbody>\n",
       "</table>\n",
       "</div>"
      ],
      "text/plain": [
       "       Market Value           wn\n",
       "count   6277.000000  6277.000000\n",
       "mean    1288.642547  1296.868411\n",
       "std      487.868210   483.781808\n",
       "min      438.920000  -495.492127\n",
       "25%      992.715221   977.362170\n",
       "50%     1233.761241  1288.411317\n",
       "75%     1460.250000  1625.581535\n",
       "max     2872.867839  3272.734295"
      ]
     },
     "execution_count": 33,
     "metadata": {},
     "output_type": "execute_result"
    }
   ],
   "source": [
    "df.describe()"
   ]
  },
  {
   "cell_type": "code",
   "execution_count": 34,
   "id": "c5593373",
   "metadata": {},
   "outputs": [
    {
     "data": {
      "text/plain": [
       "<function matplotlib.pyplot.plot(*args, scalex=True, scaley=True, data=None, **kwargs)>"
      ]
     },
     "execution_count": 34,
     "metadata": {},
     "output_type": "execute_result"
    },
    {
     "data": {
      "image/png": "[encoded data removed]",
      "text/plain": [
       "<Figure size 1440x360 with 1 Axes>"
      ]
     },
     "metadata": {
      "needs_background": "light"
     },
     "output_type": "display_data"
    }
   ],
   "source": [
    "df.wn.plot(figsize=(20,5))\n",
    "plt.title('White noise ', size=24)\n",
    "plt.plot"
   ]
  },
  {
   "cell_type": "code",
   "execution_count": 35,
   "id": "f2a1508d",
   "metadata": {},
   "outputs": [
    {
     "data": {
      "text/plain": [
       "<function matplotlib.pyplot.plot(*args, scalex=True, scaley=True, data=None, **kwargs)>"
      ]
     },
     "execution_count": 35,
     "metadata": {},
     "output_type": "execute_result"
    },
    {
     "data": {
      "image/png": "[encoded data removed]",
      "text/plain": [
       "<Figure size 1440x360 with 1 Axes>"
      ]
     },
     "metadata": {
      "needs_background": "light"
     },
     "output_type": "display_data"
    }
   ],
   "source": [
    "df['Market Value'].plot(figsize=(20,5))\n",
    "plt.title('Market value ', size=24)\n",
    "plt.ylim(0,2300)\n",
    "plt.plot"
   ]
  },
  {
   "cell_type": "markdown",
   "id": "21ede586",
   "metadata": {},
   "source": [
    "## Random Walk"
   ]
  },
  {
   "cell_type": "code",
   "execution_count": 36,
   "id": "90344132",
   "metadata": {},
   "outputs": [],
   "source": [
    "rw = pd.read_csv('025 RandWalk.csv')\n",
    "rw.date = pd.to_datetime(rw.date, dayfirst=True)\n",
    "rw.set_index('date', inplace=True)\n",
    "rw = rw.asfreq('b')"
   ]
  },
  {
   "cell_type": "code",
   "execution_count": 37,
   "id": "ac21bd97",
   "metadata": {},
   "outputs": [
    {
     "data": {
      "text/html": [
       "<div>\n",
       "<style scoped>\n",
       "    .dataframe tbody tr th:only-of-type {\n",
       "        vertical-align: middle;\n",
       "    }\n",
       "\n",
       "    .dataframe tbody tr th {\n",
       "        vertical-align: top;\n",
       "    }\n",
       "\n",
       "    .dataframe thead th {\n",
       "        text-align: right;\n",
       "    }\n",
       "</style>\n",
       "<table border=\"1\" class=\"dataframe\">\n",
       "  <thead>\n",
       "    <tr style=\"text-align: right;\">\n",
       "      <th></th>\n",
       "      <th>price</th>\n",
       "    </tr>\n",
       "  </thead>\n",
       "  <tbody>\n",
       "    <tr>\n",
       "      <th>count</th>\n",
       "      <td>5021.000000</td>\n",
       "    </tr>\n",
       "    <tr>\n",
       "      <th>mean</th>\n",
       "      <td>1269.944293</td>\n",
       "    </tr>\n",
       "    <tr>\n",
       "      <th>std</th>\n",
       "      <td>444.216793</td>\n",
       "    </tr>\n",
       "    <tr>\n",
       "      <th>min</th>\n",
       "      <td>585.483034</td>\n",
       "    </tr>\n",
       "    <tr>\n",
       "      <th>25%</th>\n",
       "      <td>931.550429</td>\n",
       "    </tr>\n",
       "    <tr>\n",
       "      <th>50%</th>\n",
       "      <td>1156.363045</td>\n",
       "    </tr>\n",
       "    <tr>\n",
       "      <th>75%</th>\n",
       "      <td>1488.362029</td>\n",
       "    </tr>\n",
       "    <tr>\n",
       "      <th>max</th>\n",
       "      <td>2715.508720</td>\n",
       "    </tr>\n",
       "  </tbody>\n",
       "</table>\n",
       "</div>"
      ],
      "text/plain": [
       "             price\n",
       "count  5021.000000\n",
       "mean   1269.944293\n",
       "std     444.216793\n",
       "min     585.483034\n",
       "25%     931.550429\n",
       "50%    1156.363045\n",
       "75%    1488.362029\n",
       "max    2715.508720"
      ]
     },
     "execution_count": 37,
     "metadata": {},
     "output_type": "execute_result"
    }
   ],
   "source": [
    "rw.describe()"
   ]
  },
  {
   "cell_type": "code",
   "execution_count": 38,
   "id": "d4318388",
   "metadata": {},
   "outputs": [],
   "source": [
    "df['rw'] = rw.price"
   ]
  },
  {
   "cell_type": "code",
   "execution_count": 39,
   "id": "ce1ace73",
   "metadata": {
    "scrolled": true
   },
   "outputs": [
    {
     "data": {
      "text/plain": [
       "date\n",
       "1994-01-07    1122.139662\n",
       "1994-01-10    1080.347860\n",
       "1994-01-11    1082.095245\n",
       "1994-01-12    1083.639265\n",
       "1994-01-13    1067.146255\n",
       "                 ...     \n",
       "2018-01-23    2152.992143\n",
       "2018-01-24    2152.992143\n",
       "2018-01-25    2152.992143\n",
       "2018-01-26    2152.992143\n",
       "2018-01-29    2152.992143\n",
       "Freq: B, Name: rw, Length: 6277, dtype: float64"
      ]
     },
     "execution_count": 39,
     "metadata": {},
     "output_type": "execute_result"
    }
   ],
   "source": [
    "df.rw.fillna(method='ffill')"
   ]
  },
  {
   "cell_type": "code",
   "execution_count": 40,
   "id": "afff2894",
   "metadata": {
    "scrolled": true
   },
   "outputs": [
    {
     "data": {
      "text/plain": [
       "1256"
      ]
     },
     "execution_count": 40,
     "metadata": {},
     "output_type": "execute_result"
    }
   ],
   "source": [
    "df.rw.isna().sum()"
   ]
  },
  {
   "cell_type": "code",
   "execution_count": 41,
   "id": "2f4bd537",
   "metadata": {},
   "outputs": [
    {
     "data": {
      "image/png": "[encoded data removed]",
      "text/plain": [
       "<Figure size 1440x360 with 1 Axes>"
      ]
     },
     "metadata": {
      "needs_background": "light"
     },
     "output_type": "display_data"
    }
   ],
   "source": [
    "df.rw.plot(figsize=(20,5))\n",
    "plt.title('Random Walk', size=24)\n",
    "plt.show()"
   ]
  },
  {
   "cell_type": "code",
   "execution_count": 42,
   "id": "c815ad7b",
   "metadata": {},
   "outputs": [
    {
     "data": {
      "image/png": "[encoded data removed]",
      "text/plain": [
       "<Figure size 1440x360 with 1 Axes>"
      ]
     },
     "metadata": {
      "needs_background": "light"
     },
     "output_type": "display_data"
    }
   ],
   "source": [
    "df.rw.plot(figsize=(20,5))\n",
    "df['Market Value'].plot()\n",
    "plt.title('Random Walk vs market value', size=24)\n",
    "plt.show()"
   ]
  },
  {
   "cell_type": "markdown",
   "id": "b428f04b",
   "metadata": {},
   "source": [
    "## Stationarity"
   ]
  },
  {
   "cell_type": "code",
   "execution_count": 43,
   "id": "749e1edb",
   "metadata": {},
   "outputs": [],
   "source": [
    "import statsmodels.tsa.stattools as sts\n",
    "from statsmodels.tsa.seasonal import seasonal_decompose\n",
    "import seaborn as sns \n",
    "sns.set()"
   ]
  },
  {
   "cell_type": "code",
   "execution_count": 44,
   "id": "9b5dc0ab",
   "metadata": {},
   "outputs": [
    {
     "name": "stdout",
     "output_type": "stream",
     "text": [
      "Result of dickey fuller test :\n",
      "Test Statstics                   1.119499\n",
      "p-value                          0.995380\n",
      "Flags Used                      10.000000\n",
      "Number of Observation Used    6266.000000\n",
      "Critical Value (1%)             -3.431394\n",
      "Critical Value (5%)             -2.862001\n",
      "Critical Value (10%)            -2.567016\n",
      "dtype: float64\n"
     ]
    }
   ],
   "source": [
    "from statsmodels.tsa.stattools import adfuller\n",
    "\n",
    "print(\"Result of dickey fuller test :\")\n",
    "dftest = adfuller(df['Market Value'], autolag='AIC')\n",
    "\n",
    "dfoutput = pd.Series(dftest[0:4], index=['Test Statstics', 'p-value', 'Flags Used', 'Number of Observation Used'])\n",
    "for key, value in dftest[4].items():\n",
    "    dfoutput[\"Critical Value (%s)\"%key] = value\n",
    "    \n",
    "print(dfoutput)"
   ]
  },
  {
   "cell_type": "markdown",
   "id": "df5381c9",
   "metadata": {},
   "source": [
    "p- value is 0.99 which is very high"
   ]
  },
  {
   "cell_type": "code",
   "execution_count": 45,
   "id": "448fb771",
   "metadata": {},
   "outputs": [
    {
     "name": "stdout",
     "output_type": "stream",
     "text": [
      "Result of dickey fuller test :\n",
      "Test Statstics                 -78.940284\n",
      "p-value                          0.000000\n",
      "Flags Used                       0.000000\n",
      "Number of Observation Used    6276.000000\n",
      "Critical Value (1%)             -3.431392\n",
      "Critical Value (5%)             -2.862001\n",
      "Critical Value (10%)            -2.567015\n",
      "dtype: float64\n"
     ]
    }
   ],
   "source": [
    "from statsmodels.tsa.stattools import adfuller\n",
    "\n",
    "print(\"Result of dickey fuller test :\")\n",
    "dftest = adfuller(df.wn, autolag='AIC')\n",
    "\n",
    "dfoutput = pd.Series(dftest[0:4], index=['Test Statstics', 'p-value', 'Flags Used', 'Number of Observation Used'])\n",
    "for key, value in dftest[4].items():\n",
    "    dfoutput[\"Critical Value (%s)\"%key] = value\n",
    "    \n",
    "print(dfoutput)"
   ]
  },
  {
   "cell_type": "markdown",
   "id": "5cd128ab",
   "metadata": {},
   "source": [
    "## Seasonality"
   ]
  },
  {
   "cell_type": "code",
   "execution_count": 46,
   "id": "a3b1c7a3",
   "metadata": {},
   "outputs": [
    {
     "data": {
      "image/png": "[encoded data removed]",
      "text/plain": [
       "<Figure size 432x288 with 4 Axes>"
      ]
     },
     "metadata": {},
     "output_type": "display_data"
    }
   ],
   "source": [
    "s_dec_add = seasonal_decompose(df['Market Value'], model='additive')\n",
    "s_dec_add.plot()\n",
    "plt.show()"
   ]
  },
  {
   "cell_type": "markdown",
   "id": "94bc451f",
   "metadata": {},
   "source": [
    "no seasonality"
   ]
  },
  {
   "cell_type": "markdown",
   "id": "9367378a",
   "metadata": {},
   "source": [
    "## Auto Corelation"
   ]
  },
  {
   "cell_type": "code",
   "execution_count": 47,
   "id": "134d0aab",
   "metadata": {},
   "outputs": [],
   "source": [
    "import statsmodels.graphics.tsaplots as sgt"
   ]
  },
  {
   "cell_type": "code",
   "execution_count": 48,
   "id": "6b662f6e",
   "metadata": {},
   "outputs": [
    {
     "data": {
      "image/png": "[encoded data removed]",
      "text/plain": [
       "<Figure size 432x288 with 1 Axes>"
      ]
     },
     "metadata": {},
     "output_type": "display_data"
    }
   ],
   "source": [
    "sgt.plot_acf(df['Market Value'], lags=40, zero=False)\n",
    "plt.title('ACF Market Value',size=24)\n",
    "plt.show()"
   ]
  },
  {
   "cell_type": "code",
   "execution_count": 49,
   "id": "4de8f033",
   "metadata": {},
   "outputs": [
    {
     "data": {
      "image/png": "[encoded data removed]",
      "text/plain": [
       "<Figure size 432x288 with 1 Axes>"
      ]
     },
     "metadata": {},
     "output_type": "display_data"
    }
   ],
   "source": [
    "sgt.plot_acf(df['wn'], lags=40, zero=False)\n",
    "plt.title('ACF WN',size=24)\n",
    "plt.show()"
   ]
  },
  {
   "cell_type": "markdown",
   "id": "876f6158",
   "metadata": {},
   "source": [
    "## PACF"
   ]
  },
  {
   "cell_type": "code",
   "execution_count": 50,
   "id": "1dfc34c4",
   "metadata": {},
   "outputs": [
    {
     "data": {
      "image/png": "[encoded data removed]",
      "text/plain": [
       "<Figure size 432x288 with 1 Axes>"
      ]
     },
     "metadata": {},
     "output_type": "display_data"
    }
   ],
   "source": [
    "sgt.plot_pacf(df['Market Value'], lags=40, zero=False,method='ols')\n",
    "plt.title('PACF Market Value',size=24)\n",
    "plt.show()"
   ]
  },
  {
   "cell_type": "code",
   "execution_count": 51,
   "id": "43f985c5",
   "metadata": {},
   "outputs": [
    {
     "data": {
      "image/png": "[encoded data removed]",
      "text/plain": [
       "<Figure size 432x288 with 1 Axes>"
      ]
     },
     "metadata": {},
     "output_type": "display_data"
    }
   ],
   "source": [
    "sgt.plot_pacf(df.wn, lags=40, zero=False,method='ols')\n",
    "plt.title('PACF wn',size=24)\n",
    "plt.show()"
   ]
  },
  {
   "cell_type": "code",
   "execution_count": 52,
   "id": "1457ed06",
   "metadata": {},
   "outputs": [],
   "source": [
    "# For ftse\n",
    "df2['Market_Value'] = df2.ftse"
   ]
  },
  {
   "cell_type": "code",
   "execution_count": 53,
   "id": "e150e244",
   "metadata": {},
   "outputs": [],
   "source": [
    "df2.drop(['spx','dax','ftse','nikkei'], axis=1, inplace=True)"
   ]
  },
  {
   "cell_type": "code",
   "execution_count": 54,
   "id": "fa9e456d",
   "metadata": {},
   "outputs": [
    {
     "data": {
      "text/html": [
       "<div>\n",
       "<style scoped>\n",
       "    .dataframe tbody tr th:only-of-type {\n",
       "        vertical-align: middle;\n",
       "    }\n",
       "\n",
       "    .dataframe tbody tr th {\n",
       "        vertical-align: top;\n",
       "    }\n",
       "\n",
       "    .dataframe thead th {\n",
       "        text-align: right;\n",
       "    }\n",
       "</style>\n",
       "<table border=\"1\" class=\"dataframe\">\n",
       "  <thead>\n",
       "    <tr style=\"text-align: right;\">\n",
       "      <th></th>\n",
       "      <th>Market_Value</th>\n",
       "    </tr>\n",
       "    <tr>\n",
       "      <th>date</th>\n",
       "      <th></th>\n",
       "    </tr>\n",
       "  </thead>\n",
       "  <tbody>\n",
       "    <tr>\n",
       "      <th>1994-01-07</th>\n",
       "      <td>3445.98</td>\n",
       "    </tr>\n",
       "    <tr>\n",
       "      <th>1994-01-10</th>\n",
       "      <td>3440.58</td>\n",
       "    </tr>\n",
       "    <tr>\n",
       "      <th>1994-01-11</th>\n",
       "      <td>3413.77</td>\n",
       "    </tr>\n",
       "    <tr>\n",
       "      <th>1994-01-12</th>\n",
       "      <td>3372.02</td>\n",
       "    </tr>\n",
       "    <tr>\n",
       "      <th>1994-01-13</th>\n",
       "      <td>3360.01</td>\n",
       "    </tr>\n",
       "  </tbody>\n",
       "</table>\n",
       "</div>"
      ],
      "text/plain": [
       "            Market_Value\n",
       "date                    \n",
       "1994-01-07       3445.98\n",
       "1994-01-10       3440.58\n",
       "1994-01-11       3413.77\n",
       "1994-01-12       3372.02\n",
       "1994-01-13       3360.01"
      ]
     },
     "execution_count": 54,
     "metadata": {},
     "output_type": "execute_result"
    }
   ],
   "source": [
    "df2.head()"
   ]
  },
  {
   "cell_type": "code",
   "execution_count": 55,
   "id": "7a935200",
   "metadata": {},
   "outputs": [
    {
     "data": {
      "image/png": "[encoded data removed]",
      "text/plain": [
       "<Figure size 432x288 with 1 Axes>"
      ]
     },
     "metadata": {},
     "output_type": "display_data"
    }
   ],
   "source": [
    "# ACF\n",
    "sgt.plot_acf(df2.Market_Value, zero=False, lags=40)\n",
    "plt.title('ACF Market Value',size=24)\n",
    "plt.show()"
   ]
  },
  {
   "cell_type": "code",
   "execution_count": 56,
   "id": "c1925e58",
   "metadata": {},
   "outputs": [
    {
     "data": {
      "image/png": "[encoded data removed]",
      "text/plain": [
       "<Figure size 432x288 with 1 Axes>"
      ]
     },
     "metadata": {},
     "output_type": "display_data"
    }
   ],
   "source": [
    "# PACF\n",
    "sgt.plot_pacf(df2['Market_Value'], lags=40, zero=False,method='ols')\n",
    "plt.title('PACF Market Value',size=24)\n",
    "plt.show()"
   ]
  },
  {
   "cell_type": "markdown",
   "id": "1e44726e",
   "metadata": {},
   "source": [
    "## AR Model"
   ]
  },
  {
   "cell_type": "code",
   "execution_count": 57,
   "id": "5dfa815c",
   "metadata": {},
   "outputs": [],
   "source": [
    "from statsmodels.tsa.arima_model import ARMA\n",
    "import warnings;\n",
    "warnings.simplefilter('ignore')\n",
    "from scipy.stats.distributions import chi2"
   ]
  },
  {
   "cell_type": "code",
   "execution_count": 58,
   "id": "a8d4b5ad",
   "metadata": {},
   "outputs": [],
   "source": [
    "model_ar = ARMA(df2['Market_Value'], order=(1,0))"
   ]
  },
  {
   "cell_type": "code",
   "execution_count": 59,
   "id": "fe007549",
   "metadata": {},
   "outputs": [],
   "source": [
    "result_ar = model_ar.fit()"
   ]
  },
  {
   "cell_type": "code",
   "execution_count": 60,
   "id": "ae8d4039",
   "metadata": {},
   "outputs": [
    {
     "data": {
      "text/html": [
       "<table class=\"simpletable\">\n",
       "<caption>ARMA Model Results</caption>\n",
       "<tr>\n",
       "  <th>Dep. Variable:</th>   <td>Market_Value</td>   <th>  No. Observations:  </th>    <td>6277</td>   \n",
       "</tr>\n",
       "<tr>\n",
       "  <th>Model:</th>            <td>ARMA(1, 0)</td>    <th>  Log Likelihood     </th> <td>-34438.150</td>\n",
       "</tr>\n",
       "<tr>\n",
       "  <th>Method:</th>             <td>css-mle</td>     <th>  S.D. of innovations</th>   <td>58.379</td>  \n",
       "</tr>\n",
       "<tr>\n",
       "  <th>Date:</th>          <td>Wed, 18 May 2022</td> <th>  AIC                </th>  <td>68882.300</td>\n",
       "</tr>\n",
       "<tr>\n",
       "  <th>Time:</th>              <td>09:51:02</td>     <th>  BIC                </th>  <td>68902.534</td>\n",
       "</tr>\n",
       "<tr>\n",
       "  <th>Sample:</th>           <td>01-07-1994</td>    <th>  HQIC               </th>  <td>68889.311</td>\n",
       "</tr>\n",
       "<tr>\n",
       "  <th></th>                 <td>- 01-29-2018</td>   <th>                     </th>      <td> </td>    \n",
       "</tr>\n",
       "</table>\n",
       "<table class=\"simpletable\">\n",
       "<tr>\n",
       "           <td></td>             <th>coef</th>     <th>std err</th>      <th>z</th>      <th>P>|z|</th>  <th>[0.025</th>    <th>0.975]</th>  \n",
       "</tr>\n",
       "<tr>\n",
       "  <th>const</th>              <td> 5874.8933</td> <td>  951.654</td> <td>    6.173</td> <td> 0.000</td> <td> 4009.685</td> <td> 7740.102</td>\n",
       "</tr>\n",
       "<tr>\n",
       "  <th>ar.L1.Market_Value</th> <td>    0.9991</td> <td>    0.001</td> <td> 1440.022</td> <td> 0.000</td> <td>    0.998</td> <td>    1.001</td>\n",
       "</tr>\n",
       "</table>\n",
       "<table class=\"simpletable\">\n",
       "<caption>Roots</caption>\n",
       "<tr>\n",
       "    <td></td>   <th>            Real</th>  <th>         Imaginary</th> <th>         Modulus</th>  <th>        Frequency</th>\n",
       "</tr>\n",
       "<tr>\n",
       "  <th>AR.1</th> <td>           1.0009</td> <td>          +0.0000j</td> <td>           1.0009</td> <td>           0.0000</td>\n",
       "</tr>\n",
       "</table>"
      ],
      "text/plain": [
       "<class 'statsmodels.iolib.summary.Summary'>\n",
       "\"\"\"\n",
       "                              ARMA Model Results                              \n",
       "==============================================================================\n",
       "Dep. Variable:           Market_Value   No. Observations:                 6277\n",
       "Model:                     ARMA(1, 0)   Log Likelihood              -34438.150\n",
       "Method:                       css-mle   S.D. of innovations             58.379\n",
       "Date:                Wed, 18 May 2022   AIC                          68882.300\n",
       "Time:                        09:51:02   BIC                          68902.534\n",
       "Sample:                    01-07-1994   HQIC                         68889.311\n",
       "                         - 01-29-2018                                         \n",
       "======================================================================================\n",
       "                         coef    std err          z      P>|z|      [0.025      0.975]\n",
       "--------------------------------------------------------------------------------------\n",
       "const               5874.8933    951.654      6.173      0.000    4009.685    7740.102\n",
       "ar.L1.Market_Value     0.9991      0.001   1440.022      0.000       0.998       1.001\n",
       "                                    Roots                                    \n",
       "=============================================================================\n",
       "                  Real          Imaginary           Modulus         Frequency\n",
       "-----------------------------------------------------------------------------\n",
       "AR.1            1.0009           +0.0000j            1.0009            0.0000\n",
       "-----------------------------------------------------------------------------\n",
       "\"\"\""
      ]
     },
     "execution_count": 60,
     "metadata": {},
     "output_type": "execute_result"
    }
   ],
   "source": [
    "result_ar.summary()"
   ]
  },
  {
   "cell_type": "code",
   "execution_count": 61,
   "id": "6bb566ff",
   "metadata": {},
   "outputs": [],
   "source": [
    "# AR(2)\n",
    "model_ar2 = ARMA(df2['Market_Value'], order=(2,0))"
   ]
  },
  {
   "cell_type": "code",
   "execution_count": 62,
   "id": "a5205f98",
   "metadata": {},
   "outputs": [
    {
     "data": {
      "text/html": [
       "<table class=\"simpletable\">\n",
       "<caption>ARMA Model Results</caption>\n",
       "<tr>\n",
       "  <th>Dep. Variable:</th>   <td>Market_Value</td>   <th>  No. Observations:  </th>    <td>6277</td>   \n",
       "</tr>\n",
       "<tr>\n",
       "  <th>Model:</th>            <td>ARMA(2, 0)</td>    <th>  Log Likelihood     </th> <td>-34438.006</td>\n",
       "</tr>\n",
       "<tr>\n",
       "  <th>Method:</th>             <td>css-mle</td>     <th>  S.D. of innovations</th>   <td>58.377</td>  \n",
       "</tr>\n",
       "<tr>\n",
       "  <th>Date:</th>          <td>Wed, 18 May 2022</td> <th>  AIC                </th>  <td>68884.012</td>\n",
       "</tr>\n",
       "<tr>\n",
       "  <th>Time:</th>              <td>09:51:03</td>     <th>  BIC                </th>  <td>68910.991</td>\n",
       "</tr>\n",
       "<tr>\n",
       "  <th>Sample:</th>           <td>01-07-1994</td>    <th>  HQIC               </th>  <td>68893.360</td>\n",
       "</tr>\n",
       "<tr>\n",
       "  <th></th>                 <td>- 01-29-2018</td>   <th>                     </th>      <td> </td>    \n",
       "</tr>\n",
       "</table>\n",
       "<table class=\"simpletable\">\n",
       "<tr>\n",
       "           <td></td>             <th>coef</th>     <th>std err</th>      <th>z</th>      <th>P>|z|</th>  <th>[0.025</th>    <th>0.975]</th>  \n",
       "</tr>\n",
       "<tr>\n",
       "  <th>const</th>              <td> 5989.2256</td> <td> 1225.680</td> <td>    4.886</td> <td> 0.000</td> <td> 3586.938</td> <td> 8391.514</td>\n",
       "</tr>\n",
       "<tr>\n",
       "  <th>ar.L1.Market_Value</th> <td>    0.9905</td> <td>    0.013</td> <td>   79.049</td> <td> 0.000</td> <td>    0.966</td> <td>    1.015</td>\n",
       "</tr>\n",
       "<tr>\n",
       "  <th>ar.L2.Market_Value</th> <td>    0.0087</td> <td>    0.013</td> <td>    0.694</td> <td> 0.488</td> <td>   -0.016</td> <td>    0.033</td>\n",
       "</tr>\n",
       "</table>\n",
       "<table class=\"simpletable\">\n",
       "<caption>Roots</caption>\n",
       "<tr>\n",
       "    <td></td>   <th>            Real</th>  <th>         Imaginary</th> <th>         Modulus</th>  <th>        Frequency</th>\n",
       "</tr>\n",
       "<tr>\n",
       "  <th>AR.1</th> <td>           1.0008</td> <td>          +0.0000j</td> <td>           1.0008</td> <td>           0.0000</td>\n",
       "</tr>\n",
       "<tr>\n",
       "  <th>AR.2</th> <td>        -114.8215</td> <td>          +0.0000j</td> <td>         114.8215</td> <td>           0.5000</td>\n",
       "</tr>\n",
       "</table>"
      ],
      "text/plain": [
       "<class 'statsmodels.iolib.summary.Summary'>\n",
       "\"\"\"\n",
       "                              ARMA Model Results                              \n",
       "==============================================================================\n",
       "Dep. Variable:           Market_Value   No. Observations:                 6277\n",
       "Model:                     ARMA(2, 0)   Log Likelihood              -34438.006\n",
       "Method:                       css-mle   S.D. of innovations             58.377\n",
       "Date:                Wed, 18 May 2022   AIC                          68884.012\n",
       "Time:                        09:51:03   BIC                          68910.991\n",
       "Sample:                    01-07-1994   HQIC                         68893.360\n",
       "                         - 01-29-2018                                         \n",
       "======================================================================================\n",
       "                         coef    std err          z      P>|z|      [0.025      0.975]\n",
       "--------------------------------------------------------------------------------------\n",
       "const               5989.2256   1225.680      4.886      0.000    3586.938    8391.514\n",
       "ar.L1.Market_Value     0.9905      0.013     79.049      0.000       0.966       1.015\n",
       "ar.L2.Market_Value     0.0087      0.013      0.694      0.488      -0.016       0.033\n",
       "                                    Roots                                    \n",
       "=============================================================================\n",
       "                  Real          Imaginary           Modulus         Frequency\n",
       "-----------------------------------------------------------------------------\n",
       "AR.1            1.0008           +0.0000j            1.0008            0.0000\n",
       "AR.2         -114.8215           +0.0000j          114.8215            0.5000\n",
       "-----------------------------------------------------------------------------\n",
       "\"\"\""
      ]
     },
     "execution_count": 62,
     "metadata": {},
     "output_type": "execute_result"
    }
   ],
   "source": [
    "result_ar2 = model_ar2.fit()\n",
    "result_ar2.summary()"
   ]
  },
  {
   "cell_type": "code",
   "execution_count": 63,
   "id": "4230916e",
   "metadata": {},
   "outputs": [
    {
     "data": {
      "text/html": [
       "<table class=\"simpletable\">\n",
       "<caption>ARMA Model Results</caption>\n",
       "<tr>\n",
       "  <th>Dep. Variable:</th>   <td>Market_Value</td>   <th>  No. Observations:  </th>    <td>6277</td>   \n",
       "</tr>\n",
       "<tr>\n",
       "  <th>Model:</th>            <td>ARMA(3, 0)</td>    <th>  Log Likelihood     </th> <td>-34430.861</td>\n",
       "</tr>\n",
       "<tr>\n",
       "  <th>Method:</th>             <td>css-mle</td>     <th>  S.D. of innovations</th>   <td>58.311</td>  \n",
       "</tr>\n",
       "<tr>\n",
       "  <th>Date:</th>          <td>Wed, 18 May 2022</td> <th>  AIC                </th>  <td>68871.722</td>\n",
       "</tr>\n",
       "<tr>\n",
       "  <th>Time:</th>              <td>09:51:04</td>     <th>  BIC                </th>  <td>68905.445</td>\n",
       "</tr>\n",
       "<tr>\n",
       "  <th>Sample:</th>           <td>01-07-1994</td>    <th>  HQIC               </th>  <td>68883.406</td>\n",
       "</tr>\n",
       "<tr>\n",
       "  <th></th>                 <td>- 01-29-2018</td>   <th>                     </th>      <td> </td>    \n",
       "</tr>\n",
       "</table>\n",
       "<table class=\"simpletable\">\n",
       "<tr>\n",
       "           <td></td>             <th>coef</th>     <th>std err</th>      <th>z</th>      <th>P>|z|</th>  <th>[0.025</th>    <th>0.975]</th>  \n",
       "</tr>\n",
       "<tr>\n",
       "  <th>const</th>              <td> 5771.3664</td> <td>  862.368</td> <td>    6.692</td> <td> 0.000</td> <td> 4081.156</td> <td> 7461.577</td>\n",
       "</tr>\n",
       "<tr>\n",
       "  <th>ar.L1.Market_Value</th> <td>    0.9901</td> <td>    0.013</td> <td>   79.014</td> <td> 0.000</td> <td>    0.966</td> <td>    1.015</td>\n",
       "</tr>\n",
       "<tr>\n",
       "  <th>ar.L2.Market_Value</th> <td>   -0.0380</td> <td>    0.018</td> <td>   -2.150</td> <td> 0.032</td> <td>   -0.073</td> <td>   -0.003</td>\n",
       "</tr>\n",
       "<tr>\n",
       "  <th>ar.L3.Market_Value</th> <td>    0.0472</td> <td>    0.013</td> <td>    3.739</td> <td> 0.000</td> <td>    0.022</td> <td>    0.072</td>\n",
       "</tr>\n",
       "</table>\n",
       "<table class=\"simpletable\">\n",
       "<caption>Roots</caption>\n",
       "<tr>\n",
       "    <td></td>   <th>            Real</th>  <th>         Imaginary</th> <th>         Modulus</th>  <th>        Frequency</th>\n",
       "</tr>\n",
       "<tr>\n",
       "  <th>AR.1</th> <td>           1.0008</td> <td>          -0.0000j</td> <td>           1.0008</td> <td>          -0.0000</td>\n",
       "</tr>\n",
       "<tr>\n",
       "  <th>AR.2</th> <td>          -0.0970</td> <td>          -4.6023j</td> <td>           4.6033</td> <td>          -0.2534</td>\n",
       "</tr>\n",
       "<tr>\n",
       "  <th>AR.3</th> <td>          -0.0970</td> <td>          +4.6023j</td> <td>           4.6033</td> <td>           0.2534</td>\n",
       "</tr>\n",
       "</table>"
      ],
      "text/plain": [
       "<class 'statsmodels.iolib.summary.Summary'>\n",
       "\"\"\"\n",
       "                              ARMA Model Results                              \n",
       "==============================================================================\n",
       "Dep. Variable:           Market_Value   No. Observations:                 6277\n",
       "Model:                     ARMA(3, 0)   Log Likelihood              -34430.861\n",
       "Method:                       css-mle   S.D. of innovations             58.311\n",
       "Date:                Wed, 18 May 2022   AIC                          68871.722\n",
       "Time:                        09:51:04   BIC                          68905.445\n",
       "Sample:                    01-07-1994   HQIC                         68883.406\n",
       "                         - 01-29-2018                                         \n",
       "======================================================================================\n",
       "                         coef    std err          z      P>|z|      [0.025      0.975]\n",
       "--------------------------------------------------------------------------------------\n",
       "const               5771.3664    862.368      6.692      0.000    4081.156    7461.577\n",
       "ar.L1.Market_Value     0.9901      0.013     79.014      0.000       0.966       1.015\n",
       "ar.L2.Market_Value    -0.0380      0.018     -2.150      0.032      -0.073      -0.003\n",
       "ar.L3.Market_Value     0.0472      0.013      3.739      0.000       0.022       0.072\n",
       "                                    Roots                                    \n",
       "=============================================================================\n",
       "                  Real          Imaginary           Modulus         Frequency\n",
       "-----------------------------------------------------------------------------\n",
       "AR.1            1.0008           -0.0000j            1.0008           -0.0000\n",
       "AR.2           -0.0970           -4.6023j            4.6033           -0.2534\n",
       "AR.3           -0.0970           +4.6023j            4.6033            0.2534\n",
       "-----------------------------------------------------------------------------\n",
       "\"\"\""
      ]
     },
     "execution_count": 63,
     "metadata": {},
     "output_type": "execute_result"
    }
   ],
   "source": [
    "# AR(3)\n",
    "model_ar3 = ARMA(df2['Market_Value'], order=(3,0))\n",
    "result_ar3 = model_ar3.fit()\n",
    "result_ar3.summary()"
   ]
  },
  {
   "cell_type": "code",
   "execution_count": 64,
   "id": "1442030f",
   "metadata": {},
   "outputs": [
    {
     "data": {
      "text/html": [
       "<table class=\"simpletable\">\n",
       "<caption>ARMA Model Results</caption>\n",
       "<tr>\n",
       "  <th>Dep. Variable:</th>   <td>Market_Value</td>   <th>  No. Observations:  </th>    <td>6277</td>   \n",
       "</tr>\n",
       "<tr>\n",
       "  <th>Model:</th>            <td>ARMA(4, 0)</td>    <th>  Log Likelihood     </th> <td>-34421.635</td>\n",
       "</tr>\n",
       "<tr>\n",
       "  <th>Method:</th>             <td>css-mle</td>     <th>  S.D. of innovations</th>   <td>58.226</td>  \n",
       "</tr>\n",
       "<tr>\n",
       "  <th>Date:</th>          <td>Wed, 18 May 2022</td> <th>  AIC                </th>  <td>68855.270</td>\n",
       "</tr>\n",
       "<tr>\n",
       "  <th>Time:</th>              <td>09:51:06</td>     <th>  BIC                </th>  <td>68895.738</td>\n",
       "</tr>\n",
       "<tr>\n",
       "  <th>Sample:</th>           <td>01-07-1994</td>    <th>  HQIC               </th>  <td>68869.291</td>\n",
       "</tr>\n",
       "<tr>\n",
       "  <th></th>                 <td>- 01-29-2018</td>   <th>                     </th>      <td> </td>    \n",
       "</tr>\n",
       "</table>\n",
       "<table class=\"simpletable\">\n",
       "<tr>\n",
       "           <td></td>             <th>coef</th>     <th>std err</th>      <th>z</th>      <th>P>|z|</th>  <th>[0.025</th>    <th>0.975]</th>  \n",
       "</tr>\n",
       "<tr>\n",
       "  <th>const</th>              <td> 5423.6805</td> <td>  757.479</td> <td>    7.160</td> <td> 0.000</td> <td> 3939.049</td> <td> 6908.312</td>\n",
       "</tr>\n",
       "<tr>\n",
       "  <th>ar.L1.Market_Value</th> <td>    0.9875</td> <td>    0.013</td> <td>   78.870</td> <td> 0.000</td> <td>    0.963</td> <td>    1.012</td>\n",
       "</tr>\n",
       "<tr>\n",
       "  <th>ar.L2.Market_Value</th> <td>   -0.0360</td> <td>    0.018</td> <td>   -2.037</td> <td> 0.042</td> <td>   -0.071</td> <td>   -0.001</td>\n",
       "</tr>\n",
       "<tr>\n",
       "  <th>ar.L3.Market_Value</th> <td>   -0.0062</td> <td>    0.018</td> <td>   -0.353</td> <td> 0.724</td> <td>   -0.041</td> <td>    0.028</td>\n",
       "</tr>\n",
       "<tr>\n",
       "  <th>ar.L4.Market_Value</th> <td>    0.0539</td> <td>    0.013</td> <td>    4.278</td> <td> 0.000</td> <td>    0.029</td> <td>    0.079</td>\n",
       "</tr>\n",
       "</table>\n",
       "<table class=\"simpletable\">\n",
       "<caption>Roots</caption>\n",
       "<tr>\n",
       "    <td></td>   <th>            Real</th>  <th>         Imaginary</th> <th>         Modulus</th>  <th>        Frequency</th>\n",
       "</tr>\n",
       "<tr>\n",
       "  <th>AR.1</th> <td>           1.0007</td> <td>          -0.0000j</td> <td>           1.0007</td> <td>          -0.0000</td>\n",
       "</tr>\n",
       "<tr>\n",
       "  <th>AR.2</th> <td>           1.0305</td> <td>          -2.2864j</td> <td>           2.5079</td> <td>          -0.1826</td>\n",
       "</tr>\n",
       "<tr>\n",
       "  <th>AR.3</th> <td>           1.0305</td> <td>          +2.2864j</td> <td>           2.5079</td> <td>           0.1826</td>\n",
       "</tr>\n",
       "<tr>\n",
       "  <th>AR.4</th> <td>          -2.9459</td> <td>          -0.0000j</td> <td>           2.9459</td> <td>          -0.5000</td>\n",
       "</tr>\n",
       "</table>"
      ],
      "text/plain": [
       "<class 'statsmodels.iolib.summary.Summary'>\n",
       "\"\"\"\n",
       "                              ARMA Model Results                              \n",
       "==============================================================================\n",
       "Dep. Variable:           Market_Value   No. Observations:                 6277\n",
       "Model:                     ARMA(4, 0)   Log Likelihood              -34421.635\n",
       "Method:                       css-mle   S.D. of innovations             58.226\n",
       "Date:                Wed, 18 May 2022   AIC                          68855.270\n",
       "Time:                        09:51:06   BIC                          68895.738\n",
       "Sample:                    01-07-1994   HQIC                         68869.291\n",
       "                         - 01-29-2018                                         \n",
       "======================================================================================\n",
       "                         coef    std err          z      P>|z|      [0.025      0.975]\n",
       "--------------------------------------------------------------------------------------\n",
       "const               5423.6805    757.479      7.160      0.000    3939.049    6908.312\n",
       "ar.L1.Market_Value     0.9875      0.013     78.870      0.000       0.963       1.012\n",
       "ar.L2.Market_Value    -0.0360      0.018     -2.037      0.042      -0.071      -0.001\n",
       "ar.L3.Market_Value    -0.0062      0.018     -0.353      0.724      -0.041       0.028\n",
       "ar.L4.Market_Value     0.0539      0.013      4.278      0.000       0.029       0.079\n",
       "                                    Roots                                    \n",
       "=============================================================================\n",
       "                  Real          Imaginary           Modulus         Frequency\n",
       "-----------------------------------------------------------------------------\n",
       "AR.1            1.0007           -0.0000j            1.0007           -0.0000\n",
       "AR.2            1.0305           -2.2864j            2.5079           -0.1826\n",
       "AR.3            1.0305           +2.2864j            2.5079            0.1826\n",
       "AR.4           -2.9459           -0.0000j            2.9459           -0.5000\n",
       "-----------------------------------------------------------------------------\n",
       "\"\"\""
      ]
     },
     "execution_count": 64,
     "metadata": {},
     "output_type": "execute_result"
    }
   ],
   "source": [
    "# AR(4)\n",
    "model_ar4 = ARMA(df2['Market_Value'], order=(4,0))\n",
    "result_ar4 = model_ar4.fit()\n",
    "result_ar4.summary()"
   ]
  },
  {
   "cell_type": "markdown",
   "id": "2fd7cd48",
   "metadata": {},
   "source": [
    "## LLR Test"
   ]
  },
  {
   "cell_type": "code",
   "execution_count": 65,
   "id": "4880818e",
   "metadata": {},
   "outputs": [],
   "source": [
    "def LLR_test(mod1,mod2,DF=1):\n",
    "    L1 = mod1.fit().llf\n",
    "    L2 = mod2.fit().llf\n",
    "    LR = (2*(L2-L1))\n",
    "    p = chi2.sf(LR,DF).round(3)\n",
    "    return p"
   ]
  },
  {
   "cell_type": "code",
   "execution_count": 66,
   "id": "92df53e3",
   "metadata": {},
   "outputs": [
    {
     "data": {
      "text/plain": [
       "0.0"
      ]
     },
     "execution_count": 66,
     "metadata": {},
     "output_type": "execute_result"
    }
   ],
   "source": [
    "# Comparison of model with higer lag using log likelyhood test\n",
    "LLR_test(model_ar2,model_ar3)"
   ]
  },
  {
   "cell_type": "code",
   "execution_count": 67,
   "id": "fe817019",
   "metadata": {},
   "outputs": [
    {
     "data": {
      "text/plain": [
       "0.0"
      ]
     },
     "execution_count": 67,
     "metadata": {},
     "output_type": "execute_result"
    }
   ],
   "source": [
    "LLR_test(model_ar3,model_ar4)"
   ]
  },
  {
   "cell_type": "markdown",
   "id": "b8f0ff84",
   "metadata": {},
   "source": [
    "## This data Still not stationary so it is difficult for AR model to make correct prediction"
   ]
  },
  {
   "cell_type": "markdown",
   "id": "449ec699",
   "metadata": {},
   "source": [
    "## Using Returns"
   ]
  },
  {
   "cell_type": "code",
   "execution_count": 68,
   "id": "974f4764",
   "metadata": {},
   "outputs": [],
   "source": [
    "df['Returns'] = df['Market Value'].pct_change().mul(100)\n",
    "df = df.iloc[1:]"
   ]
  },
  {
   "cell_type": "code",
   "execution_count": 69,
   "id": "e675c820",
   "metadata": {},
   "outputs": [
    {
     "data": {
      "text/plain": [
       "(-14.173447277641333,\n",
       " 1.9848251568204171e-26,\n",
       " 34,\n",
       " 6241,\n",
       " {'1%': -3.431398228116075,\n",
       "  '5%': -2.8620032237533897,\n",
       "  '10%': -2.5670165710764503},\n",
       " 19221.15032513027)"
      ]
     },
     "execution_count": 69,
     "metadata": {},
     "output_type": "execute_result"
    }
   ],
   "source": [
    "sts.adfuller(df.Returns)"
   ]
  },
  {
   "cell_type": "markdown",
   "id": "2c2f631e",
   "metadata": {},
   "source": [
    " Here p is less 5% than so it is stationary  exactly which is why we turn from prices to return"
   ]
  },
  {
   "cell_type": "markdown",
   "id": "2ddafe3d",
   "metadata": {},
   "source": [
    "## ACF and PACF Returns"
   ]
  },
  {
   "cell_type": "code",
   "execution_count": 70,
   "id": "4d55d2b6",
   "metadata": {},
   "outputs": [
    {
     "data": {
      "image/png": "[encoded data removed]",
      "text/plain": [
       "<Figure size 432x288 with 1 Axes>"
      ]
     },
     "metadata": {},
     "output_type": "display_data"
    }
   ],
   "source": [
    "# ACF\n",
    "sgt.plot_acf(df.Returns, zero=False, lags=40)\n",
    "plt.title('ACF FTSE Return',size=24)\n",
    "plt.show()"
   ]
  },
  {
   "cell_type": "code",
   "execution_count": 71,
   "id": "8d74f4a7",
   "metadata": {},
   "outputs": [
    {
     "data": {
      "image/png": "[encoded data removed]",
      "text/plain": [
       "<Figure size 432x288 with 1 Axes>"
      ]
     },
     "metadata": {},
     "output_type": "display_data"
    }
   ],
   "source": [
    "# PACF\n",
    "sgt.plot_pacf(df.Returns, lags=40, zero=False,method='ols')\n",
    "plt.title('PACF Returns',size=24)\n",
    "plt.show()"
   ]
  },
  {
   "cell_type": "code",
   "execution_count": 72,
   "id": "6b2fbfd5",
   "metadata": {},
   "outputs": [],
   "source": [
    "# AR(1) Returns\n",
    "model_ret_ar1 = ARMA(df.Returns, order = (1,0))\n",
    "result_ret_ar1 = model_ret_ar1.fit()"
   ]
  },
  {
   "cell_type": "code",
   "execution_count": 73,
   "id": "c3d95ce8",
   "metadata": {},
   "outputs": [
    {
     "name": "stdout",
     "output_type": "stream",
     "text": [
      "                              ARMA Model Results                              \n",
      "==============================================================================\n",
      "Dep. Variable:                Returns   No. Observations:                 6276\n",
      "Model:                     ARMA(1, 0)   Log Likelihood               -9667.195\n",
      "Method:                       css-mle   S.D. of innovations              1.129\n",
      "Date:                Wed, 18 May 2022   AIC                          19340.391\n",
      "Time:                        09:51:13   BIC                          19360.624\n",
      "Sample:                    01-10-1994   HQIC                         19347.401\n",
      "                         - 01-29-2018                                         \n",
      "=================================================================================\n",
      "                    coef    std err          z      P>|z|      [0.025      0.975]\n",
      "---------------------------------------------------------------------------------\n",
      "const             0.0352      0.013      2.632      0.009       0.009       0.061\n",
      "ar.L1.Returns    -0.0670      0.013     -5.320      0.000      -0.092      -0.042\n",
      "                                    Roots                                    \n",
      "=============================================================================\n",
      "                  Real          Imaginary           Modulus         Frequency\n",
      "-----------------------------------------------------------------------------\n",
      "AR.1          -14.9233           +0.0000j           14.9233            0.5000\n",
      "-----------------------------------------------------------------------------\n"
     ]
    }
   ],
   "source": [
    "print(result_ret_ar1.summary())"
   ]
  },
  {
   "cell_type": "code",
   "execution_count": 74,
   "id": "bbf23844",
   "metadata": {},
   "outputs": [
    {
     "data": {
      "text/html": [
       "<table class=\"simpletable\">\n",
       "<caption>ARMA Model Results</caption>\n",
       "<tr>\n",
       "  <th>Dep. Variable:</th>      <td>Returns</td>     <th>  No. Observations:  </th>   <td>6276</td>   \n",
       "</tr>\n",
       "<tr>\n",
       "  <th>Model:</th>            <td>ARMA(2, 0)</td>    <th>  Log Likelihood     </th> <td>-9661.970</td>\n",
       "</tr>\n",
       "<tr>\n",
       "  <th>Method:</th>             <td>css-mle</td>     <th>  S.D. of innovations</th>   <td>1.128</td>  \n",
       "</tr>\n",
       "<tr>\n",
       "  <th>Date:</th>          <td>Wed, 18 May 2022</td> <th>  AIC                </th> <td>19331.940</td>\n",
       "</tr>\n",
       "<tr>\n",
       "  <th>Time:</th>              <td>09:51:14</td>     <th>  BIC                </th> <td>19358.917</td>\n",
       "</tr>\n",
       "<tr>\n",
       "  <th>Sample:</th>           <td>01-10-1994</td>    <th>  HQIC               </th> <td>19341.287</td>\n",
       "</tr>\n",
       "<tr>\n",
       "  <th></th>                 <td>- 01-29-2018</td>   <th>                     </th>     <td> </td>    \n",
       "</tr>\n",
       "</table>\n",
       "<table class=\"simpletable\">\n",
       "<tr>\n",
       "        <td></td>           <th>coef</th>     <th>std err</th>      <th>z</th>      <th>P>|z|</th>  <th>[0.025</th>    <th>0.975]</th>  \n",
       "</tr>\n",
       "<tr>\n",
       "  <th>const</th>         <td>    0.0351</td> <td>    0.013</td> <td>    2.741</td> <td> 0.006</td> <td>    0.010</td> <td>    0.060</td>\n",
       "</tr>\n",
       "<tr>\n",
       "  <th>ar.L1.Returns</th> <td>   -0.0697</td> <td>    0.013</td> <td>   -5.529</td> <td> 0.000</td> <td>   -0.094</td> <td>   -0.045</td>\n",
       "</tr>\n",
       "<tr>\n",
       "  <th>ar.L2.Returns</th> <td>   -0.0408</td> <td>    0.013</td> <td>   -3.234</td> <td> 0.001</td> <td>   -0.066</td> <td>   -0.016</td>\n",
       "</tr>\n",
       "</table>\n",
       "<table class=\"simpletable\">\n",
       "<caption>Roots</caption>\n",
       "<tr>\n",
       "    <td></td>   <th>            Real</th>  <th>         Imaginary</th> <th>         Modulus</th>  <th>        Frequency</th>\n",
       "</tr>\n",
       "<tr>\n",
       "  <th>AR.1</th> <td>          -0.8548</td> <td>          -4.8769j</td> <td>           4.9513</td> <td>          -0.2776</td>\n",
       "</tr>\n",
       "<tr>\n",
       "  <th>AR.2</th> <td>          -0.8548</td> <td>          +4.8769j</td> <td>           4.9513</td> <td>           0.2776</td>\n",
       "</tr>\n",
       "</table>"
      ],
      "text/plain": [
       "<class 'statsmodels.iolib.summary.Summary'>\n",
       "\"\"\"\n",
       "                              ARMA Model Results                              \n",
       "==============================================================================\n",
       "Dep. Variable:                Returns   No. Observations:                 6276\n",
       "Model:                     ARMA(2, 0)   Log Likelihood               -9661.970\n",
       "Method:                       css-mle   S.D. of innovations              1.128\n",
       "Date:                Wed, 18 May 2022   AIC                          19331.940\n",
       "Time:                        09:51:14   BIC                          19358.917\n",
       "Sample:                    01-10-1994   HQIC                         19341.287\n",
       "                         - 01-29-2018                                         \n",
       "=================================================================================\n",
       "                    coef    std err          z      P>|z|      [0.025      0.975]\n",
       "---------------------------------------------------------------------------------\n",
       "const             0.0351      0.013      2.741      0.006       0.010       0.060\n",
       "ar.L1.Returns    -0.0697      0.013     -5.529      0.000      -0.094      -0.045\n",
       "ar.L2.Returns    -0.0408      0.013     -3.234      0.001      -0.066      -0.016\n",
       "                                    Roots                                    \n",
       "=============================================================================\n",
       "                  Real          Imaginary           Modulus         Frequency\n",
       "-----------------------------------------------------------------------------\n",
       "AR.1           -0.8548           -4.8769j            4.9513           -0.2776\n",
       "AR.2           -0.8548           +4.8769j            4.9513            0.2776\n",
       "-----------------------------------------------------------------------------\n",
       "\"\"\""
      ]
     },
     "execution_count": 74,
     "metadata": {},
     "output_type": "execute_result"
    }
   ],
   "source": [
    "model_ret_ar2 = ARMA(df.Returns, order=(2,0))\n",
    "result_ret_ar2 = model_ret_ar2.fit()\n",
    "result_ret_ar2.summary()"
   ]
  },
  {
   "cell_type": "code",
   "execution_count": 75,
   "id": "3a0b7b49",
   "metadata": {},
   "outputs": [
    {
     "data": {
      "text/plain": [
       "0.001"
      ]
     },
     "execution_count": 75,
     "metadata": {},
     "output_type": "execute_result"
    }
   ],
   "source": [
    "LLR_test(model_ret_ar1,model_ret_ar2)"
   ]
  },
  {
   "cell_type": "code",
   "execution_count": 76,
   "id": "1ed3bf90",
   "metadata": {},
   "outputs": [
    {
     "data": {
      "text/html": [
       "<table class=\"simpletable\">\n",
       "<caption>ARMA Model Results</caption>\n",
       "<tr>\n",
       "  <th>Dep. Variable:</th>      <td>Returns</td>     <th>  No. Observations:  </th>   <td>6276</td>   \n",
       "</tr>\n",
       "<tr>\n",
       "  <th>Model:</th>            <td>ARMA(3, 0)</td>    <th>  Log Likelihood     </th> <td>-9661.576</td>\n",
       "</tr>\n",
       "<tr>\n",
       "  <th>Method:</th>             <td>css-mle</td>     <th>  S.D. of innovations</th>   <td>1.128</td>  \n",
       "</tr>\n",
       "<tr>\n",
       "  <th>Date:</th>          <td>Wed, 18 May 2022</td> <th>  AIC                </th> <td>19333.151</td>\n",
       "</tr>\n",
       "<tr>\n",
       "  <th>Time:</th>              <td>09:51:14</td>     <th>  BIC                </th> <td>19366.874</td>\n",
       "</tr>\n",
       "<tr>\n",
       "  <th>Sample:</th>           <td>01-10-1994</td>    <th>  HQIC               </th> <td>19344.835</td>\n",
       "</tr>\n",
       "<tr>\n",
       "  <th></th>                 <td>- 01-29-2018</td>   <th>                     </th>     <td> </td>    \n",
       "</tr>\n",
       "</table>\n",
       "<table class=\"simpletable\">\n",
       "<tr>\n",
       "        <td></td>           <th>coef</th>     <th>std err</th>      <th>z</th>      <th>P>|z|</th>  <th>[0.025</th>    <th>0.975]</th>  \n",
       "</tr>\n",
       "<tr>\n",
       "  <th>const</th>         <td>    0.0351</td> <td>    0.013</td> <td>    2.771</td> <td> 0.006</td> <td>    0.010</td> <td>    0.060</td>\n",
       "</tr>\n",
       "<tr>\n",
       "  <th>ar.L1.Returns</th> <td>   -0.0702</td> <td>    0.013</td> <td>   -5.561</td> <td> 0.000</td> <td>   -0.095</td> <td>   -0.045</td>\n",
       "</tr>\n",
       "<tr>\n",
       "  <th>ar.L2.Returns</th> <td>   -0.0416</td> <td>    0.013</td> <td>   -3.288</td> <td> 0.001</td> <td>   -0.066</td> <td>   -0.017</td>\n",
       "</tr>\n",
       "<tr>\n",
       "  <th>ar.L3.Returns</th> <td>   -0.0112</td> <td>    0.013</td> <td>   -0.888</td> <td> 0.375</td> <td>   -0.036</td> <td>    0.014</td>\n",
       "</tr>\n",
       "</table>\n",
       "<table class=\"simpletable\">\n",
       "<caption>Roots</caption>\n",
       "<tr>\n",
       "    <td></td>   <th>            Real</th>  <th>         Imaginary</th> <th>         Modulus</th>  <th>        Frequency</th>\n",
       "</tr>\n",
       "<tr>\n",
       "  <th>AR.1</th> <td>           0.9008</td> <td>          -3.9217j</td> <td>           4.0238</td> <td>          -0.2141</td>\n",
       "</tr>\n",
       "<tr>\n",
       "  <th>AR.2</th> <td>           0.9008</td> <td>          +3.9217j</td> <td>           4.0238</td> <td>           0.2141</td>\n",
       "</tr>\n",
       "<tr>\n",
       "  <th>AR.3</th> <td>          -5.5108</td> <td>          -0.0000j</td> <td>           5.5108</td> <td>          -0.5000</td>\n",
       "</tr>\n",
       "</table>"
      ],
      "text/plain": [
       "<class 'statsmodels.iolib.summary.Summary'>\n",
       "\"\"\"\n",
       "                              ARMA Model Results                              \n",
       "==============================================================================\n",
       "Dep. Variable:                Returns   No. Observations:                 6276\n",
       "Model:                     ARMA(3, 0)   Log Likelihood               -9661.576\n",
       "Method:                       css-mle   S.D. of innovations              1.128\n",
       "Date:                Wed, 18 May 2022   AIC                          19333.151\n",
       "Time:                        09:51:14   BIC                          19366.874\n",
       "Sample:                    01-10-1994   HQIC                         19344.835\n",
       "                         - 01-29-2018                                         \n",
       "=================================================================================\n",
       "                    coef    std err          z      P>|z|      [0.025      0.975]\n",
       "---------------------------------------------------------------------------------\n",
       "const             0.0351      0.013      2.771      0.006       0.010       0.060\n",
       "ar.L1.Returns    -0.0702      0.013     -5.561      0.000      -0.095      -0.045\n",
       "ar.L2.Returns    -0.0416      0.013     -3.288      0.001      -0.066      -0.017\n",
       "ar.L3.Returns    -0.0112      0.013     -0.888      0.375      -0.036       0.014\n",
       "                                    Roots                                    \n",
       "=============================================================================\n",
       "                  Real          Imaginary           Modulus         Frequency\n",
       "-----------------------------------------------------------------------------\n",
       "AR.1            0.9008           -3.9217j            4.0238           -0.2141\n",
       "AR.2            0.9008           +3.9217j            4.0238            0.2141\n",
       "AR.3           -5.5108           -0.0000j            5.5108           -0.5000\n",
       "-----------------------------------------------------------------------------\n",
       "\"\"\""
      ]
     },
     "execution_count": 76,
     "metadata": {},
     "output_type": "execute_result"
    }
   ],
   "source": [
    "model_ret_ar3 = ARMA(df.Returns, order=(3,0))\n",
    "result_ret_ar3 = model_ret_ar3.fit()\n",
    "result_ret_ar3.summary()"
   ]
  },
  {
   "cell_type": "code",
   "execution_count": 77,
   "id": "0e101ea3",
   "metadata": {},
   "outputs": [
    {
     "data": {
      "text/plain": [
       "0.375"
      ]
     },
     "execution_count": 77,
     "metadata": {},
     "output_type": "execute_result"
    }
   ],
   "source": [
    "LLR_test(model_ret_ar2,model_ret_ar3)"
   ]
  },
  {
   "cell_type": "markdown",
   "id": "957c8545",
   "metadata": {},
   "source": [
    "LLR is high not good , L3retuen p value is also high again not good"
   ]
  },
  {
   "cell_type": "markdown",
   "id": "1a8844ff",
   "metadata": {},
   "source": [
    "## Normalizing Value"
   ]
  },
  {
   "cell_type": "code",
   "execution_count": 78,
   "id": "1cd7a170",
   "metadata": {},
   "outputs": [],
   "source": [
    "benchmark = df['Market Value'].iloc[0]"
   ]
  },
  {
   "cell_type": "code",
   "execution_count": 79,
   "id": "ba6099b1",
   "metadata": {},
   "outputs": [],
   "source": [
    "df['norm'] = df['Market Value'].div(benchmark).mul(100)\n"
   ]
  },
  {
   "cell_type": "code",
   "execution_count": 80,
   "id": "58d35ee1",
   "metadata": {},
   "outputs": [
    {
     "data": {
      "text/plain": [
       "(1.114325051646524,\n",
       " 0.9953370456865456,\n",
       " 10,\n",
       " 6265,\n",
       " {'1%': -3.4313942109103537,\n",
       "  '5%': -2.8620014488169447,\n",
       "  '10%': -2.5670156262352637},\n",
       " 30795.30018838447)"
      ]
     },
     "execution_count": 80,
     "metadata": {},
     "output_type": "execute_result"
    }
   ],
   "source": [
    "sts.adfuller(df.norm)"
   ]
  },
  {
   "cell_type": "markdown",
   "id": "08940c69",
   "metadata": {},
   "source": [
    "## Normalized Returns"
   ]
  },
  {
   "cell_type": "code",
   "execution_count": 81,
   "id": "2ac32da9",
   "metadata": {},
   "outputs": [
    {
     "data": {
      "text/plain": [
       "(-14.173447277641248,\n",
       " 1.984825156821058e-26,\n",
       " 34,\n",
       " 6241,\n",
       " {'1%': -3.431398228116075,\n",
       "  '5%': -2.8620032237533897,\n",
       "  '10%': -2.5670165710764503},\n",
       " 75036.80983902364)"
      ]
     },
     "execution_count": 81,
     "metadata": {},
     "output_type": "execute_result"
    }
   ],
   "source": [
    "bench_ret = df.Returns.iloc[0]\n",
    "df['norm_ret'] = df.Returns.div(bench_ret).mul(100)\n",
    "sts.adfuller(df.norm_ret)"
   ]
  },
  {
   "cell_type": "markdown",
   "id": "ec697429",
   "metadata": {},
   "source": [
    "here we can say that data is stationary as test statistics is -14 which is much less than 1% value"
   ]
  },
  {
   "cell_type": "markdown",
   "id": "232d2dc8",
   "metadata": {},
   "source": [
    "## Moving Average"
   ]
  },
  {
   "cell_type": "code",
   "execution_count": 82,
   "id": "f95174f5",
   "metadata": {},
   "outputs": [
    {
     "data": {
      "text/html": [
       "<table class=\"simpletable\">\n",
       "<caption>ARMA Model Results</caption>\n",
       "<tr>\n",
       "  <th>Dep. Variable:</th>      <td>Returns</td>     <th>  No. Observations:  </th>   <td>6275</td>   \n",
       "</tr>\n",
       "<tr>\n",
       "  <th>Model:</th>            <td>ARMA(0, 1)</td>    <th>  Log Likelihood     </th> <td>-9664.492</td>\n",
       "</tr>\n",
       "<tr>\n",
       "  <th>Method:</th>             <td>css-mle</td>     <th>  S.D. of innovations</th>   <td>1.129</td>  \n",
       "</tr>\n",
       "<tr>\n",
       "  <th>Date:</th>          <td>Wed, 18 May 2022</td> <th>  AIC                </th> <td>19334.984</td>\n",
       "</tr>\n",
       "<tr>\n",
       "  <th>Time:</th>              <td>09:51:16</td>     <th>  BIC                </th> <td>19355.217</td>\n",
       "</tr>\n",
       "<tr>\n",
       "  <th>Sample:</th>           <td>01-11-1994</td>    <th>  HQIC               </th> <td>19341.994</td>\n",
       "</tr>\n",
       "<tr>\n",
       "  <th></th>                 <td>- 01-29-2018</td>   <th>                     </th>     <td> </td>    \n",
       "</tr>\n",
       "</table>\n",
       "<table class=\"simpletable\">\n",
       "<tr>\n",
       "        <td></td>           <th>coef</th>     <th>std err</th>      <th>z</th>      <th>P>|z|</th>  <th>[0.025</th>    <th>0.975]</th>  \n",
       "</tr>\n",
       "<tr>\n",
       "  <th>const</th>         <td>    0.0350</td> <td>    0.013</td> <td>    2.648</td> <td> 0.008</td> <td>    0.009</td> <td>    0.061</td>\n",
       "</tr>\n",
       "<tr>\n",
       "  <th>ma.L1.Returns</th> <td>   -0.0727</td> <td>    0.013</td> <td>   -5.550</td> <td> 0.000</td> <td>   -0.098</td> <td>   -0.047</td>\n",
       "</tr>\n",
       "</table>\n",
       "<table class=\"simpletable\">\n",
       "<caption>Roots</caption>\n",
       "<tr>\n",
       "    <td></td>   <th>            Real</th>  <th>         Imaginary</th> <th>         Modulus</th>  <th>        Frequency</th>\n",
       "</tr>\n",
       "<tr>\n",
       "  <th>MA.1</th> <td>          13.7571</td> <td>          +0.0000j</td> <td>          13.7571</td> <td>           0.0000</td>\n",
       "</tr>\n",
       "</table>"
      ],
      "text/plain": [
       "<class 'statsmodels.iolib.summary.Summary'>\n",
       "\"\"\"\n",
       "                              ARMA Model Results                              \n",
       "==============================================================================\n",
       "Dep. Variable:                Returns   No. Observations:                 6275\n",
       "Model:                     ARMA(0, 1)   Log Likelihood               -9664.492\n",
       "Method:                       css-mle   S.D. of innovations              1.129\n",
       "Date:                Wed, 18 May 2022   AIC                          19334.984\n",
       "Time:                        09:51:16   BIC                          19355.217\n",
       "Sample:                    01-11-1994   HQIC                         19341.994\n",
       "                         - 01-29-2018                                         \n",
       "=================================================================================\n",
       "                    coef    std err          z      P>|z|      [0.025      0.975]\n",
       "---------------------------------------------------------------------------------\n",
       "const             0.0350      0.013      2.648      0.008       0.009       0.061\n",
       "ma.L1.Returns    -0.0727      0.013     -5.550      0.000      -0.098      -0.047\n",
       "                                    Roots                                    \n",
       "=============================================================================\n",
       "                  Real          Imaginary           Modulus         Frequency\n",
       "-----------------------------------------------------------------------------\n",
       "MA.1           13.7571           +0.0000j           13.7571            0.0000\n",
       "-----------------------------------------------------------------------------\n",
       "\"\"\""
      ]
     },
     "execution_count": 82,
     "metadata": {},
     "output_type": "execute_result"
    }
   ],
   "source": [
    "# MA(1)\n",
    "model_ret_ma1 = ARMA(df.Returns[1:], order=(0,1))\n",
    "result_ret_ma1 = model_ret_ma1.fit()\n",
    "result_ret_ma1.summary()"
   ]
  },
  {
   "cell_type": "code",
   "execution_count": 83,
   "id": "dc3c997f",
   "metadata": {},
   "outputs": [
    {
     "data": {
      "text/html": [
       "<table class=\"simpletable\">\n",
       "<caption>ARMA Model Results</caption>\n",
       "<tr>\n",
       "  <th>Dep. Variable:</th>      <td>Returns</td>     <th>  No. Observations:  </th>   <td>6275</td>   \n",
       "</tr>\n",
       "<tr>\n",
       "  <th>Model:</th>            <td>ARMA(0, 2)</td>    <th>  Log Likelihood     </th> <td>-9659.931</td>\n",
       "</tr>\n",
       "<tr>\n",
       "  <th>Method:</th>             <td>css-mle</td>     <th>  S.D. of innovations</th>   <td>1.128</td>  \n",
       "</tr>\n",
       "<tr>\n",
       "  <th>Date:</th>          <td>Wed, 18 May 2022</td> <th>  AIC                </th> <td>19327.862</td>\n",
       "</tr>\n",
       "<tr>\n",
       "  <th>Time:</th>              <td>09:51:16</td>     <th>  BIC                </th> <td>19354.839</td>\n",
       "</tr>\n",
       "<tr>\n",
       "  <th>Sample:</th>           <td>01-11-1994</td>    <th>  HQIC               </th> <td>19337.209</td>\n",
       "</tr>\n",
       "<tr>\n",
       "  <th></th>                 <td>- 01-29-2018</td>   <th>                     </th>     <td> </td>    \n",
       "</tr>\n",
       "</table>\n",
       "<table class=\"simpletable\">\n",
       "<tr>\n",
       "        <td></td>           <th>coef</th>     <th>std err</th>      <th>z</th>      <th>P>|z|</th>  <th>[0.025</th>    <th>0.975]</th>  \n",
       "</tr>\n",
       "<tr>\n",
       "  <th>const</th>         <td>    0.0350</td> <td>    0.013</td> <td>    2.759</td> <td> 0.006</td> <td>    0.010</td> <td>    0.060</td>\n",
       "</tr>\n",
       "<tr>\n",
       "  <th>ma.L1.Returns</th> <td>   -0.0708</td> <td>    0.013</td> <td>   -5.610</td> <td> 0.000</td> <td>   -0.096</td> <td>   -0.046</td>\n",
       "</tr>\n",
       "<tr>\n",
       "  <th>ma.L2.Returns</th> <td>   -0.0389</td> <td>    0.013</td> <td>   -3.022</td> <td> 0.003</td> <td>   -0.064</td> <td>   -0.014</td>\n",
       "</tr>\n",
       "</table>\n",
       "<table class=\"simpletable\">\n",
       "<caption>Roots</caption>\n",
       "<tr>\n",
       "    <td></td>   <th>            Real</th>  <th>         Imaginary</th> <th>         Modulus</th>  <th>        Frequency</th>\n",
       "</tr>\n",
       "<tr>\n",
       "  <th>MA.1</th> <td>           4.2420</td> <td>          +0.0000j</td> <td>           4.2420</td> <td>           0.0000</td>\n",
       "</tr>\n",
       "<tr>\n",
       "  <th>MA.2</th> <td>          -6.0620</td> <td>          +0.0000j</td> <td>           6.0620</td> <td>           0.5000</td>\n",
       "</tr>\n",
       "</table>"
      ],
      "text/plain": [
       "<class 'statsmodels.iolib.summary.Summary'>\n",
       "\"\"\"\n",
       "                              ARMA Model Results                              \n",
       "==============================================================================\n",
       "Dep. Variable:                Returns   No. Observations:                 6275\n",
       "Model:                     ARMA(0, 2)   Log Likelihood               -9659.931\n",
       "Method:                       css-mle   S.D. of innovations              1.128\n",
       "Date:                Wed, 18 May 2022   AIC                          19327.862\n",
       "Time:                        09:51:16   BIC                          19354.839\n",
       "Sample:                    01-11-1994   HQIC                         19337.209\n",
       "                         - 01-29-2018                                         \n",
       "=================================================================================\n",
       "                    coef    std err          z      P>|z|      [0.025      0.975]\n",
       "---------------------------------------------------------------------------------\n",
       "const             0.0350      0.013      2.759      0.006       0.010       0.060\n",
       "ma.L1.Returns    -0.0708      0.013     -5.610      0.000      -0.096      -0.046\n",
       "ma.L2.Returns    -0.0389      0.013     -3.022      0.003      -0.064      -0.014\n",
       "                                    Roots                                    \n",
       "=============================================================================\n",
       "                  Real          Imaginary           Modulus         Frequency\n",
       "-----------------------------------------------------------------------------\n",
       "MA.1            4.2420           +0.0000j            4.2420            0.0000\n",
       "MA.2           -6.0620           +0.0000j            6.0620            0.5000\n",
       "-----------------------------------------------------------------------------\n",
       "\"\"\""
      ]
     },
     "execution_count": 83,
     "metadata": {},
     "output_type": "execute_result"
    }
   ],
   "source": [
    "# higher lag ma(2)\n",
    "model_ret_ma2 = ARMA(df.Returns[1:], order=(0,2))\n",
    "result_ret_ma2 = model_ret_ma2.fit()\n",
    "result_ret_ma2.summary()"
   ]
  },
  {
   "cell_type": "code",
   "execution_count": 84,
   "id": "02ba4953",
   "metadata": {},
   "outputs": [
    {
     "data": {
      "text/plain": [
       "0.003"
      ]
     },
     "execution_count": 84,
     "metadata": {},
     "output_type": "execute_result"
    }
   ],
   "source": [
    "LLR_test(model_ret_ma1,model_ret_ma2)"
   ]
  },
  {
   "cell_type": "code",
   "execution_count": 85,
   "id": "7d7f8c08",
   "metadata": {},
   "outputs": [
    {
     "data": {
      "text/html": [
       "<table class=\"simpletable\">\n",
       "<caption>ARMA Model Results</caption>\n",
       "<tr>\n",
       "  <th>Dep. Variable:</th>      <td>Returns</td>     <th>  No. Observations:  </th>   <td>6275</td>   \n",
       "</tr>\n",
       "<tr>\n",
       "  <th>Model:</th>            <td>ARMA(0, 3)</td>    <th>  Log Likelihood     </th> <td>-9659.547</td>\n",
       "</tr>\n",
       "<tr>\n",
       "  <th>Method:</th>             <td>css-mle</td>     <th>  S.D. of innovations</th>   <td>1.128</td>  \n",
       "</tr>\n",
       "<tr>\n",
       "  <th>Date:</th>          <td>Wed, 18 May 2022</td> <th>  AIC                </th> <td>19329.094</td>\n",
       "</tr>\n",
       "<tr>\n",
       "  <th>Time:</th>              <td>09:51:17</td>     <th>  BIC                </th> <td>19362.816</td>\n",
       "</tr>\n",
       "<tr>\n",
       "  <th>Sample:</th>           <td>01-11-1994</td>    <th>  HQIC               </th> <td>19340.778</td>\n",
       "</tr>\n",
       "<tr>\n",
       "  <th></th>                 <td>- 01-29-2018</td>   <th>                     </th>     <td> </td>    \n",
       "</tr>\n",
       "</table>\n",
       "<table class=\"simpletable\">\n",
       "<tr>\n",
       "        <td></td>           <th>coef</th>     <th>std err</th>      <th>z</th>      <th>P>|z|</th>  <th>[0.025</th>    <th>0.975]</th>  \n",
       "</tr>\n",
       "<tr>\n",
       "  <th>const</th>         <td>    0.0350</td> <td>    0.013</td> <td>    2.795</td> <td> 0.005</td> <td>    0.010</td> <td>    0.060</td>\n",
       "</tr>\n",
       "<tr>\n",
       "  <th>ma.L1.Returns</th> <td>   -0.0707</td> <td>    0.013</td> <td>   -5.602</td> <td> 0.000</td> <td>   -0.095</td> <td>   -0.046</td>\n",
       "</tr>\n",
       "<tr>\n",
       "  <th>ma.L2.Returns</th> <td>   -0.0390</td> <td>    0.013</td> <td>   -3.026</td> <td> 0.002</td> <td>   -0.064</td> <td>   -0.014</td>\n",
       "</tr>\n",
       "<tr>\n",
       "  <th>ma.L3.Returns</th> <td>   -0.0112</td> <td>    0.013</td> <td>   -0.876</td> <td> 0.381</td> <td>   -0.036</td> <td>    0.014</td>\n",
       "</tr>\n",
       "</table>\n",
       "<table class=\"simpletable\">\n",
       "<caption>Roots</caption>\n",
       "<tr>\n",
       "    <td></td>   <th>            Real</th>  <th>         Imaginary</th> <th>         Modulus</th>  <th>        Frequency</th>\n",
       "</tr>\n",
       "<tr>\n",
       "  <th>MA.1</th> <td>           3.2109</td> <td>          -0.0000j</td> <td>           3.2109</td> <td>          -0.0000</td>\n",
       "</tr>\n",
       "<tr>\n",
       "  <th>MA.2</th> <td>          -3.3454</td> <td>          -4.0750j</td> <td>           5.2723</td> <td>          -0.3594</td>\n",
       "</tr>\n",
       "<tr>\n",
       "  <th>MA.3</th> <td>          -3.3454</td> <td>          +4.0750j</td> <td>           5.2723</td> <td>           0.3594</td>\n",
       "</tr>\n",
       "</table>"
      ],
      "text/plain": [
       "<class 'statsmodels.iolib.summary.Summary'>\n",
       "\"\"\"\n",
       "                              ARMA Model Results                              \n",
       "==============================================================================\n",
       "Dep. Variable:                Returns   No. Observations:                 6275\n",
       "Model:                     ARMA(0, 3)   Log Likelihood               -9659.547\n",
       "Method:                       css-mle   S.D. of innovations              1.128\n",
       "Date:                Wed, 18 May 2022   AIC                          19329.094\n",
       "Time:                        09:51:17   BIC                          19362.816\n",
       "Sample:                    01-11-1994   HQIC                         19340.778\n",
       "                         - 01-29-2018                                         \n",
       "=================================================================================\n",
       "                    coef    std err          z      P>|z|      [0.025      0.975]\n",
       "---------------------------------------------------------------------------------\n",
       "const             0.0350      0.013      2.795      0.005       0.010       0.060\n",
       "ma.L1.Returns    -0.0707      0.013     -5.602      0.000      -0.095      -0.046\n",
       "ma.L2.Returns    -0.0390      0.013     -3.026      0.002      -0.064      -0.014\n",
       "ma.L3.Returns    -0.0112      0.013     -0.876      0.381      -0.036       0.014\n",
       "                                    Roots                                    \n",
       "=============================================================================\n",
       "                  Real          Imaginary           Modulus         Frequency\n",
       "-----------------------------------------------------------------------------\n",
       "MA.1            3.2109           -0.0000j            3.2109           -0.0000\n",
       "MA.2           -3.3454           -4.0750j            5.2723           -0.3594\n",
       "MA.3           -3.3454           +4.0750j            5.2723            0.3594\n",
       "-----------------------------------------------------------------------------\n",
       "\"\"\""
      ]
     },
     "execution_count": 85,
     "metadata": {},
     "output_type": "execute_result"
    }
   ],
   "source": [
    "model_ret_ma3 = ARMA(df.Returns[1:], order=(0,3))\n",
    "result_ret_ma3 = model_ret_ma3.fit()\n",
    "result_ret_ma3.summary()"
   ]
  },
  {
   "cell_type": "code",
   "execution_count": 86,
   "id": "32d3edf7",
   "metadata": {},
   "outputs": [
    {
     "data": {
      "text/plain": [
       "0.381"
      ]
     },
     "execution_count": 86,
     "metadata": {},
     "output_type": "execute_result"
    }
   ],
   "source": [
    "LLR_test(model_ret_ma2,model_ret_ma3)"
   ]
  },
  {
   "cell_type": "markdown",
   "id": "b2d8b754",
   "metadata": {},
   "source": [
    "we will stop at ma2"
   ]
  },
  {
   "cell_type": "code",
   "execution_count": 87,
   "id": "a6773daf",
   "metadata": {},
   "outputs": [
    {
     "data": {
      "text/html": [
       "<table class=\"simpletable\">\n",
       "<caption>ARMA Model Results</caption>\n",
       "<tr>\n",
       "  <th>Dep. Variable:</th>      <td>Returns</td>     <th>  No. Observations:  </th>   <td>6275</td>   \n",
       "</tr>\n",
       "<tr>\n",
       "  <th>Model:</th>            <td>ARMA(0, 4)</td>    <th>  Log Likelihood     </th> <td>-9658.639</td>\n",
       "</tr>\n",
       "<tr>\n",
       "  <th>Method:</th>             <td>css-mle</td>     <th>  S.D. of innovations</th>   <td>1.128</td>  \n",
       "</tr>\n",
       "<tr>\n",
       "  <th>Date:</th>          <td>Wed, 18 May 2022</td> <th>  AIC                </th> <td>19329.278</td>\n",
       "</tr>\n",
       "<tr>\n",
       "  <th>Time:</th>              <td>09:51:19</td>     <th>  BIC                </th> <td>19369.744</td>\n",
       "</tr>\n",
       "<tr>\n",
       "  <th>Sample:</th>           <td>01-11-1994</td>    <th>  HQIC               </th> <td>19343.299</td>\n",
       "</tr>\n",
       "<tr>\n",
       "  <th></th>                 <td>- 01-29-2018</td>   <th>                     </th>     <td> </td>    \n",
       "</tr>\n",
       "</table>\n",
       "<table class=\"simpletable\">\n",
       "<tr>\n",
       "        <td></td>           <th>coef</th>     <th>std err</th>      <th>z</th>      <th>P>|z|</th>  <th>[0.025</th>    <th>0.975]</th>  \n",
       "</tr>\n",
       "<tr>\n",
       "  <th>const</th>         <td>    0.0350</td> <td>    0.012</td> <td>    2.851</td> <td> 0.004</td> <td>    0.011</td> <td>    0.059</td>\n",
       "</tr>\n",
       "<tr>\n",
       "  <th>ma.L1.Returns</th> <td>   -0.0718</td> <td>    0.013</td> <td>   -5.675</td> <td> 0.000</td> <td>   -0.097</td> <td>   -0.047</td>\n",
       "</tr>\n",
       "<tr>\n",
       "  <th>ma.L2.Returns</th> <td>   -0.0387</td> <td>    0.013</td> <td>   -3.056</td> <td> 0.002</td> <td>   -0.063</td> <td>   -0.014</td>\n",
       "</tr>\n",
       "<tr>\n",
       "  <th>ma.L3.Returns</th> <td>   -0.0110</td> <td>    0.013</td> <td>   -0.858</td> <td> 0.391</td> <td>   -0.036</td> <td>    0.014</td>\n",
       "</tr>\n",
       "<tr>\n",
       "  <th>ma.L4.Returns</th> <td>   -0.0166</td> <td>    0.012</td> <td>   -1.348</td> <td> 0.178</td> <td>   -0.041</td> <td>    0.008</td>\n",
       "</tr>\n",
       "</table>\n",
       "<table class=\"simpletable\">\n",
       "<caption>Roots</caption>\n",
       "<tr>\n",
       "    <td></td>   <th>            Real</th>  <th>         Imaginary</th> <th>         Modulus</th>  <th>        Frequency</th>\n",
       "</tr>\n",
       "<tr>\n",
       "  <th>MA.1</th> <td>           2.3264</td> <td>          -0.0000j</td> <td>           2.3264</td> <td>          -0.0000</td>\n",
       "</tr>\n",
       "<tr>\n",
       "  <th>MA.2</th> <td>          -2.8847</td> <td>          -0.0000j</td> <td>           2.8847</td> <td>          -0.5000</td>\n",
       "</tr>\n",
       "<tr>\n",
       "  <th>MA.3</th> <td>          -0.0512</td> <td>          -2.9971j</td> <td>           2.9975</td> <td>          -0.2527</td>\n",
       "</tr>\n",
       "<tr>\n",
       "  <th>MA.4</th> <td>          -0.0512</td> <td>          +2.9971j</td> <td>           2.9975</td> <td>           0.2527</td>\n",
       "</tr>\n",
       "</table>"
      ],
      "text/plain": [
       "<class 'statsmodels.iolib.summary.Summary'>\n",
       "\"\"\"\n",
       "                              ARMA Model Results                              \n",
       "==============================================================================\n",
       "Dep. Variable:                Returns   No. Observations:                 6275\n",
       "Model:                     ARMA(0, 4)   Log Likelihood               -9658.639\n",
       "Method:                       css-mle   S.D. of innovations              1.128\n",
       "Date:                Wed, 18 May 2022   AIC                          19329.278\n",
       "Time:                        09:51:19   BIC                          19369.744\n",
       "Sample:                    01-11-1994   HQIC                         19343.299\n",
       "                         - 01-29-2018                                         \n",
       "=================================================================================\n",
       "                    coef    std err          z      P>|z|      [0.025      0.975]\n",
       "---------------------------------------------------------------------------------\n",
       "const             0.0350      0.012      2.851      0.004       0.011       0.059\n",
       "ma.L1.Returns    -0.0718      0.013     -5.675      0.000      -0.097      -0.047\n",
       "ma.L2.Returns    -0.0387      0.013     -3.056      0.002      -0.063      -0.014\n",
       "ma.L3.Returns    -0.0110      0.013     -0.858      0.391      -0.036       0.014\n",
       "ma.L4.Returns    -0.0166      0.012     -1.348      0.178      -0.041       0.008\n",
       "                                    Roots                                    \n",
       "=============================================================================\n",
       "                  Real          Imaginary           Modulus         Frequency\n",
       "-----------------------------------------------------------------------------\n",
       "MA.1            2.3264           -0.0000j            2.3264           -0.0000\n",
       "MA.2           -2.8847           -0.0000j            2.8847           -0.5000\n",
       "MA.3           -0.0512           -2.9971j            2.9975           -0.2527\n",
       "MA.4           -0.0512           +2.9971j            2.9975            0.2527\n",
       "-----------------------------------------------------------------------------\n",
       "\"\"\""
      ]
     },
     "execution_count": 87,
     "metadata": {},
     "output_type": "execute_result"
    }
   ],
   "source": [
    "model_ret_ma4 = ARMA(df.Returns[1:], order=(0,4))\n",
    "result_ret_ma4 = model_ret_ma4.fit()\n",
    "result_ret_ma4.summary()"
   ]
  },
  {
   "cell_type": "markdown",
   "id": "f1081904",
   "metadata": {},
   "source": [
    "nope ma(2) is the right one"
   ]
  },
  {
   "cell_type": "code",
   "execution_count": 88,
   "id": "3929f074",
   "metadata": {},
   "outputs": [
    {
     "data": {
      "text/plain": [
       "0.178"
      ]
     },
     "execution_count": 88,
     "metadata": {},
     "output_type": "execute_result"
    }
   ],
   "source": [
    "LLR_test(model_ret_ma3,model_ret_ma4)"
   ]
  },
  {
   "cell_type": "code",
   "execution_count": 89,
   "id": "fccc46c6",
   "metadata": {},
   "outputs": [
    {
     "data": {
      "text/html": [
       "<table class=\"simpletable\">\n",
       "<caption>ARMA Model Results</caption>\n",
       "<tr>\n",
       "  <th>Dep. Variable:</th>      <td>Returns</td>     <th>  No. Observations:  </th>   <td>6275</td>   \n",
       "</tr>\n",
       "<tr>\n",
       "  <th>Model:</th>            <td>ARMA(0, 5)</td>    <th>  Log Likelihood     </th> <td>-9654.281</td>\n",
       "</tr>\n",
       "<tr>\n",
       "  <th>Method:</th>             <td>css-mle</td>     <th>  S.D. of innovations</th>   <td>1.127</td>  \n",
       "</tr>\n",
       "<tr>\n",
       "  <th>Date:</th>          <td>Wed, 18 May 2022</td> <th>  AIC                </th> <td>19322.561</td>\n",
       "</tr>\n",
       "<tr>\n",
       "  <th>Time:</th>              <td>09:51:22</td>     <th>  BIC                </th> <td>19369.772</td>\n",
       "</tr>\n",
       "<tr>\n",
       "  <th>Sample:</th>           <td>01-11-1994</td>    <th>  HQIC               </th> <td>19338.919</td>\n",
       "</tr>\n",
       "<tr>\n",
       "  <th></th>                 <td>- 01-29-2018</td>   <th>                     </th>     <td> </td>    \n",
       "</tr>\n",
       "</table>\n",
       "<table class=\"simpletable\">\n",
       "<tr>\n",
       "        <td></td>           <th>coef</th>     <th>std err</th>      <th>z</th>      <th>P>|z|</th>  <th>[0.025</th>    <th>0.975]</th>  \n",
       "</tr>\n",
       "<tr>\n",
       "  <th>const</th>         <td>    0.0350</td> <td>    0.012</td> <td>    2.966</td> <td> 0.003</td> <td>    0.012</td> <td>    0.058</td>\n",
       "</tr>\n",
       "<tr>\n",
       "  <th>ma.L1.Returns</th> <td>   -0.0720</td> <td>    0.013</td> <td>   -5.700</td> <td> 0.000</td> <td>   -0.097</td> <td>   -0.047</td>\n",
       "</tr>\n",
       "<tr>\n",
       "  <th>ma.L2.Returns</th> <td>   -0.0404</td> <td>    0.013</td> <td>   -3.188</td> <td> 0.001</td> <td>   -0.065</td> <td>   -0.016</td>\n",
       "</tr>\n",
       "<tr>\n",
       "  <th>ma.L3.Returns</th> <td>   -0.0072</td> <td>    0.013</td> <td>   -0.562</td> <td> 0.574</td> <td>   -0.032</td> <td>    0.018</td>\n",
       "</tr>\n",
       "<tr>\n",
       "  <th>ma.L4.Returns</th> <td>   -0.0149</td> <td>    0.012</td> <td>   -1.219</td> <td> 0.223</td> <td>   -0.039</td> <td>    0.009</td>\n",
       "</tr>\n",
       "<tr>\n",
       "  <th>ma.L5.Returns</th> <td>   -0.0365</td> <td>    0.012</td> <td>   -2.953</td> <td> 0.003</td> <td>   -0.061</td> <td>   -0.012</td>\n",
       "</tr>\n",
       "</table>\n",
       "<table class=\"simpletable\">\n",
       "<caption>Roots</caption>\n",
       "<tr>\n",
       "    <td></td>   <th>            Real</th>  <th>         Imaginary</th> <th>         Modulus</th>  <th>        Frequency</th>\n",
       "</tr>\n",
       "<tr>\n",
       "  <th>MA.1</th> <td>           1.7377</td> <td>          -0.0000j</td> <td>           1.7377</td> <td>          -0.0000</td>\n",
       "</tr>\n",
       "<tr>\n",
       "  <th>MA.2</th> <td>           0.5998</td> <td>          -1.8655j</td> <td>           1.9596</td> <td>          -0.2005</td>\n",
       "</tr>\n",
       "<tr>\n",
       "  <th>MA.3</th> <td>           0.5998</td> <td>          +1.8655j</td> <td>           1.9596</td> <td>           0.2005</td>\n",
       "</tr>\n",
       "<tr>\n",
       "  <th>MA.4</th> <td>          -1.6730</td> <td>          -1.1411j</td> <td>           2.0251</td> <td>          -0.4047</td>\n",
       "</tr>\n",
       "<tr>\n",
       "  <th>MA.5</th> <td>          -1.6730</td> <td>          +1.1411j</td> <td>           2.0251</td> <td>           0.4047</td>\n",
       "</tr>\n",
       "</table>"
      ],
      "text/plain": [
       "<class 'statsmodels.iolib.summary.Summary'>\n",
       "\"\"\"\n",
       "                              ARMA Model Results                              \n",
       "==============================================================================\n",
       "Dep. Variable:                Returns   No. Observations:                 6275\n",
       "Model:                     ARMA(0, 5)   Log Likelihood               -9654.281\n",
       "Method:                       css-mle   S.D. of innovations              1.127\n",
       "Date:                Wed, 18 May 2022   AIC                          19322.561\n",
       "Time:                        09:51:22   BIC                          19369.772\n",
       "Sample:                    01-11-1994   HQIC                         19338.919\n",
       "                         - 01-29-2018                                         \n",
       "=================================================================================\n",
       "                    coef    std err          z      P>|z|      [0.025      0.975]\n",
       "---------------------------------------------------------------------------------\n",
       "const             0.0350      0.012      2.966      0.003       0.012       0.058\n",
       "ma.L1.Returns    -0.0720      0.013     -5.700      0.000      -0.097      -0.047\n",
       "ma.L2.Returns    -0.0404      0.013     -3.188      0.001      -0.065      -0.016\n",
       "ma.L3.Returns    -0.0072      0.013     -0.562      0.574      -0.032       0.018\n",
       "ma.L4.Returns    -0.0149      0.012     -1.219      0.223      -0.039       0.009\n",
       "ma.L5.Returns    -0.0365      0.012     -2.953      0.003      -0.061      -0.012\n",
       "                                    Roots                                    \n",
       "=============================================================================\n",
       "                  Real          Imaginary           Modulus         Frequency\n",
       "-----------------------------------------------------------------------------\n",
       "MA.1            1.7377           -0.0000j            1.7377           -0.0000\n",
       "MA.2            0.5998           -1.8655j            1.9596           -0.2005\n",
       "MA.3            0.5998           +1.8655j            1.9596            0.2005\n",
       "MA.4           -1.6730           -1.1411j            2.0251           -0.4047\n",
       "MA.5           -1.6730           +1.1411j            2.0251            0.4047\n",
       "-----------------------------------------------------------------------------\n",
       "\"\"\""
      ]
     },
     "execution_count": 89,
     "metadata": {},
     "output_type": "execute_result"
    }
   ],
   "source": [
    "model_ret_ma5 = ARMA(df.Returns[1:], order=(0,5))\n",
    "result_ret_ma5 = model_ret_ma5.fit()\n",
    "result_ret_ma5.summary()"
   ]
  },
  {
   "cell_type": "code",
   "execution_count": 90,
   "id": "2ff6522f",
   "metadata": {},
   "outputs": [
    {
     "data": {
      "text/plain": [
       "0.003"
      ]
     },
     "execution_count": 90,
     "metadata": {},
     "output_type": "execute_result"
    }
   ],
   "source": [
    "LLR_test(model_ret_ma4,model_ret_ma5)"
   ]
  },
  {
   "cell_type": "markdown",
   "id": "9b6678f8",
   "metadata": {},
   "source": [
    "as we can see in acf return plot the 5th one is again better\n",
    "and LLR test shows the more complex model are better"
   ]
  },
  {
   "cell_type": "code",
   "execution_count": 91,
   "id": "436fe139",
   "metadata": {},
   "outputs": [
    {
     "data": {
      "text/plain": [
       "0.001"
      ]
     },
     "execution_count": 91,
     "metadata": {},
     "output_type": "execute_result"
    }
   ],
   "source": [
    "LLR_test(model_ret_ar3,model_ret_ma5,DF = 2)"
   ]
  },
  {
   "cell_type": "markdown",
   "id": "19d904b2",
   "metadata": {},
   "source": [
    "so it proves 5 is better"
   ]
  },
  {
   "cell_type": "markdown",
   "id": "d3373730",
   "metadata": {},
   "source": [
    "## ARMA Model"
   ]
  },
  {
   "cell_type": "code",
   "execution_count": 92,
   "id": "ad814a91",
   "metadata": {},
   "outputs": [
    {
     "data": {
      "text/html": [
       "<table class=\"simpletable\">\n",
       "<caption>ARMA Model Results</caption>\n",
       "<tr>\n",
       "  <th>Dep. Variable:</th>      <td>Returns</td>     <th>  No. Observations:  </th>   <td>6275</td>   \n",
       "</tr>\n",
       "<tr>\n",
       "  <th>Model:</th>            <td>ARMA(1, 1)</td>    <th>  Log Likelihood     </th> <td>-9656.802</td>\n",
       "</tr>\n",
       "<tr>\n",
       "  <th>Method:</th>             <td>css-mle</td>     <th>  S.D. of innovations</th>   <td>1.127</td>  \n",
       "</tr>\n",
       "<tr>\n",
       "  <th>Date:</th>          <td>Wed, 18 May 2022</td> <th>  AIC                </th> <td>19321.604</td>\n",
       "</tr>\n",
       "<tr>\n",
       "  <th>Time:</th>              <td>09:51:28</td>     <th>  BIC                </th> <td>19348.582</td>\n",
       "</tr>\n",
       "<tr>\n",
       "  <th>Sample:</th>           <td>01-11-1994</td>    <th>  HQIC               </th> <td>19330.952</td>\n",
       "</tr>\n",
       "<tr>\n",
       "  <th></th>                 <td>- 01-29-2018</td>   <th>                     </th>     <td> </td>    \n",
       "</tr>\n",
       "</table>\n",
       "<table class=\"simpletable\">\n",
       "<tr>\n",
       "        <td></td>           <th>coef</th>     <th>std err</th>      <th>z</th>      <th>P>|z|</th>  <th>[0.025</th>    <th>0.975]</th>  \n",
       "</tr>\n",
       "<tr>\n",
       "  <th>const</th>         <td>    0.0350</td> <td>    0.012</td> <td>    3.005</td> <td> 0.003</td> <td>    0.012</td> <td>    0.058</td>\n",
       "</tr>\n",
       "<tr>\n",
       "  <th>ar.L1.Returns</th> <td>    0.6371</td> <td>    0.086</td> <td>    7.449</td> <td> 0.000</td> <td>    0.469</td> <td>    0.805</td>\n",
       "</tr>\n",
       "<tr>\n",
       "  <th>ma.L1.Returns</th> <td>   -0.7032</td> <td>    0.079</td> <td>   -8.907</td> <td> 0.000</td> <td>   -0.858</td> <td>   -0.548</td>\n",
       "</tr>\n",
       "</table>\n",
       "<table class=\"simpletable\">\n",
       "<caption>Roots</caption>\n",
       "<tr>\n",
       "    <td></td>   <th>            Real</th>  <th>         Imaginary</th> <th>         Modulus</th>  <th>        Frequency</th>\n",
       "</tr>\n",
       "<tr>\n",
       "  <th>AR.1</th> <td>           1.5696</td> <td>          +0.0000j</td> <td>           1.5696</td> <td>           0.0000</td>\n",
       "</tr>\n",
       "<tr>\n",
       "  <th>MA.1</th> <td>           1.4221</td> <td>          +0.0000j</td> <td>           1.4221</td> <td>           0.0000</td>\n",
       "</tr>\n",
       "</table>"
      ],
      "text/plain": [
       "<class 'statsmodels.iolib.summary.Summary'>\n",
       "\"\"\"\n",
       "                              ARMA Model Results                              \n",
       "==============================================================================\n",
       "Dep. Variable:                Returns   No. Observations:                 6275\n",
       "Model:                     ARMA(1, 1)   Log Likelihood               -9656.802\n",
       "Method:                       css-mle   S.D. of innovations              1.127\n",
       "Date:                Wed, 18 May 2022   AIC                          19321.604\n",
       "Time:                        09:51:28   BIC                          19348.582\n",
       "Sample:                    01-11-1994   HQIC                         19330.952\n",
       "                         - 01-29-2018                                         \n",
       "=================================================================================\n",
       "                    coef    std err          z      P>|z|      [0.025      0.975]\n",
       "---------------------------------------------------------------------------------\n",
       "const             0.0350      0.012      3.005      0.003       0.012       0.058\n",
       "ar.L1.Returns     0.6371      0.086      7.449      0.000       0.469       0.805\n",
       "ma.L1.Returns    -0.7032      0.079     -8.907      0.000      -0.858      -0.548\n",
       "                                    Roots                                    \n",
       "=============================================================================\n",
       "                  Real          Imaginary           Modulus         Frequency\n",
       "-----------------------------------------------------------------------------\n",
       "AR.1            1.5696           +0.0000j            1.5696            0.0000\n",
       "MA.1            1.4221           +0.0000j            1.4221            0.0000\n",
       "-----------------------------------------------------------------------------\n",
       "\"\"\""
      ]
     },
     "execution_count": 92,
     "metadata": {},
     "output_type": "execute_result"
    }
   ],
   "source": [
    "model_arma = ARMA(df.Returns[1:], order=(1,1))\n",
    "result_arma = model_arma.fit()\n",
    "result_arma.summary()"
   ]
  },
  {
   "cell_type": "markdown",
   "id": "baf01a8f",
   "metadata": {},
   "source": [
    "## Higher Lag ARMA"
   ]
  },
  {
   "cell_type": "code",
   "execution_count": 93,
   "id": "e169f611",
   "metadata": {},
   "outputs": [
    {
     "data": {
      "text/html": [
       "<table class=\"simpletable\">\n",
       "<caption>ARMA Model Results</caption>\n",
       "<tr>\n",
       "  <th>Dep. Variable:</th>      <td>Returns</td>     <th>  No. Observations:  </th>   <td>6275</td>   \n",
       "</tr>\n",
       "<tr>\n",
       "  <th>Model:</th>            <td>ARMA(4, 3)</td>    <th>  Log Likelihood     </th> <td>-9647.621</td>\n",
       "</tr>\n",
       "<tr>\n",
       "  <th>Method:</th>             <td>css-mle</td>     <th>  S.D. of innovations</th>   <td>1.126</td>  \n",
       "</tr>\n",
       "<tr>\n",
       "  <th>Date:</th>          <td>Wed, 18 May 2022</td> <th>  AIC                </th> <td>19313.243</td>\n",
       "</tr>\n",
       "<tr>\n",
       "  <th>Time:</th>              <td>09:51:46</td>     <th>  BIC                </th> <td>19373.942</td>\n",
       "</tr>\n",
       "<tr>\n",
       "  <th>Sample:</th>           <td>01-11-1994</td>    <th>  HQIC               </th> <td>19334.274</td>\n",
       "</tr>\n",
       "<tr>\n",
       "  <th></th>                 <td>- 01-29-2018</td>   <th>                     </th>     <td> </td>    \n",
       "</tr>\n",
       "</table>\n",
       "<table class=\"simpletable\">\n",
       "<tr>\n",
       "        <td></td>           <th>coef</th>     <th>std err</th>      <th>z</th>      <th>P>|z|</th>  <th>[0.025</th>    <th>0.975]</th>  \n",
       "</tr>\n",
       "<tr>\n",
       "  <th>const</th>         <td>    0.0350</td> <td>    0.012</td> <td>    3.028</td> <td> 0.002</td> <td>    0.012</td> <td>    0.058</td>\n",
       "</tr>\n",
       "<tr>\n",
       "  <th>ar.L1.Returns</th> <td>   -0.3855</td> <td>    0.093</td> <td>   -4.166</td> <td> 0.000</td> <td>   -0.567</td> <td>   -0.204</td>\n",
       "</tr>\n",
       "<tr>\n",
       "  <th>ar.L2.Returns</th> <td>   -0.2397</td> <td>    0.109</td> <td>   -2.209</td> <td> 0.027</td> <td>   -0.452</td> <td>   -0.027</td>\n",
       "</tr>\n",
       "<tr>\n",
       "  <th>ar.L3.Returns</th> <td>    0.6720</td> <td>    0.103</td> <td>    6.543</td> <td> 0.000</td> <td>    0.471</td> <td>    0.873</td>\n",
       "</tr>\n",
       "<tr>\n",
       "  <th>ar.L4.Returns</th> <td>    0.0154</td> <td>    0.018</td> <td>    0.867</td> <td> 0.386</td> <td>   -0.019</td> <td>    0.050</td>\n",
       "</tr>\n",
       "<tr>\n",
       "  <th>ma.L1.Returns</th> <td>    0.3155</td> <td>    0.092</td> <td>    3.447</td> <td> 0.001</td> <td>    0.136</td> <td>    0.495</td>\n",
       "</tr>\n",
       "<tr>\n",
       "  <th>ma.L2.Returns</th> <td>    0.1842</td> <td>    0.096</td> <td>    1.909</td> <td> 0.056</td> <td>   -0.005</td> <td>    0.373</td>\n",
       "</tr>\n",
       "<tr>\n",
       "  <th>ma.L3.Returns</th> <td>   -0.7378</td> <td>    0.090</td> <td>   -8.188</td> <td> 0.000</td> <td>   -0.914</td> <td>   -0.561</td>\n",
       "</tr>\n",
       "</table>\n",
       "<table class=\"simpletable\">\n",
       "<caption>Roots</caption>\n",
       "<tr>\n",
       "    <td></td>   <th>            Real</th>  <th>         Imaginary</th> <th>         Modulus</th>  <th>        Frequency</th>\n",
       "</tr>\n",
       "<tr>\n",
       "  <th>AR.1</th> <td>          -0.5460</td> <td>          -0.8554j</td> <td>           1.0148</td> <td>          -0.3404</td>\n",
       "</tr>\n",
       "<tr>\n",
       "  <th>AR.2</th> <td>          -0.5460</td> <td>          +0.8554j</td> <td>           1.0148</td> <td>           0.3404</td>\n",
       "</tr>\n",
       "<tr>\n",
       "  <th>AR.3</th> <td>           1.4338</td> <td>          -0.0000j</td> <td>           1.4338</td> <td>          -0.0000</td>\n",
       "</tr>\n",
       "<tr>\n",
       "  <th>AR.4</th> <td>         -44.0950</td> <td>          -0.0000j</td> <td>          44.0950</td> <td>          -0.5000</td>\n",
       "</tr>\n",
       "<tr>\n",
       "  <th>MA.1</th> <td>          -0.5417</td> <td>          -0.8504j</td> <td>           1.0083</td> <td>          -0.3403</td>\n",
       "</tr>\n",
       "<tr>\n",
       "  <th>MA.2</th> <td>          -0.5417</td> <td>          +0.8504j</td> <td>           1.0083</td> <td>           0.3403</td>\n",
       "</tr>\n",
       "<tr>\n",
       "  <th>MA.3</th> <td>           1.3331</td> <td>          -0.0000j</td> <td>           1.3331</td> <td>          -0.0000</td>\n",
       "</tr>\n",
       "</table>"
      ],
      "text/plain": [
       "<class 'statsmodels.iolib.summary.Summary'>\n",
       "\"\"\"\n",
       "                              ARMA Model Results                              \n",
       "==============================================================================\n",
       "Dep. Variable:                Returns   No. Observations:                 6275\n",
       "Model:                     ARMA(4, 3)   Log Likelihood               -9647.621\n",
       "Method:                       css-mle   S.D. of innovations              1.126\n",
       "Date:                Wed, 18 May 2022   AIC                          19313.243\n",
       "Time:                        09:51:46   BIC                          19373.942\n",
       "Sample:                    01-11-1994   HQIC                         19334.274\n",
       "                         - 01-29-2018                                         \n",
       "=================================================================================\n",
       "                    coef    std err          z      P>|z|      [0.025      0.975]\n",
       "---------------------------------------------------------------------------------\n",
       "const             0.0350      0.012      3.028      0.002       0.012       0.058\n",
       "ar.L1.Returns    -0.3855      0.093     -4.166      0.000      -0.567      -0.204\n",
       "ar.L2.Returns    -0.2397      0.109     -2.209      0.027      -0.452      -0.027\n",
       "ar.L3.Returns     0.6720      0.103      6.543      0.000       0.471       0.873\n",
       "ar.L4.Returns     0.0154      0.018      0.867      0.386      -0.019       0.050\n",
       "ma.L1.Returns     0.3155      0.092      3.447      0.001       0.136       0.495\n",
       "ma.L2.Returns     0.1842      0.096      1.909      0.056      -0.005       0.373\n",
       "ma.L3.Returns    -0.7378      0.090     -8.188      0.000      -0.914      -0.561\n",
       "                                    Roots                                    \n",
       "=============================================================================\n",
       "                  Real          Imaginary           Modulus         Frequency\n",
       "-----------------------------------------------------------------------------\n",
       "AR.1           -0.5460           -0.8554j            1.0148           -0.3404\n",
       "AR.2           -0.5460           +0.8554j            1.0148            0.3404\n",
       "AR.3            1.4338           -0.0000j            1.4338           -0.0000\n",
       "AR.4          -44.0950           -0.0000j           44.0950           -0.5000\n",
       "MA.1           -0.5417           -0.8504j            1.0083           -0.3403\n",
       "MA.2           -0.5417           +0.8504j            1.0083            0.3403\n",
       "MA.3            1.3331           -0.0000j            1.3331           -0.0000\n",
       "-----------------------------------------------------------------------------\n",
       "\"\"\""
      ]
     },
     "execution_count": 93,
     "metadata": {},
     "output_type": "execute_result"
    }
   ],
   "source": [
    "model_arma3 = ARMA(df.Returns[1:], order=(4,3))\n",
    "result_arma3 = model_arma3.fit()\n",
    "result_arma3.summary()"
   ]
  },
  {
   "cell_type": "code",
   "execution_count": 94,
   "id": "06707788",
   "metadata": {},
   "outputs": [
    {
     "data": {
      "text/plain": [
       "0.0"
      ]
     },
     "execution_count": 94,
     "metadata": {},
     "output_type": "execute_result"
    }
   ],
   "source": [
    "LLR_test(model_arma,model_arma3)"
   ]
  },
  {
   "cell_type": "code",
   "execution_count": 95,
   "id": "feabbc0f",
   "metadata": {},
   "outputs": [
    {
     "data": {
      "text/html": [
       "<table class=\"simpletable\">\n",
       "<caption>ARMA Model Results</caption>\n",
       "<tr>\n",
       "  <th>Dep. Variable:</th>      <td>Returns</td>     <th>  No. Observations:  </th>   <td>6275</td>   \n",
       "</tr>\n",
       "<tr>\n",
       "  <th>Model:</th>            <td>ARMA(3, 2)</td>    <th>  Log Likelihood     </th> <td>-9655.814</td>\n",
       "</tr>\n",
       "<tr>\n",
       "  <th>Method:</th>             <td>css-mle</td>     <th>  S.D. of innovations</th>   <td>1.127</td>  \n",
       "</tr>\n",
       "<tr>\n",
       "  <th>Date:</th>          <td>Wed, 18 May 2022</td> <th>  AIC                </th> <td>19325.629</td>\n",
       "</tr>\n",
       "<tr>\n",
       "  <th>Time:</th>              <td>09:52:13</td>     <th>  BIC                </th> <td>19372.839</td>\n",
       "</tr>\n",
       "<tr>\n",
       "  <th>Sample:</th>           <td>01-11-1994</td>    <th>  HQIC               </th> <td>19341.986</td>\n",
       "</tr>\n",
       "<tr>\n",
       "  <th></th>                 <td>- 01-29-2018</td>   <th>                     </th>     <td> </td>    \n",
       "</tr>\n",
       "</table>\n",
       "<table class=\"simpletable\">\n",
       "<tr>\n",
       "        <td></td>           <th>coef</th>     <th>std err</th>      <th>z</th>      <th>P>|z|</th>  <th>[0.025</th>    <th>0.975]</th>  \n",
       "</tr>\n",
       "<tr>\n",
       "  <th>const</th>         <td>    0.0350</td> <td>    0.012</td> <td>    3.028</td> <td> 0.002</td> <td>    0.012</td> <td>    0.058</td>\n",
       "</tr>\n",
       "<tr>\n",
       "  <th>ar.L1.Returns</th> <td>   -0.2070</td> <td>    0.125</td> <td>   -1.650</td> <td> 0.099</td> <td>   -0.453</td> <td>    0.039</td>\n",
       "</tr>\n",
       "<tr>\n",
       "  <th>ar.L2.Returns</th> <td>    0.6103</td> <td>    0.114</td> <td>    5.342</td> <td> 0.000</td> <td>    0.386</td> <td>    0.834</td>\n",
       "</tr>\n",
       "<tr>\n",
       "  <th>ar.L3.Returns</th> <td>    0.0053</td> <td>    0.017</td> <td>    0.307</td> <td> 0.759</td> <td>   -0.029</td> <td>    0.039</td>\n",
       "</tr>\n",
       "<tr>\n",
       "  <th>ma.L1.Returns</th> <td>    0.1356</td> <td>    0.125</td> <td>    1.087</td> <td> 0.277</td> <td>   -0.109</td> <td>    0.380</td>\n",
       "</tr>\n",
       "<tr>\n",
       "  <th>ma.L2.Returns</th> <td>   -0.6557</td> <td>    0.110</td> <td>   -5.972</td> <td> 0.000</td> <td>   -0.871</td> <td>   -0.440</td>\n",
       "</tr>\n",
       "</table>\n",
       "<table class=\"simpletable\">\n",
       "<caption>Roots</caption>\n",
       "<tr>\n",
       "    <td></td>   <th>            Real</th>  <th>         Imaginary</th> <th>         Modulus</th>  <th>        Frequency</th>\n",
       "</tr>\n",
       "<tr>\n",
       "  <th>AR.1</th> <td>          -1.1265</td> <td>          +0.0000j</td> <td>           1.1265</td> <td>           0.5000</td>\n",
       "</tr>\n",
       "<tr>\n",
       "  <th>AR.2</th> <td>           1.4505</td> <td>          +0.0000j</td> <td>           1.4505</td> <td>           0.0000</td>\n",
       "</tr>\n",
       "<tr>\n",
       "  <th>AR.3</th> <td>        -115.6232</td> <td>          +0.0000j</td> <td>         115.6232</td> <td>           0.5000</td>\n",
       "</tr>\n",
       "<tr>\n",
       "  <th>MA.1</th> <td>          -1.1359</td> <td>          +0.0000j</td> <td>           1.1359</td> <td>           0.5000</td>\n",
       "</tr>\n",
       "<tr>\n",
       "  <th>MA.2</th> <td>           1.3427</td> <td>          +0.0000j</td> <td>           1.3427</td> <td>           0.0000</td>\n",
       "</tr>\n",
       "</table>"
      ],
      "text/plain": [
       "<class 'statsmodels.iolib.summary.Summary'>\n",
       "\"\"\"\n",
       "                              ARMA Model Results                              \n",
       "==============================================================================\n",
       "Dep. Variable:                Returns   No. Observations:                 6275\n",
       "Model:                     ARMA(3, 2)   Log Likelihood               -9655.814\n",
       "Method:                       css-mle   S.D. of innovations              1.127\n",
       "Date:                Wed, 18 May 2022   AIC                          19325.629\n",
       "Time:                        09:52:13   BIC                          19372.839\n",
       "Sample:                    01-11-1994   HQIC                         19341.986\n",
       "                         - 01-29-2018                                         \n",
       "=================================================================================\n",
       "                    coef    std err          z      P>|z|      [0.025      0.975]\n",
       "---------------------------------------------------------------------------------\n",
       "const             0.0350      0.012      3.028      0.002       0.012       0.058\n",
       "ar.L1.Returns    -0.2070      0.125     -1.650      0.099      -0.453       0.039\n",
       "ar.L2.Returns     0.6103      0.114      5.342      0.000       0.386       0.834\n",
       "ar.L3.Returns     0.0053      0.017      0.307      0.759      -0.029       0.039\n",
       "ma.L1.Returns     0.1356      0.125      1.087      0.277      -0.109       0.380\n",
       "ma.L2.Returns    -0.6557      0.110     -5.972      0.000      -0.871      -0.440\n",
       "                                    Roots                                    \n",
       "=============================================================================\n",
       "                  Real          Imaginary           Modulus         Frequency\n",
       "-----------------------------------------------------------------------------\n",
       "AR.1           -1.1265           +0.0000j            1.1265            0.5000\n",
       "AR.2            1.4505           +0.0000j            1.4505            0.0000\n",
       "AR.3         -115.6232           +0.0000j          115.6232            0.5000\n",
       "MA.1           -1.1359           +0.0000j            1.1359            0.5000\n",
       "MA.2            1.3427           +0.0000j            1.3427            0.0000\n",
       "-----------------------------------------------------------------------------\n",
       "\"\"\""
      ]
     },
     "execution_count": 95,
     "metadata": {},
     "output_type": "execute_result"
    }
   ],
   "source": [
    "model_arma32 = ARMA(df.Returns[1:], order=(3,2))\n",
    "result_arma32 = model_arma32.fit()\n",
    "result_arma32.summary()"
   ]
  },
  {
   "cell_type": "markdown",
   "id": "1eaf2db4",
   "metadata": {},
   "source": [
    "ARMA 1,1  still better"
   ]
  },
  {
   "cell_type": "markdown",
   "id": "891ee6ed",
   "metadata": {},
   "source": [
    "# ARIMA Model"
   ]
  },
  {
   "cell_type": "code",
   "execution_count": 96,
   "id": "7b0ad514",
   "metadata": {},
   "outputs": [],
   "source": [
    "    from statsmodels.tsa.arima_model import ARIMA"
   ]
  },
  {
   "cell_type": "code",
   "execution_count": 97,
   "id": "518414cb",
   "metadata": {},
   "outputs": [],
   "source": [
    "df2['returns'] = df2.Market_Value.pct_change(1)*100"
   ]
  },
  {
   "cell_type": "code",
   "execution_count": 98,
   "id": "a678e2de",
   "metadata": {},
   "outputs": [
    {
     "data": {
      "text/html": [
       "<div>\n",
       "<style scoped>\n",
       "    .dataframe tbody tr th:only-of-type {\n",
       "        vertical-align: middle;\n",
       "    }\n",
       "\n",
       "    .dataframe tbody tr th {\n",
       "        vertical-align: top;\n",
       "    }\n",
       "\n",
       "    .dataframe thead th {\n",
       "        text-align: right;\n",
       "    }\n",
       "</style>\n",
       "<table border=\"1\" class=\"dataframe\">\n",
       "  <thead>\n",
       "    <tr style=\"text-align: right;\">\n",
       "      <th></th>\n",
       "      <th>Market_Value</th>\n",
       "      <th>returns</th>\n",
       "    </tr>\n",
       "    <tr>\n",
       "      <th>date</th>\n",
       "      <th></th>\n",
       "      <th></th>\n",
       "    </tr>\n",
       "  </thead>\n",
       "  <tbody>\n",
       "    <tr>\n",
       "      <th>1994-01-07</th>\n",
       "      <td>3445.980000</td>\n",
       "      <td>NaN</td>\n",
       "    </tr>\n",
       "    <tr>\n",
       "      <th>1994-01-10</th>\n",
       "      <td>3440.580000</td>\n",
       "      <td>-0.156704</td>\n",
       "    </tr>\n",
       "    <tr>\n",
       "      <th>1994-01-11</th>\n",
       "      <td>3413.770000</td>\n",
       "      <td>-0.779229</td>\n",
       "    </tr>\n",
       "    <tr>\n",
       "      <th>1994-01-12</th>\n",
       "      <td>3372.020000</td>\n",
       "      <td>-1.222988</td>\n",
       "    </tr>\n",
       "    <tr>\n",
       "      <th>1994-01-13</th>\n",
       "      <td>3360.010000</td>\n",
       "      <td>-0.356166</td>\n",
       "    </tr>\n",
       "    <tr>\n",
       "      <th>...</th>\n",
       "      <td>...</td>\n",
       "      <td>...</td>\n",
       "    </tr>\n",
       "    <tr>\n",
       "      <th>2018-01-23</th>\n",
       "      <td>7731.827774</td>\n",
       "      <td>0.212382</td>\n",
       "    </tr>\n",
       "    <tr>\n",
       "      <th>2018-01-24</th>\n",
       "      <td>7643.428966</td>\n",
       "      <td>-1.143311</td>\n",
       "    </tr>\n",
       "    <tr>\n",
       "      <th>2018-01-25</th>\n",
       "      <td>7615.839954</td>\n",
       "      <td>-0.360951</td>\n",
       "    </tr>\n",
       "    <tr>\n",
       "      <th>2018-01-26</th>\n",
       "      <td>7665.541292</td>\n",
       "      <td>0.652605</td>\n",
       "    </tr>\n",
       "    <tr>\n",
       "      <th>2018-01-29</th>\n",
       "      <td>7671.533300</td>\n",
       "      <td>0.078168</td>\n",
       "    </tr>\n",
       "  </tbody>\n",
       "</table>\n",
       "<p>6277 rows × 2 columns</p>\n",
       "</div>"
      ],
      "text/plain": [
       "            Market_Value   returns\n",
       "date                              \n",
       "1994-01-07   3445.980000       NaN\n",
       "1994-01-10   3440.580000 -0.156704\n",
       "1994-01-11   3413.770000 -0.779229\n",
       "1994-01-12   3372.020000 -1.222988\n",
       "1994-01-13   3360.010000 -0.356166\n",
       "...                  ...       ...\n",
       "2018-01-23   7731.827774  0.212382\n",
       "2018-01-24   7643.428966 -1.143311\n",
       "2018-01-25   7615.839954 -0.360951\n",
       "2018-01-26   7665.541292  0.652605\n",
       "2018-01-29   7671.533300  0.078168\n",
       "\n",
       "[6277 rows x 2 columns]"
      ]
     },
     "execution_count": 98,
     "metadata": {},
     "output_type": "execute_result"
    }
   ],
   "source": [
    "df2"
   ]
  },
  {
   "cell_type": "code",
   "execution_count": 99,
   "id": "1bd5a5a1",
   "metadata": {},
   "outputs": [
    {
     "data": {
      "text/html": [
       "<table class=\"simpletable\">\n",
       "<caption>ARIMA Model Results</caption>\n",
       "<tr>\n",
       "  <th>Dep. Variable:</th>  <td>D.Market_Value</td>  <th>  No. Observations:  </th>    <td>6276</td>   \n",
       "</tr>\n",
       "<tr>\n",
       "  <th>Model:</th>          <td>ARIMA(1, 1, 1)</td>  <th>  Log Likelihood     </th> <td>-34417.643</td>\n",
       "</tr>\n",
       "<tr>\n",
       "  <th>Method:</th>             <td>css-mle</td>     <th>  S.D. of innovations</th>   <td>58.269</td>  \n",
       "</tr>\n",
       "<tr>\n",
       "  <th>Date:</th>          <td>Wed, 18 May 2022</td> <th>  AIC                </th>  <td>68843.285</td>\n",
       "</tr>\n",
       "<tr>\n",
       "  <th>Time:</th>              <td>09:52:17</td>     <th>  BIC                </th>  <td>68870.263</td>\n",
       "</tr>\n",
       "<tr>\n",
       "  <th>Sample:</th>           <td>01-10-1994</td>    <th>  HQIC               </th>  <td>68852.633</td>\n",
       "</tr>\n",
       "<tr>\n",
       "  <th></th>                 <td>- 01-29-2018</td>   <th>                     </th>      <td> </td>    \n",
       "</tr>\n",
       "</table>\n",
       "<table class=\"simpletable\">\n",
       "<tr>\n",
       "            <td></td>              <th>coef</th>     <th>std err</th>      <th>z</th>      <th>P>|z|</th>  <th>[0.025</th>    <th>0.975]</th>  \n",
       "</tr>\n",
       "<tr>\n",
       "  <th>const</th>                <td>    0.6749</td> <td>    0.581</td> <td>    1.162</td> <td> 0.245</td> <td>   -0.464</td> <td>    1.813</td>\n",
       "</tr>\n",
       "<tr>\n",
       "  <th>ar.L1.D.Market_Value</th> <td>    0.8356</td> <td>    0.078</td> <td>   10.778</td> <td> 0.000</td> <td>    0.684</td> <td>    0.987</td>\n",
       "</tr>\n",
       "<tr>\n",
       "  <th>ma.L1.D.Market_Value</th> <td>   -0.8702</td> <td>    0.070</td> <td>  -12.465</td> <td> 0.000</td> <td>   -1.007</td> <td>   -0.733</td>\n",
       "</tr>\n",
       "</table>\n",
       "<table class=\"simpletable\">\n",
       "<caption>Roots</caption>\n",
       "<tr>\n",
       "    <td></td>   <th>            Real</th>  <th>         Imaginary</th> <th>         Modulus</th>  <th>        Frequency</th>\n",
       "</tr>\n",
       "<tr>\n",
       "  <th>AR.1</th> <td>           1.1968</td> <td>          +0.0000j</td> <td>           1.1968</td> <td>           0.0000</td>\n",
       "</tr>\n",
       "<tr>\n",
       "  <th>MA.1</th> <td>           1.1492</td> <td>          +0.0000j</td> <td>           1.1492</td> <td>           0.0000</td>\n",
       "</tr>\n",
       "</table>"
      ],
      "text/plain": [
       "<class 'statsmodels.iolib.summary.Summary'>\n",
       "\"\"\"\n",
       "                             ARIMA Model Results                              \n",
       "==============================================================================\n",
       "Dep. Variable:         D.Market_Value   No. Observations:                 6276\n",
       "Model:                 ARIMA(1, 1, 1)   Log Likelihood              -34417.643\n",
       "Method:                       css-mle   S.D. of innovations             58.269\n",
       "Date:                Wed, 18 May 2022   AIC                          68843.285\n",
       "Time:                        09:52:17   BIC                          68870.263\n",
       "Sample:                    01-10-1994   HQIC                         68852.633\n",
       "                         - 01-29-2018                                         \n",
       "========================================================================================\n",
       "                           coef    std err          z      P>|z|      [0.025      0.975]\n",
       "----------------------------------------------------------------------------------------\n",
       "const                    0.6749      0.581      1.162      0.245      -0.464       1.813\n",
       "ar.L1.D.Market_Value     0.8356      0.078     10.778      0.000       0.684       0.987\n",
       "ma.L1.D.Market_Value    -0.8702      0.070    -12.465      0.000      -1.007      -0.733\n",
       "                                    Roots                                    \n",
       "=============================================================================\n",
       "                  Real          Imaginary           Modulus         Frequency\n",
       "-----------------------------------------------------------------------------\n",
       "AR.1            1.1968           +0.0000j            1.1968            0.0000\n",
       "MA.1            1.1492           +0.0000j            1.1492            0.0000\n",
       "-----------------------------------------------------------------------------\n",
       "\"\"\""
      ]
     },
     "execution_count": 99,
     "metadata": {},
     "output_type": "execute_result"
    }
   ],
   "source": [
    "# ARIMA (1,1,1)\n",
    "model_arima111 = ARIMA(df2.Market_Value, order=(1,1,1))\n",
    "result_arima111 = model_arima111.fit()\n",
    "result_arima111.summary()"
   ]
  },
  {
   "cell_type": "markdown",
   "id": "ce25eec5",
   "metadata": {},
   "source": [
    "# Residual of ARIMA (1,1,1)"
   ]
  },
  {
   "cell_type": "code",
   "execution_count": 100,
   "id": "49ebd4fe",
   "metadata": {},
   "outputs": [
    {
     "data": {
      "image/png": "[encoded data removed]",
      "text/plain": [
       "<Figure size 432x288 with 1 Axes>"
      ]
     },
     "metadata": {},
     "output_type": "display_data"
    }
   ],
   "source": [
    "df2['res_arima111'] = result_arima111.resid\n",
    "sgt.plot_acf(df2.res_arima111[1:], zero=False, lags=40)\n",
    "plt.title(\"ACF of Residual of ARIMA(1,1,1)\", size=20)\n",
    "plt.show()"
   ]
  },
  {
   "cell_type": "markdown",
   "id": "4e0026b8",
   "metadata": {},
   "source": [
    "## Higher Lag ARIMA model"
   ]
  },
  {
   "cell_type": "code",
   "execution_count": 101,
   "id": "84d94b78",
   "metadata": {},
   "outputs": [],
   "source": [
    "model_arima112 = ARIMA(df2.Market_Value, order=(1,1,2))\n",
    "result_arima112 = model_arima112.fit()\n",
    "model_arima113 = ARIMA(df2.Market_Value, order=(1,1,3))\n",
    "result_arima113 = model_arima113.fit()\n",
    "model_arima211 = ARIMA(df2.Market_Value, order=(2,1,1))\n",
    "result_arima211 = model_arima211.fit()\n",
    "model_arima312 = ARIMA(df2.Market_Value, order=(3,1,2))\n",
    "result_arima312 = model_arima312.fit(start_ar_lags=5)\n",
    "model_arima311 = ARIMA(df2.Market_Value, order=(3,1,1))\n",
    "result_arima311 = model_arima311.fit()"
   ]
  },
  {
   "cell_type": "code",
   "execution_count": 102,
   "id": "935ca2d3",
   "metadata": {},
   "outputs": [
    {
     "name": "stdout",
     "output_type": "stream",
     "text": [
      "AIRIMA(1,1,2) \t LL = -34413.66331716288 \t AIC= 68837.32663432576\n",
      "AIRIMA(1,1,3) \t LL = -34410.78126375665 \t AIC= 68833.5625275133\n",
      "AIRIMA(2,1,1) \t LL = -34413.51837499095 \t AIC= 68837.0367499819\n",
      "AIRIMA(3,1,2) \t LL = -34410.795902256265 \t AIC= 68835.59180451253\n",
      "AIRIMA(3,1,1) \t LL = -34412.28349753043 \t AIC= 68836.56699506086\n"
     ]
    }
   ],
   "source": [
    "print(\"AIRIMA(1,1,2) \\t LL =\", result_arima112.llf, \"\\t AIC=\" , result_arima112.aic)\n",
    "print(\"AIRIMA(1,1,3) \\t LL =\", result_arima113.llf, \"\\t AIC=\" , result_arima113.aic)\n",
    "print(\"AIRIMA(2,1,1) \\t LL =\", result_arima211.llf, \"\\t AIC=\" , result_arima211.aic)\n",
    "print(\"AIRIMA(3,1,2) \\t LL =\", result_arima312.llf, \"\\t AIC=\" , result_arima312.aic)\n",
    "print(\"AIRIMA(3,1,1) \\t LL =\", result_arima311.llf, \"\\t AIC=\" , result_arima311.aic)"
   ]
  },
  {
   "cell_type": "markdown",
   "id": "a694a987",
   "metadata": {},
   "source": [
    "113 is the best"
   ]
  },
  {
   "cell_type": "code",
   "execution_count": 103,
   "id": "c44374b6",
   "metadata": {},
   "outputs": [
    {
     "data": {
      "image/png": "[encoded data removed]",
      "text/plain": [
       "<Figure size 432x288 with 1 Axes>"
      ]
     },
     "metadata": {},
     "output_type": "display_data"
    }
   ],
   "source": [
    "#ACF of residual\n",
    "df2['res_arima113'] = result_arima113.resid.iloc[:]\n",
    "sgt.plot_acf(df2.res_arima113[1:], zero=False, lags=40)\n",
    "plt.title(\"ACF of Residual of ARIMA(1,1,3)\", size=20)\n",
    "plt.show()"
   ]
  },
  {
   "cell_type": "code",
   "execution_count": 104,
   "id": "a077f362",
   "metadata": {},
   "outputs": [],
   "source": [
    "model_arima511 = ARIMA(df2.Market_Value, order=(5,1,1))\n",
    "result_arima511 = model_arima511.fit()\n",
    "model_arima613 = ARIMA(df2.Market_Value, order=(6,1,3))\n",
    "result_arima613 = model_arima613.fit()"
   ]
  },
  {
   "cell_type": "code",
   "execution_count": 105,
   "id": "6982e5e9",
   "metadata": {},
   "outputs": [
    {
     "name": "stdout",
     "output_type": "stream",
     "text": [
      "AIRIMA(5,1,1) \t LL = -34406.532116202354 \t AIC= 68829.06423240471\n",
      "AIRIMA(1,1,3) \t LL = -34410.78126375665 \t AIC= 68833.5625275133\n",
      "AIRIMA(6,1,3) \t LL = -34404.764882702366 \t AIC= 68831.52976540473\n"
     ]
    }
   ],
   "source": [
    "print(\"AIRIMA(5,1,1) \\t LL =\", result_arima511.llf, \"\\t AIC=\" , result_arima511.aic)\n",
    "print(\"AIRIMA(1,1,3) \\t LL =\", result_arima113.llf, \"\\t AIC=\" , result_arima113.aic)\n",
    "print(\"AIRIMA(6,1,3) \\t LL =\", result_arima613.llf, \"\\t AIC=\" , result_arima613.aic)"
   ]
  },
  {
   "cell_type": "markdown",
   "id": "21b5f3ee",
   "metadata": {},
   "source": [
    "ARIMA (6,1,3) is best"
   ]
  },
  {
   "cell_type": "code",
   "execution_count": 106,
   "id": "a4e055f2",
   "metadata": {},
   "outputs": [
    {
     "data": {
      "text/plain": [
       "0.034"
      ]
     },
     "execution_count": 106,
     "metadata": {},
     "output_type": "execute_result"
    }
   ],
   "source": [
    "LLR_test(model_arima113, model_arima613, DF=5)"
   ]
  },
  {
   "cell_type": "markdown",
   "id": "76fa595f",
   "metadata": {},
   "source": [
    "p is high so we will go for 5,1,1 rather than 6,1,3 "
   ]
  },
  {
   "cell_type": "code",
   "execution_count": 107,
   "id": "7d7f1597",
   "metadata": {},
   "outputs": [
    {
     "data": {
      "image/png": "[encoded data removed]",
      "text/plain": [
       "<Figure size 432x288 with 1 Axes>"
      ]
     },
     "metadata": {},
     "output_type": "display_data"
    }
   ],
   "source": [
    "#ACF of residual\n",
    "df2['res_arima511'] = result_arima511.resid.iloc[:]\n",
    "sgt.plot_acf(df2.res_arima511[1:], zero=False, lags=40)\n",
    "plt.title(\"ACF of Residual of ARIMA(5,1,1)\", size=20)\n",
    "plt.show()"
   ]
  },
  {
   "cell_type": "markdown",
   "id": "06216d67",
   "metadata": {},
   "source": [
    "# ARIMAX"
   ]
  },
  {
   "cell_type": "code",
   "execution_count": 108,
   "id": "cb3370e3",
   "metadata": {},
   "outputs": [
    {
     "data": {
      "text/html": [
       "<table class=\"simpletable\">\n",
       "<caption>ARIMA Model Results</caption>\n",
       "<tr>\n",
       "  <th>Dep. Variable:</th>  <td>D.Market_Value</td>  <th>  No. Observations:  </th>    <td>6276</td>   \n",
       "</tr>\n",
       "<tr>\n",
       "  <th>Model:</th>          <td>ARIMA(1, 1, 1)</td>  <th>  Log Likelihood     </th> <td>-34417.384</td>\n",
       "</tr>\n",
       "<tr>\n",
       "  <th>Method:</th>             <td>css-mle</td>     <th>  S.D. of innovations</th>   <td>58.267</td>  \n",
       "</tr>\n",
       "<tr>\n",
       "  <th>Date:</th>          <td>Wed, 18 May 2022</td> <th>  AIC                </th>  <td>68844.768</td>\n",
       "</tr>\n",
       "<tr>\n",
       "  <th>Time:</th>              <td>09:53:04</td>     <th>  BIC                </th>  <td>68878.490</td>\n",
       "</tr>\n",
       "<tr>\n",
       "  <th>Sample:</th>           <td>01-10-1994</td>    <th>  HQIC               </th>  <td>68856.452</td>\n",
       "</tr>\n",
       "<tr>\n",
       "  <th></th>                 <td>- 01-29-2018</td>   <th>                     </th>      <td> </td>    \n",
       "</tr>\n",
       "</table>\n",
       "<table class=\"simpletable\">\n",
       "<tr>\n",
       "            <td></td>              <th>coef</th>     <th>std err</th>      <th>z</th>      <th>P>|z|</th>  <th>[0.025</th>    <th>0.975]</th>  \n",
       "</tr>\n",
       "<tr>\n",
       "  <th>const</th>                <td>   -0.4076</td> <td>    1.653</td> <td>   -0.247</td> <td> 0.805</td> <td>   -3.647</td> <td>    2.831</td>\n",
       "</tr>\n",
       "<tr>\n",
       "  <th>spx</th>                  <td>    0.0008</td> <td>    0.001</td> <td>    0.702</td> <td> 0.483</td> <td>   -0.002</td> <td>    0.003</td>\n",
       "</tr>\n",
       "<tr>\n",
       "  <th>ar.L1.D.Market_Value</th> <td>    0.8336</td> <td>    0.078</td> <td>   10.737</td> <td> 0.000</td> <td>    0.681</td> <td>    0.986</td>\n",
       "</tr>\n",
       "<tr>\n",
       "  <th>ma.L1.D.Market_Value</th> <td>   -0.8683</td> <td>    0.070</td> <td>  -12.401</td> <td> 0.000</td> <td>   -1.006</td> <td>   -0.731</td>\n",
       "</tr>\n",
       "</table>\n",
       "<table class=\"simpletable\">\n",
       "<caption>Roots</caption>\n",
       "<tr>\n",
       "    <td></td>   <th>            Real</th>  <th>         Imaginary</th> <th>         Modulus</th>  <th>        Frequency</th>\n",
       "</tr>\n",
       "<tr>\n",
       "  <th>AR.1</th> <td>           1.1996</td> <td>          +0.0000j</td> <td>           1.1996</td> <td>           0.0000</td>\n",
       "</tr>\n",
       "<tr>\n",
       "  <th>MA.1</th> <td>           1.1517</td> <td>          +0.0000j</td> <td>           1.1517</td> <td>           0.0000</td>\n",
       "</tr>\n",
       "</table>"
      ],
      "text/plain": [
       "<class 'statsmodels.iolib.summary.Summary'>\n",
       "\"\"\"\n",
       "                             ARIMA Model Results                              \n",
       "==============================================================================\n",
       "Dep. Variable:         D.Market_Value   No. Observations:                 6276\n",
       "Model:                 ARIMA(1, 1, 1)   Log Likelihood              -34417.384\n",
       "Method:                       css-mle   S.D. of innovations             58.267\n",
       "Date:                Wed, 18 May 2022   AIC                          68844.768\n",
       "Time:                        09:53:04   BIC                          68878.490\n",
       "Sample:                    01-10-1994   HQIC                         68856.452\n",
       "                         - 01-29-2018                                         \n",
       "========================================================================================\n",
       "                           coef    std err          z      P>|z|      [0.025      0.975]\n",
       "----------------------------------------------------------------------------------------\n",
       "const                   -0.4076      1.653     -0.247      0.805      -3.647       2.831\n",
       "spx                      0.0008      0.001      0.702      0.483      -0.002       0.003\n",
       "ar.L1.D.Market_Value     0.8336      0.078     10.737      0.000       0.681       0.986\n",
       "ma.L1.D.Market_Value    -0.8683      0.070    -12.401      0.000      -1.006      -0.731\n",
       "                                    Roots                                    \n",
       "=============================================================================\n",
       "                  Real          Imaginary           Modulus         Frequency\n",
       "-----------------------------------------------------------------------------\n",
       "AR.1            1.1996           +0.0000j            1.1996            0.0000\n",
       "MA.1            1.1517           +0.0000j            1.1517            0.0000\n",
       "-----------------------------------------------------------------------------\n",
       "\"\"\""
      ]
     },
     "execution_count": 108,
     "metadata": {},
     "output_type": "execute_result"
    }
   ],
   "source": [
    "model_arima111xspx = ARIMA(df2.Market_Value,exog=df3.spx, order=(1,1,1))     # Exogeneous = spx\n",
    "result_arima111xspx = model_arima111xspx.fit()\n",
    "result_arima111xspx.summary()"
   ]
  },
  {
   "cell_type": "markdown",
   "id": "11056bad",
   "metadata": {},
   "source": [
    "# SARIMAX"
   ]
  },
  {
   "cell_type": "code",
   "execution_count": 109,
   "id": "37f9cba3",
   "metadata": {},
   "outputs": [],
   "source": [
    "from statsmodels.tsa.statespace.sarimax import SARIMAX"
   ]
  },
  {
   "cell_type": "code",
   "execution_count": 110,
   "id": "2c5a38c0",
   "metadata": {},
   "outputs": [
    {
     "data": {
      "text/html": [
       "<table class=\"simpletable\">\n",
       "<caption>SARIMAX Results</caption>\n",
       "<tr>\n",
       "  <th>Dep. Variable:</th>           <td>Market_Value</td>          <th>  No. Observations:  </th>    <td>6277</td>   \n",
       "</tr>\n",
       "<tr>\n",
       "  <th>Model:</th>           <td>SARIMAX(1, 0, 1)x(2, 0, 1, 5)</td> <th>  Log Likelihood     </th> <td>-33291.742</td>\n",
       "</tr>\n",
       "<tr>\n",
       "  <th>Date:</th>                  <td>Wed, 18 May 2022</td>        <th>  AIC                </th>  <td>66597.483</td>\n",
       "</tr>\n",
       "<tr>\n",
       "  <th>Time:</th>                      <td>09:53:30</td>            <th>  BIC                </th>  <td>66644.696</td>\n",
       "</tr>\n",
       "<tr>\n",
       "  <th>Sample:</th>                   <td>01-07-1994</td>           <th>  HQIC               </th>  <td>66613.842</td>\n",
       "</tr>\n",
       "<tr>\n",
       "  <th></th>                         <td>- 01-29-2018</td>          <th>                     </th>      <td> </td>    \n",
       "</tr>\n",
       "<tr>\n",
       "  <th>Covariance Type:</th>              <td>opg</td>              <th>                     </th>      <td> </td>    \n",
       "</tr>\n",
       "</table>\n",
       "<table class=\"simpletable\">\n",
       "<tr>\n",
       "      <td></td>        <th>coef</th>     <th>std err</th>      <th>z</th>      <th>P>|z|</th>  <th>[0.025</th>    <th>0.975]</th>  \n",
       "</tr>\n",
       "<tr>\n",
       "  <th>spx</th>      <td>    2.5333</td> <td>    0.031</td> <td>   81.808</td> <td> 0.000</td> <td>    2.473</td> <td>    2.594</td>\n",
       "</tr>\n",
       "<tr>\n",
       "  <th>ar.L1</th>    <td>    0.9999</td> <td>    0.001</td> <td>  755.779</td> <td> 0.000</td> <td>    0.997</td> <td>    1.003</td>\n",
       "</tr>\n",
       "<tr>\n",
       "  <th>ma.L1</th>    <td>   -0.2653</td> <td>    0.004</td> <td>  -62.165</td> <td> 0.000</td> <td>   -0.274</td> <td>   -0.257</td>\n",
       "</tr>\n",
       "<tr>\n",
       "  <th>ar.S.L5</th>  <td>    0.9750</td> <td>    0.006</td> <td>  157.063</td> <td> 0.000</td> <td>    0.963</td> <td>    0.987</td>\n",
       "</tr>\n",
       "<tr>\n",
       "  <th>ar.S.L10</th> <td>    0.0250</td> <td>    0.007</td> <td>    3.704</td> <td> 0.000</td> <td>    0.012</td> <td>    0.038</td>\n",
       "</tr>\n",
       "<tr>\n",
       "  <th>ma.S.L5</th>  <td>   -0.9998</td> <td>    0.010</td> <td> -101.017</td> <td> 0.000</td> <td>   -1.019</td> <td>   -0.980</td>\n",
       "</tr>\n",
       "<tr>\n",
       "  <th>sigma2</th>   <td> 2421.3905</td> <td>   28.643</td> <td>   84.536</td> <td> 0.000</td> <td> 2365.250</td> <td> 2477.531</td>\n",
       "</tr>\n",
       "</table>\n",
       "<table class=\"simpletable\">\n",
       "<tr>\n",
       "  <th>Ljung-Box (L1) (Q):</th>     <td>0.11</td> <th>  Jarque-Bera (JB):  </th> <td>4578.90</td>\n",
       "</tr>\n",
       "<tr>\n",
       "  <th>Prob(Q):</th>                <td>0.73</td> <th>  Prob(JB):          </th>  <td>0.00</td>  \n",
       "</tr>\n",
       "<tr>\n",
       "  <th>Heteroskedasticity (H):</th> <td>0.77</td> <th>  Skew:              </th>  <td>-0.40</td> \n",
       "</tr>\n",
       "<tr>\n",
       "  <th>Prob(H) (two-sided):</th>    <td>0.00</td> <th>  Kurtosis:          </th>  <td>7.11</td>  \n",
       "</tr>\n",
       "</table><br/><br/>Warnings:<br/>[1] Covariance matrix calculated using the outer product of gradients (complex-step)."
      ],
      "text/plain": [
       "<class 'statsmodels.iolib.summary.Summary'>\n",
       "\"\"\"\n",
       "                                     SARIMAX Results                                     \n",
       "=========================================================================================\n",
       "Dep. Variable:                      Market_Value   No. Observations:                 6277\n",
       "Model:             SARIMAX(1, 0, 1)x(2, 0, 1, 5)   Log Likelihood              -33291.742\n",
       "Date:                           Wed, 18 May 2022   AIC                          66597.483\n",
       "Time:                                   09:53:30   BIC                          66644.696\n",
       "Sample:                               01-07-1994   HQIC                         66613.842\n",
       "                                    - 01-29-2018                                         \n",
       "Covariance Type:                             opg                                         \n",
       "==============================================================================\n",
       "                 coef    std err          z      P>|z|      [0.025      0.975]\n",
       "------------------------------------------------------------------------------\n",
       "spx            2.5333      0.031     81.808      0.000       2.473       2.594\n",
       "ar.L1          0.9999      0.001    755.779      0.000       0.997       1.003\n",
       "ma.L1         -0.2653      0.004    -62.165      0.000      -0.274      -0.257\n",
       "ar.S.L5        0.9750      0.006    157.063      0.000       0.963       0.987\n",
       "ar.S.L10       0.0250      0.007      3.704      0.000       0.012       0.038\n",
       "ma.S.L5       -0.9998      0.010   -101.017      0.000      -1.019      -0.980\n",
       "sigma2      2421.3905     28.643     84.536      0.000    2365.250    2477.531\n",
       "===================================================================================\n",
       "Ljung-Box (L1) (Q):                   0.11   Jarque-Bera (JB):              4578.90\n",
       "Prob(Q):                              0.73   Prob(JB):                         0.00\n",
       "Heteroskedasticity (H):               0.77   Skew:                            -0.40\n",
       "Prob(H) (two-sided):                  0.00   Kurtosis:                         7.11\n",
       "===================================================================================\n",
       "\n",
       "Warnings:\n",
       "[1] Covariance matrix calculated using the outer product of gradients (complex-step).\n",
       "\"\"\""
      ]
     },
     "execution_count": 110,
     "metadata": {},
     "output_type": "execute_result"
    }
   ],
   "source": [
    "model_sarimax= SARIMAX(df2.Market_Value,exog=df3.spx, order=(1,0,1), seasonal_order=(2,0,1,5))     # Exogeneous = spx\n",
    "result_sarimax = model_sarimax.fit()\n",
    "result_sarimax.summary()"
   ]
  },
  {
   "cell_type": "markdown",
   "id": "4a8fe074",
   "metadata": {},
   "source": [
    "# ARCH Model"
   ]
  },
  {
   "cell_type": "markdown",
   "id": "77c76e50",
   "metadata": {},
   "source": [
    "### Creating the Squared Returns"
   ]
  },
  {
   "cell_type": "code",
   "execution_count": 111,
   "id": "773b3adf",
   "metadata": {},
   "outputs": [],
   "source": [
    "df['sq_returns'] = df.Returns.mul(df.Returns)"
   ]
  },
  {
   "cell_type": "markdown",
   "id": "e9980963",
   "metadata": {},
   "source": [
    "### Returned vs Squared Return "
   ]
  },
  {
   "cell_type": "code",
   "execution_count": 112,
   "id": "0760a9c0",
   "metadata": {},
   "outputs": [
    {
     "data": {
      "image/png": "[encoded data removed]",
      "text/plain": [
       "<Figure size 1440x360 with 1 Axes>"
      ]
     },
     "metadata": {},
     "output_type": "display_data"
    }
   ],
   "source": [
    "df.Returns.plot(figsize=(20,5))\n",
    "plt.title(\"Returned\", size =24)\n",
    "plt.show()"
   ]
  },
  {
   "cell_type": "code",
   "execution_count": 113,
   "id": "2e7d0101",
   "metadata": {},
   "outputs": [
    {
     "data": {
      "image/png": "[encoded data removed]",
      "text/plain": [
       "<Figure size 1440x360 with 1 Axes>"
      ]
     },
     "metadata": {},
     "output_type": "display_data"
    }
   ],
   "source": [
    "df.sq_returns.plot(figsize=(20,5))\n",
    "plt.title(\"Squared Returned\", size =24)\n",
    "plt.show()"
   ]
  },
  {
   "cell_type": "code",
   "execution_count": 114,
   "id": "250301c6",
   "metadata": {},
   "outputs": [
    {
     "data": {
      "image/png": "[encoded data removed]",
      "text/plain": [
       "<Figure size 432x288 with 1 Axes>"
      ]
     },
     "metadata": {},
     "output_type": "display_data"
    }
   ],
   "source": [
    "sgt.plot_pacf(df.Returns[1:], lags=40, alpha=0.05, zero=False, method='ols')\n",
    "plt.title('PACF of Returns', size = 24)\n",
    "plt.show()"
   ]
  },
  {
   "cell_type": "code",
   "execution_count": 115,
   "id": "3e858f76",
   "metadata": {},
   "outputs": [
    {
     "data": {
      "image/png": "[encoded data removed]",
      "text/plain": [
       "<Figure size 432x288 with 1 Axes>"
      ]
     },
     "metadata": {},
     "output_type": "display_data"
    }
   ],
   "source": [
    "sgt.plot_pacf(df.sq_returns[1:], lags=40, alpha=0.05, zero=False, method='ols')\n",
    "plt.title('PACF of Squared Returns', size = 24)\n",
    "plt.show()"
   ]
  },
  {
   "cell_type": "code",
   "execution_count": 116,
   "id": "e0ce41d5",
   "metadata": {},
   "outputs": [],
   "source": [
    "from arch import arch_model"
   ]
  },
  {
   "cell_type": "code",
   "execution_count": 117,
   "id": "7b62a6a9",
   "metadata": {},
   "outputs": [
    {
     "name": "stdout",
     "output_type": "stream",
     "text": [
      "Iteration:      1,   Func. Count:      6,   Neg. LLF: 326208058097.60095\n",
      "Iteration:      2,   Func. Count:     15,   Neg. LLF: 3485196422.4215307\n",
      "Iteration:      3,   Func. Count:     23,   Neg. LLF: 8391.897078913404\n",
      "Iteration:      4,   Func. Count:     29,   Neg. LLF: 8365.285512119255\n",
      "Iteration:      5,   Func. Count:     35,   Neg. LLF: 8469.479757190129\n",
      "Iteration:      6,   Func. Count:     41,   Neg. LLF: 8303.438110482846\n",
      "Iteration:      7,   Func. Count:     47,   Neg. LLF: 9001.844075109668\n",
      "Iteration:      8,   Func. Count:     54,   Neg. LLF: 8314.711890503635\n",
      "Iteration:      9,   Func. Count:     60,   Neg. LLF: 8294.298432125323\n",
      "Iteration:     10,   Func. Count:     65,   Neg. LLF: 8294.296863076606\n",
      "Iteration:     11,   Func. Count:     70,   Neg. LLF: 8294.296851350988\n",
      "Iteration:     12,   Func. Count:     74,   Neg. LLF: 8294.296851352941\n",
      "Optimization terminated successfully    (Exit mode 0)\n",
      "            Current function value: 8294.296851350988\n",
      "            Iterations: 12\n",
      "            Function evaluations: 74\n",
      "            Gradient evaluations: 12\n"
     ]
    },
    {
     "data": {
      "text/html": [
       "<table class=\"simpletable\">\n",
       "<caption>Constant Mean - GARCH Model Results</caption>\n",
       "<tr>\n",
       "  <th>Dep. Variable:</th>       <td>Returns</td>      <th>  R-squared:         </th>  <td>   0.000</td> \n",
       "</tr>\n",
       "<tr>\n",
       "  <th>Mean Model:</th>       <td>Constant Mean</td>   <th>  Adj. R-squared:    </th>  <td>   0.000</td> \n",
       "</tr>\n",
       "<tr>\n",
       "  <th>Vol Model:</th>            <td>GARCH</td>       <th>  Log-Likelihood:    </th> <td>  -8294.30</td>\n",
       "</tr>\n",
       "<tr>\n",
       "  <th>Distribution:</th>        <td>Normal</td>       <th>  AIC:               </th> <td>   16596.6</td>\n",
       "</tr>\n",
       "<tr>\n",
       "  <th>Method:</th>        <td>Maximum Likelihood</td> <th>  BIC:               </th> <td>   16623.6</td>\n",
       "</tr>\n",
       "<tr>\n",
       "  <th></th>                        <td></td>          <th>  No. Observations:  </th>    <td>6275</td>   \n",
       "</tr>\n",
       "<tr>\n",
       "  <th>Date:</th>           <td>Wed, May 18 2022</td>  <th>  Df Residuals:      </th>    <td>6274</td>   \n",
       "</tr>\n",
       "<tr>\n",
       "  <th>Time:</th>               <td>09:53:35</td>      <th>  Df Model:          </th>      <td>1</td>    \n",
       "</tr>\n",
       "</table>\n",
       "<table class=\"simpletable\">\n",
       "<caption>Mean Model</caption>\n",
       "<tr>\n",
       "   <td></td>     <th>coef</th>     <th>std err</th>      <th>t</th>       <th>P>|t|</th>     <th>95.0% Conf. Int.</th>   \n",
       "</tr>\n",
       "<tr>\n",
       "  <th>mu</th> <td>    0.0623</td> <td>9.822e-03</td> <td>    6.348</td> <td>2.185e-10</td> <td>[4.310e-02,8.160e-02]</td>\n",
       "</tr>\n",
       "</table>\n",
       "<table class=\"simpletable\">\n",
       "<caption>Volatility Model</caption>\n",
       "<tr>\n",
       "      <td></td>        <th>coef</th>     <th>std err</th>      <th>t</th>       <th>P>|t|</th>     <th>95.0% Conf. Int.</th>   \n",
       "</tr>\n",
       "<tr>\n",
       "  <th>omega</th>    <td>    0.0120</td> <td>3.333e-03</td> <td>    3.611</td> <td>3.048e-04</td> <td>[5.503e-03,1.857e-02]</td>\n",
       "</tr>\n",
       "<tr>\n",
       "  <th>alpha[1]</th> <td>    0.0850</td> <td>1.187e-02</td> <td>    7.164</td> <td>7.838e-13</td>  <td>[6.175e-02,  0.108]</td> \n",
       "</tr>\n",
       "<tr>\n",
       "  <th>beta[1]</th>  <td>    0.9053</td> <td>1.274e-02</td> <td>   71.057</td>   <td>0.000</td>     <td>[  0.880,  0.930]</td>  \n",
       "</tr>\n",
       "</table><br/><br/>Covariance estimator: robust"
      ],
      "text/plain": [
       "<class 'statsmodels.iolib.summary.Summary'>\n",
       "\"\"\"\n",
       "                     Constant Mean - GARCH Model Results                      \n",
       "==============================================================================\n",
       "Dep. Variable:                Returns   R-squared:                       0.000\n",
       "Mean Model:             Constant Mean   Adj. R-squared:                  0.000\n",
       "Vol Model:                      GARCH   Log-Likelihood:               -8294.30\n",
       "Distribution:                  Normal   AIC:                           16596.6\n",
       "Method:            Maximum Likelihood   BIC:                           16623.6\n",
       "                                        No. Observations:                 6275\n",
       "Date:                Wed, May 18 2022   Df Residuals:                     6274\n",
       "Time:                        09:53:35   Df Model:                            1\n",
       "                                 Mean Model                                 \n",
       "============================================================================\n",
       "                 coef    std err          t      P>|t|      95.0% Conf. Int.\n",
       "----------------------------------------------------------------------------\n",
       "mu             0.0623  9.822e-03      6.348  2.185e-10 [4.310e-02,8.160e-02]\n",
       "                              Volatility Model                              \n",
       "============================================================================\n",
       "                 coef    std err          t      P>|t|      95.0% Conf. Int.\n",
       "----------------------------------------------------------------------------\n",
       "omega          0.0120  3.333e-03      3.611  3.048e-04 [5.503e-03,1.857e-02]\n",
       "alpha[1]       0.0850  1.187e-02      7.164  7.838e-13   [6.175e-02,  0.108]\n",
       "beta[1]        0.9053  1.274e-02     71.057      0.000     [  0.880,  0.930]\n",
       "============================================================================\n",
       "\n",
       "Covariance estimator: robust\n",
       "\"\"\""
      ]
     },
     "execution_count": 117,
     "metadata": {},
     "output_type": "execute_result"
    }
   ],
   "source": [
    "model_arch1 = arch_model(df.Returns[1:])\n",
    "result_arch1 = model_arch1.fit()\n",
    "result_arch1.summary()"
   ]
  },
  {
   "cell_type": "code",
   "execution_count": 118,
   "id": "95005496",
   "metadata": {},
   "outputs": [
    {
     "name": "stdout",
     "output_type": "stream",
     "text": [
      "Iteration:      1,   Func. Count:      5,   Neg. LLF: 38989.77166971617\n",
      "Iteration:      2,   Func. Count:     13,   Neg. LLF: 14512.88291745145\n",
      "Iteration:      3,   Func. Count:     20,   Neg. LLF: 9578.985158461723\n",
      "Iteration:      4,   Func. Count:     26,   Neg. LLF: 9352.062062760626\n",
      "Iteration:      5,   Func. Count:     30,   Neg. LLF: 9352.062059348398\n",
      "Iteration:      6,   Func. Count:     33,   Neg. LLF: 9352.062059348402\n",
      "Optimization terminated successfully    (Exit mode 0)\n",
      "            Current function value: 9352.062059348398\n",
      "            Iterations: 6\n",
      "            Function evaluations: 33\n",
      "            Gradient evaluations: 6\n"
     ]
    },
    {
     "data": {
      "text/html": [
       "<table class=\"simpletable\">\n",
       "<caption>Constant Mean - ARCH Model Results</caption>\n",
       "<tr>\n",
       "  <th>Dep. Variable:</th>       <td>Returns</td>      <th>  R-squared:         </th>  <td>   0.000</td> \n",
       "</tr>\n",
       "<tr>\n",
       "  <th>Mean Model:</th>       <td>Constant Mean</td>   <th>  Adj. R-squared:    </th>  <td>   0.000</td> \n",
       "</tr>\n",
       "<tr>\n",
       "  <th>Vol Model:</th>            <td>ARCH</td>        <th>  Log-Likelihood:    </th> <td>  -9352.06</td>\n",
       "</tr>\n",
       "<tr>\n",
       "  <th>Distribution:</th>        <td>Normal</td>       <th>  AIC:               </th> <td>   18710.1</td>\n",
       "</tr>\n",
       "<tr>\n",
       "  <th>Method:</th>        <td>Maximum Likelihood</td> <th>  BIC:               </th> <td>   18730.4</td>\n",
       "</tr>\n",
       "<tr>\n",
       "  <th></th>                        <td></td>          <th>  No. Observations:  </th>    <td>6275</td>   \n",
       "</tr>\n",
       "<tr>\n",
       "  <th>Date:</th>           <td>Wed, May 18 2022</td>  <th>  Df Residuals:      </th>    <td>6274</td>   \n",
       "</tr>\n",
       "<tr>\n",
       "  <th>Time:</th>               <td>09:53:35</td>      <th>  Df Model:          </th>      <td>1</td>    \n",
       "</tr>\n",
       "</table>\n",
       "<table class=\"simpletable\">\n",
       "<caption>Mean Model</caption>\n",
       "<tr>\n",
       "   <td></td>     <th>coef</th>     <th>std err</th>      <th>t</th>       <th>P>|t|</th>     <th>95.0% Conf. Int.</th>   \n",
       "</tr>\n",
       "<tr>\n",
       "  <th>mu</th> <td>    0.0529</td> <td>1.521e-02</td> <td>    3.476</td> <td>5.095e-04</td> <td>[2.306e-02,8.270e-02]</td>\n",
       "</tr>\n",
       "</table>\n",
       "<table class=\"simpletable\">\n",
       "<caption>Volatility Model</caption>\n",
       "<tr>\n",
       "      <td></td>        <th>coef</th>     <th>std err</th>      <th>t</th>       <th>P>|t|</th>   <th>95.0% Conf. Int.</th> \n",
       "</tr>\n",
       "<tr>\n",
       "  <th>omega</th>    <td>    0.9068</td> <td>4.512e-02</td> <td>   20.098</td> <td>7.660e-90</td> <td>[  0.818,  0.995]</td>\n",
       "</tr>\n",
       "<tr>\n",
       "  <th>alpha[1]</th> <td>    0.3121</td> <td>4.936e-02</td> <td>    6.323</td> <td>2.561e-10</td> <td>[  0.215,  0.409]</td>\n",
       "</tr>\n",
       "</table><br/><br/>Covariance estimator: robust"
      ],
      "text/plain": [
       "<class 'statsmodels.iolib.summary.Summary'>\n",
       "\"\"\"\n",
       "                      Constant Mean - ARCH Model Results                      \n",
       "==============================================================================\n",
       "Dep. Variable:                Returns   R-squared:                       0.000\n",
       "Mean Model:             Constant Mean   Adj. R-squared:                  0.000\n",
       "Vol Model:                       ARCH   Log-Likelihood:               -9352.06\n",
       "Distribution:                  Normal   AIC:                           18710.1\n",
       "Method:            Maximum Likelihood   BIC:                           18730.4\n",
       "                                        No. Observations:                 6275\n",
       "Date:                Wed, May 18 2022   Df Residuals:                     6274\n",
       "Time:                        09:53:35   Df Model:                            1\n",
       "                                 Mean Model                                 \n",
       "============================================================================\n",
       "                 coef    std err          t      P>|t|      95.0% Conf. Int.\n",
       "----------------------------------------------------------------------------\n",
       "mu             0.0529  1.521e-02      3.476  5.095e-04 [2.306e-02,8.270e-02]\n",
       "                            Volatility Model                            \n",
       "========================================================================\n",
       "                 coef    std err          t      P>|t|  95.0% Conf. Int.\n",
       "------------------------------------------------------------------------\n",
       "omega          0.9068  4.512e-02     20.098  7.660e-90 [  0.818,  0.995]\n",
       "alpha[1]       0.3121  4.936e-02      6.323  2.561e-10 [  0.215,  0.409]\n",
       "========================================================================\n",
       "\n",
       "Covariance estimator: robust\n",
       "\"\"\""
      ]
     },
     "execution_count": 118,
     "metadata": {},
     "output_type": "execute_result"
    }
   ],
   "source": [
    "model_arch1 = arch_model(df.Returns[1:], mean='Constant' , vol='ARCH', p=1)\n",
    "result_arch1 = model_arch1.fit()\n",
    "result_arch1.summary()"
   ]
  },
  {
   "cell_type": "markdown",
   "id": "93bb2b39",
   "metadata": {},
   "source": [
    "## Higher ARCH Model"
   ]
  },
  {
   "cell_type": "code",
   "execution_count": 119,
   "id": "31aceee0",
   "metadata": {},
   "outputs": [
    {
     "name": "stdout",
     "output_type": "stream",
     "text": [
      "Iteration:      1,   Func. Count:      6,   Neg. LLF: 199987.3184344597\n",
      "Iteration:      2,   Func. Count:     15,   Neg. LLF: 11944816.204569448\n",
      "Iteration:      3,   Func. Count:     21,   Neg. LLF: 9503.894004713831\n",
      "Iteration:      4,   Func. Count:     28,   Neg. LLF: 9919.271363642578\n",
      "Iteration:      5,   Func. Count:     34,   Neg. LLF: 9251.979388737887\n",
      "Iteration:      6,   Func. Count:     41,   Neg. LLF: 8961.249412769468\n",
      "Iteration:      7,   Func. Count:     47,   Neg. LLF: 8958.138320055004\n",
      "Iteration:      8,   Func. Count:     52,   Neg. LLF: 8958.138318926776\n",
      "Iteration:      9,   Func. Count:     56,   Neg. LLF: 8958.138318926784\n",
      "Optimization terminated successfully    (Exit mode 0)\n",
      "            Current function value: 8958.138318926776\n",
      "            Iterations: 9\n",
      "            Function evaluations: 56\n",
      "            Gradient evaluations: 9\n"
     ]
    },
    {
     "data": {
      "text/html": [
       "<table class=\"simpletable\">\n",
       "<caption>Constant Mean - ARCH Model Results</caption>\n",
       "<tr>\n",
       "  <th>Dep. Variable:</th>       <td>Returns</td>      <th>  R-squared:         </th>  <td>   0.000</td> \n",
       "</tr>\n",
       "<tr>\n",
       "  <th>Mean Model:</th>       <td>Constant Mean</td>   <th>  Adj. R-squared:    </th>  <td>   0.000</td> \n",
       "</tr>\n",
       "<tr>\n",
       "  <th>Vol Model:</th>            <td>ARCH</td>        <th>  Log-Likelihood:    </th> <td>  -8958.14</td>\n",
       "</tr>\n",
       "<tr>\n",
       "  <th>Distribution:</th>        <td>Normal</td>       <th>  AIC:               </th> <td>   17924.3</td>\n",
       "</tr>\n",
       "<tr>\n",
       "  <th>Method:</th>        <td>Maximum Likelihood</td> <th>  BIC:               </th> <td>   17951.3</td>\n",
       "</tr>\n",
       "<tr>\n",
       "  <th></th>                        <td></td>          <th>  No. Observations:  </th>    <td>6275</td>   \n",
       "</tr>\n",
       "<tr>\n",
       "  <th>Date:</th>           <td>Wed, May 18 2022</td>  <th>  Df Residuals:      </th>    <td>6274</td>   \n",
       "</tr>\n",
       "<tr>\n",
       "  <th>Time:</th>               <td>09:53:35</td>      <th>  Df Model:          </th>      <td>1</td>    \n",
       "</tr>\n",
       "</table>\n",
       "<table class=\"simpletable\">\n",
       "<caption>Mean Model</caption>\n",
       "<tr>\n",
       "   <td></td>     <th>coef</th>     <th>std err</th>      <th>t</th>       <th>P>|t|</th>     <th>95.0% Conf. Int.</th>   \n",
       "</tr>\n",
       "<tr>\n",
       "  <th>mu</th> <td>    0.0652</td> <td>1.303e-02</td> <td>    4.999</td> <td>5.754e-07</td> <td>[3.961e-02,9.069e-02]</td>\n",
       "</tr>\n",
       "</table>\n",
       "<table class=\"simpletable\">\n",
       "<caption>Volatility Model</caption>\n",
       "<tr>\n",
       "      <td></td>        <th>coef</th>     <th>std err</th>      <th>t</th>       <th>P>|t|</th>   <th>95.0% Conf. Int.</th> \n",
       "</tr>\n",
       "<tr>\n",
       "  <th>omega</th>    <td>    0.6190</td> <td>3.389e-02</td> <td>   18.266</td> <td>1.531e-74</td> <td>[  0.553,  0.685]</td>\n",
       "</tr>\n",
       "<tr>\n",
       "  <th>alpha[1]</th> <td>    0.1982</td> <td>3.071e-02</td> <td>    6.453</td> <td>1.095e-10</td> <td>[  0.138,  0.258]</td>\n",
       "</tr>\n",
       "<tr>\n",
       "  <th>alpha[2]</th> <td>    0.3287</td> <td>3.915e-02</td> <td>    8.396</td> <td>4.601e-17</td> <td>[  0.252,  0.405]</td>\n",
       "</tr>\n",
       "</table><br/><br/>Covariance estimator: robust"
      ],
      "text/plain": [
       "<class 'statsmodels.iolib.summary.Summary'>\n",
       "\"\"\"\n",
       "                      Constant Mean - ARCH Model Results                      \n",
       "==============================================================================\n",
       "Dep. Variable:                Returns   R-squared:                       0.000\n",
       "Mean Model:             Constant Mean   Adj. R-squared:                  0.000\n",
       "Vol Model:                       ARCH   Log-Likelihood:               -8958.14\n",
       "Distribution:                  Normal   AIC:                           17924.3\n",
       "Method:            Maximum Likelihood   BIC:                           17951.3\n",
       "                                        No. Observations:                 6275\n",
       "Date:                Wed, May 18 2022   Df Residuals:                     6274\n",
       "Time:                        09:53:35   Df Model:                            1\n",
       "                                 Mean Model                                 \n",
       "============================================================================\n",
       "                 coef    std err          t      P>|t|      95.0% Conf. Int.\n",
       "----------------------------------------------------------------------------\n",
       "mu             0.0652  1.303e-02      4.999  5.754e-07 [3.961e-02,9.069e-02]\n",
       "                            Volatility Model                            \n",
       "========================================================================\n",
       "                 coef    std err          t      P>|t|  95.0% Conf. Int.\n",
       "------------------------------------------------------------------------\n",
       "omega          0.6190  3.389e-02     18.266  1.531e-74 [  0.553,  0.685]\n",
       "alpha[1]       0.1982  3.071e-02      6.453  1.095e-10 [  0.138,  0.258]\n",
       "alpha[2]       0.3287  3.915e-02      8.396  4.601e-17 [  0.252,  0.405]\n",
       "========================================================================\n",
       "\n",
       "Covariance estimator: robust\n",
       "\"\"\""
      ]
     },
     "execution_count": 119,
     "metadata": {},
     "output_type": "execute_result"
    }
   ],
   "source": [
    "model_arch2 = arch_model(df.Returns[1:], mean='Constant' , vol='ARCH', p=2)\n",
    "result_arch2 = model_arch2.fit()\n",
    "result_arch2.summary()"
   ]
  },
  {
   "cell_type": "markdown",
   "id": "ea1905fe",
   "metadata": {},
   "source": [
    "ARCH(2) is better it will continue till ARCH(12)"
   ]
  },
  {
   "cell_type": "markdown",
   "id": "30f59deb",
   "metadata": {},
   "source": [
    "# GARCH Model"
   ]
  },
  {
   "cell_type": "code",
   "execution_count": 1,
   "id": "834eb85c",
   "metadata": {},
   "outputs": [
    {
     "ename": "NameError",
     "evalue": "name 'arch_model' is not defined",
     "output_type": "error",
     "traceback": [
      "\u001b[1;31m---------------------------------------------------------------------------\u001b[0m",
      "\u001b[1;31mNameError\u001b[0m                                 Traceback (most recent call last)",
      "\u001b[1;32m~\\AppData\\Local\\Temp/ipykernel_9640/3191369112.py\u001b[0m in \u001b[0;36m<module>\u001b[1;34m\u001b[0m\n\u001b[1;32m----> 1\u001b[1;33m \u001b[0mmodel_garch11\u001b[0m \u001b[1;33m=\u001b[0m \u001b[0march_model\u001b[0m\u001b[1;33m(\u001b[0m\u001b[0mdf\u001b[0m\u001b[1;33m.\u001b[0m\u001b[0mReturns\u001b[0m\u001b[1;33m[\u001b[0m\u001b[1;36m1\u001b[0m\u001b[1;33m:\u001b[0m\u001b[1;33m]\u001b[0m\u001b[1;33m,\u001b[0m \u001b[0mmean\u001b[0m\u001b[1;33m=\u001b[0m\u001b[1;34m'Constant'\u001b[0m \u001b[1;33m,\u001b[0m \u001b[0mvol\u001b[0m\u001b[1;33m=\u001b[0m\u001b[1;34m'GARCH'\u001b[0m\u001b[1;33m,\u001b[0m \u001b[0mp\u001b[0m\u001b[1;33m=\u001b[0m\u001b[1;36m1\u001b[0m\u001b[1;33m,\u001b[0m \u001b[0mq\u001b[0m\u001b[1;33m=\u001b[0m\u001b[1;36m1\u001b[0m\u001b[1;33m)\u001b[0m\u001b[1;33m\u001b[0m\u001b[1;33m\u001b[0m\u001b[0m\n\u001b[0m\u001b[0;32m      2\u001b[0m \u001b[0mresult_garch11\u001b[0m \u001b[1;33m=\u001b[0m \u001b[0mmodel_garch11\u001b[0m\u001b[1;33m.\u001b[0m\u001b[0mfit\u001b[0m\u001b[1;33m(\u001b[0m\u001b[0mupdate_freq\u001b[0m\u001b[1;33m=\u001b[0m\u001b[1;36m5\u001b[0m\u001b[1;33m)\u001b[0m\u001b[1;33m\u001b[0m\u001b[1;33m\u001b[0m\u001b[0m\n\u001b[0;32m      3\u001b[0m \u001b[0mresult_garch11\u001b[0m\u001b[1;33m.\u001b[0m\u001b[0msummary\u001b[0m\u001b[1;33m(\u001b[0m\u001b[1;33m)\u001b[0m\u001b[1;33m\u001b[0m\u001b[1;33m\u001b[0m\u001b[0m\n",
      "\u001b[1;31mNameError\u001b[0m: name 'arch_model' is not defined"
     ]
    }
   ],
   "source": [
    "model_garch11 = arch_model(df.Returns[1:], mean='Constant' , vol='GARCH', p=1, q=1)\n",
    "result_garch11 = model_garch11.fit(update_freq=5)\n",
    "result_garch11.summary()"
   ]
  },
  {
   "cell_type": "markdown",
   "id": "f36729b5",
   "metadata": {},
   "source": [
    "Higher order garch are observed to be not performing well hence a garch(1,1) is optimal choice"
   ]
  },
  {
   "cell_type": "markdown",
   "id": "bfb6ae80",
   "metadata": {},
   "source": [
    "# Auto ARIMA"
   ]
  },
  {
   "cell_type": "code",
   "execution_count": 131,
   "id": "9f1552ab",
   "metadata": {},
   "outputs": [],
   "source": [
    "from pmdarima.arima import auto_arima"
   ]
  },
  {
   "cell_type": "code",
   "execution_count": 132,
   "id": "daebf457",
   "metadata": {},
   "outputs": [],
   "source": [
    "model_auto = auto_arima(df2.returns[1:])"
   ]
  },
  {
   "cell_type": "code",
   "execution_count": 133,
   "id": "6c51ce4f",
   "metadata": {},
   "outputs": [
    {
     "data": {
      "text/html": [
       "<table class=\"simpletable\">\n",
       "<caption>SARIMAX Results</caption>\n",
       "<tr>\n",
       "  <th>Dep. Variable:</th>           <td>y</td>        <th>  No. Observations:  </th>   <td>6276</td>   \n",
       "</tr>\n",
       "<tr>\n",
       "  <th>Model:</th>           <td>SARIMAX(4, 0, 5)</td> <th>  Log Likelihood     </th> <td>-9553.791</td>\n",
       "</tr>\n",
       "<tr>\n",
       "  <th>Date:</th>            <td>Wed, 18 May 2022</td> <th>  AIC                </th> <td>19129.582</td>\n",
       "</tr>\n",
       "<tr>\n",
       "  <th>Time:</th>                <td>10:18:51</td>     <th>  BIC                </th> <td>19203.771</td>\n",
       "</tr>\n",
       "<tr>\n",
       "  <th>Sample:</th>                  <td>0</td>        <th>  HQIC               </th> <td>19155.287</td>\n",
       "</tr>\n",
       "<tr>\n",
       "  <th></th>                      <td> - 6276</td>     <th>                     </th>     <td> </td>    \n",
       "</tr>\n",
       "<tr>\n",
       "  <th>Covariance Type:</th>        <td>opg</td>       <th>                     </th>     <td> </td>    \n",
       "</tr>\n",
       "</table>\n",
       "<table class=\"simpletable\">\n",
       "<tr>\n",
       "      <td></td>         <th>coef</th>     <th>std err</th>      <th>z</th>      <th>P>|z|</th>  <th>[0.025</th>    <th>0.975]</th>  \n",
       "</tr>\n",
       "<tr>\n",
       "  <th>intercept</th> <td>    0.0241</td> <td>    0.017</td> <td>    1.419</td> <td> 0.156</td> <td>   -0.009</td> <td>    0.057</td>\n",
       "</tr>\n",
       "<tr>\n",
       "  <th>ar.L1</th>     <td>    0.0853</td> <td>    0.077</td> <td>    1.104</td> <td> 0.270</td> <td>   -0.066</td> <td>    0.237</td>\n",
       "</tr>\n",
       "<tr>\n",
       "  <th>ar.L2</th>     <td>   -0.5635</td> <td>    0.078</td> <td>   -7.225</td> <td> 0.000</td> <td>   -0.716</td> <td>   -0.411</td>\n",
       "</tr>\n",
       "<tr>\n",
       "  <th>ar.L3</th>     <td>   -0.1206</td> <td>    0.071</td> <td>   -1.702</td> <td> 0.089</td> <td>   -0.260</td> <td>    0.018</td>\n",
       "</tr>\n",
       "<tr>\n",
       "  <th>ar.L4</th>     <td>    0.3062</td> <td>    0.074</td> <td>    4.130</td> <td> 0.000</td> <td>    0.161</td> <td>    0.452</td>\n",
       "</tr>\n",
       "<tr>\n",
       "  <th>ma.L1</th>     <td>   -0.1045</td> <td>    0.077</td> <td>   -1.351</td> <td> 0.177</td> <td>   -0.256</td> <td>    0.047</td>\n",
       "</tr>\n",
       "<tr>\n",
       "  <th>ma.L2</th>     <td>    0.5174</td> <td>    0.079</td> <td>    6.512</td> <td> 0.000</td> <td>    0.362</td> <td>    0.673</td>\n",
       "</tr>\n",
       "<tr>\n",
       "  <th>ma.L3</th>     <td>    0.0427</td> <td>    0.070</td> <td>    0.613</td> <td> 0.540</td> <td>   -0.094</td> <td>    0.179</td>\n",
       "</tr>\n",
       "<tr>\n",
       "  <th>ma.L4</th>     <td>   -0.3058</td> <td>    0.074</td> <td>   -4.134</td> <td> 0.000</td> <td>   -0.451</td> <td>   -0.161</td>\n",
       "</tr>\n",
       "<tr>\n",
       "  <th>ma.L5</th>     <td>   -0.0873</td> <td>    0.008</td> <td>  -10.308</td> <td> 0.000</td> <td>   -0.104</td> <td>   -0.071</td>\n",
       "</tr>\n",
       "<tr>\n",
       "  <th>sigma2</th>    <td>    1.2272</td> <td>    0.012</td> <td>  104.093</td> <td> 0.000</td> <td>    1.204</td> <td>    1.250</td>\n",
       "</tr>\n",
       "</table>\n",
       "<table class=\"simpletable\">\n",
       "<tr>\n",
       "  <th>Ljung-Box (L1) (Q):</th>     <td>0.01</td> <th>  Jarque-Bera (JB):  </th> <td>8750.12</td>\n",
       "</tr>\n",
       "<tr>\n",
       "  <th>Prob(Q):</th>                <td>0.94</td> <th>  Prob(JB):          </th>  <td>0.00</td>  \n",
       "</tr>\n",
       "<tr>\n",
       "  <th>Heteroskedasticity (H):</th> <td>0.87</td> <th>  Skew:              </th>  <td>-0.20</td> \n",
       "</tr>\n",
       "<tr>\n",
       "  <th>Prob(H) (two-sided):</th>    <td>0.00</td> <th>  Kurtosis:          </th>  <td>8.77</td>  \n",
       "</tr>\n",
       "</table><br/><br/>Warnings:<br/>[1] Covariance matrix calculated using the outer product of gradients (complex-step)."
      ],
      "text/plain": [
       "<class 'statsmodels.iolib.summary.Summary'>\n",
       "\"\"\"\n",
       "                               SARIMAX Results                                \n",
       "==============================================================================\n",
       "Dep. Variable:                      y   No. Observations:                 6276\n",
       "Model:               SARIMAX(4, 0, 5)   Log Likelihood               -9553.791\n",
       "Date:                Wed, 18 May 2022   AIC                          19129.582\n",
       "Time:                        10:18:51   BIC                          19203.771\n",
       "Sample:                             0   HQIC                         19155.287\n",
       "                               - 6276                                         \n",
       "Covariance Type:                  opg                                         \n",
       "==============================================================================\n",
       "                 coef    std err          z      P>|z|      [0.025      0.975]\n",
       "------------------------------------------------------------------------------\n",
       "intercept      0.0241      0.017      1.419      0.156      -0.009       0.057\n",
       "ar.L1          0.0853      0.077      1.104      0.270      -0.066       0.237\n",
       "ar.L2         -0.5635      0.078     -7.225      0.000      -0.716      -0.411\n",
       "ar.L3         -0.1206      0.071     -1.702      0.089      -0.260       0.018\n",
       "ar.L4          0.3062      0.074      4.130      0.000       0.161       0.452\n",
       "ma.L1         -0.1045      0.077     -1.351      0.177      -0.256       0.047\n",
       "ma.L2          0.5174      0.079      6.512      0.000       0.362       0.673\n",
       "ma.L3          0.0427      0.070      0.613      0.540      -0.094       0.179\n",
       "ma.L4         -0.3058      0.074     -4.134      0.000      -0.451      -0.161\n",
       "ma.L5         -0.0873      0.008    -10.308      0.000      -0.104      -0.071\n",
       "sigma2         1.2272      0.012    104.093      0.000       1.204       1.250\n",
       "===================================================================================\n",
       "Ljung-Box (L1) (Q):                   0.01   Jarque-Bera (JB):              8750.12\n",
       "Prob(Q):                              0.94   Prob(JB):                         0.00\n",
       "Heteroskedasticity (H):               0.87   Skew:                            -0.20\n",
       "Prob(H) (two-sided):                  0.00   Kurtosis:                         8.77\n",
       "===================================================================================\n",
       "\n",
       "Warnings:\n",
       "[1] Covariance matrix calculated using the outer product of gradients (complex-step).\n",
       "\"\"\""
      ]
     },
     "execution_count": 133,
     "metadata": {},
     "output_type": "execute_result"
    }
   ],
   "source": [
    "model_auto.summary()"
   ]
  },
  {
   "cell_type": "code",
   "execution_count": 135,
   "id": "15eed3be",
   "metadata": {},
   "outputs": [],
   "source": [
    "df3.spx_ret = df3.spx.pct_change(1)*100"
   ]
  },
  {
   "cell_type": "code",
   "execution_count": 147,
   "id": "eb3b6b05",
   "metadata": {
    "scrolled": true
   },
   "outputs": [],
   "source": [
    "df3['spx_ret']=df3.spx_ret"
   ]
  },
  {
   "cell_type": "code",
   "execution_count": 154,
   "id": "8ee27f65",
   "metadata": {},
   "outputs": [],
   "source": [
    "model_auto = auto_arima(df2[['returns']][1:], exogenous= df3[['spx_ret']][1:],m=5,max_order=None,max_p=7,max_q=7,max_d=2,\n",
    "                       max_P=4, max_D=2,max_Q=4, maxiter=50, \n",
    "                       alpha=0.05, n_jobs=-1,trend=\"ct\", information_criterion='oob',\n",
    "                       out_of_sample_size=int(len(df2)*0.2))"
   ]
  },
  {
   "cell_type": "code",
   "execution_count": 155,
   "id": "a1fc5238",
   "metadata": {},
   "outputs": [
    {
     "data": {
      "text/html": [
       "<table class=\"simpletable\">\n",
       "<caption>SARIMAX Results</caption>\n",
       "<tr>\n",
       "  <th>Dep. Variable:</th>                  <td>y</td>               <th>  No. Observations:  </th>   <td>6276</td>   \n",
       "</tr>\n",
       "<tr>\n",
       "  <th>Model:</th>           <td>SARIMAX(3, 0, 1)x(2, 0, [], 5)</td> <th>  Log Likelihood     </th> <td>-8481.386</td>\n",
       "</tr>\n",
       "<tr>\n",
       "  <th>Date:</th>                   <td>Wed, 18 May 2022</td>        <th>  AIC                </th> <td>16982.773</td>\n",
       "</tr>\n",
       "<tr>\n",
       "  <th>Time:</th>                       <td>11:13:17</td>            <th>  BIC                </th> <td>17050.218</td>\n",
       "</tr>\n",
       "<tr>\n",
       "  <th>Sample:</th>                         <td>0</td>               <th>  HQIC               </th> <td>17006.141</td>\n",
       "</tr>\n",
       "<tr>\n",
       "  <th></th>                             <td> - 6276</td>            <th>                     </th>     <td> </td>    \n",
       "</tr>\n",
       "<tr>\n",
       "  <th>Covariance Type:</th>               <td>opg</td>              <th>                     </th>     <td> </td>    \n",
       "</tr>\n",
       "</table>\n",
       "<table class=\"simpletable\">\n",
       "<tr>\n",
       "      <td></td>         <th>coef</th>     <th>std err</th>      <th>z</th>      <th>P>|z|</th>  <th>[0.025</th>    <th>0.975]</th>  \n",
       "</tr>\n",
       "<tr>\n",
       "  <th>intercept</th> <td>    0.0012</td> <td>    0.025</td> <td>    0.048</td> <td> 0.962</td> <td>   -0.047</td> <td>    0.049</td>\n",
       "</tr>\n",
       "<tr>\n",
       "  <th>drift</th>     <td> 1.406e-07</td> <td> 7.22e-06</td> <td>    0.019</td> <td> 0.984</td> <td> -1.4e-05</td> <td> 1.43e-05</td>\n",
       "</tr>\n",
       "<tr>\n",
       "  <th>x1</th>        <td>    0.4888</td> <td>    0.007</td> <td>   72.175</td> <td> 0.000</td> <td>    0.475</td> <td>    0.502</td>\n",
       "</tr>\n",
       "<tr>\n",
       "  <th>ar.L1</th>     <td>   -0.1142</td> <td>    0.072</td> <td>   -1.581</td> <td> 0.114</td> <td>   -0.256</td> <td>    0.027</td>\n",
       "</tr>\n",
       "<tr>\n",
       "  <th>ar.L2</th>     <td>   -0.0596</td> <td>    0.018</td> <td>   -3.223</td> <td> 0.001</td> <td>   -0.096</td> <td>   -0.023</td>\n",
       "</tr>\n",
       "<tr>\n",
       "  <th>ar.L3</th>     <td>   -0.1013</td> <td>    0.010</td> <td>   -9.962</td> <td> 0.000</td> <td>   -0.121</td> <td>   -0.081</td>\n",
       "</tr>\n",
       "<tr>\n",
       "  <th>ma.L1</th>     <td>   -0.1352</td> <td>    0.072</td> <td>   -1.888</td> <td> 0.059</td> <td>   -0.276</td> <td>    0.005</td>\n",
       "</tr>\n",
       "<tr>\n",
       "  <th>ar.S.L5</th>   <td>   -0.0456</td> <td>    0.010</td> <td>   -4.689</td> <td> 0.000</td> <td>   -0.065</td> <td>   -0.027</td>\n",
       "</tr>\n",
       "<tr>\n",
       "  <th>ar.S.L10</th>  <td>   -0.0058</td> <td>    0.009</td> <td>   -0.613</td> <td> 0.540</td> <td>   -0.024</td> <td>    0.013</td>\n",
       "</tr>\n",
       "<tr>\n",
       "  <th>sigma2</th>    <td>    0.9609</td> <td>    0.010</td> <td>   92.942</td> <td> 0.000</td> <td>    0.941</td> <td>    0.981</td>\n",
       "</tr>\n",
       "</table>\n",
       "<table class=\"simpletable\">\n",
       "<tr>\n",
       "  <th>Ljung-Box (L1) (Q):</th>     <td>1.19</td> <th>  Jarque-Bera (JB):  </th> <td>8776.69</td>\n",
       "</tr>\n",
       "<tr>\n",
       "  <th>Prob(Q):</th>                <td>0.27</td> <th>  Prob(JB):          </th>  <td>0.00</td>  \n",
       "</tr>\n",
       "<tr>\n",
       "  <th>Heteroskedasticity (H):</th> <td>0.64</td> <th>  Skew:              </th>  <td>-0.44</td> \n",
       "</tr>\n",
       "<tr>\n",
       "  <th>Prob(H) (two-sided):</th>    <td>0.00</td> <th>  Kurtosis:          </th>  <td>8.73</td>  \n",
       "</tr>\n",
       "</table><br/><br/>Warnings:<br/>[1] Covariance matrix calculated using the outer product of gradients (complex-step)."
      ],
      "text/plain": [
       "<class 'statsmodels.iolib.summary.Summary'>\n",
       "\"\"\"\n",
       "                                     SARIMAX Results                                      \n",
       "==========================================================================================\n",
       "Dep. Variable:                                  y   No. Observations:                 6276\n",
       "Model:             SARIMAX(3, 0, 1)x(2, 0, [], 5)   Log Likelihood               -8481.386\n",
       "Date:                            Wed, 18 May 2022   AIC                          16982.773\n",
       "Time:                                    11:13:17   BIC                          17050.218\n",
       "Sample:                                         0   HQIC                         17006.141\n",
       "                                           - 6276                                         \n",
       "Covariance Type:                              opg                                         \n",
       "==============================================================================\n",
       "                 coef    std err          z      P>|z|      [0.025      0.975]\n",
       "------------------------------------------------------------------------------\n",
       "intercept      0.0012      0.025      0.048      0.962      -0.047       0.049\n",
       "drift       1.406e-07   7.22e-06      0.019      0.984    -1.4e-05    1.43e-05\n",
       "x1             0.4888      0.007     72.175      0.000       0.475       0.502\n",
       "ar.L1         -0.1142      0.072     -1.581      0.114      -0.256       0.027\n",
       "ar.L2         -0.0596      0.018     -3.223      0.001      -0.096      -0.023\n",
       "ar.L3         -0.1013      0.010     -9.962      0.000      -0.121      -0.081\n",
       "ma.L1         -0.1352      0.072     -1.888      0.059      -0.276       0.005\n",
       "ar.S.L5       -0.0456      0.010     -4.689      0.000      -0.065      -0.027\n",
       "ar.S.L10      -0.0058      0.009     -0.613      0.540      -0.024       0.013\n",
       "sigma2         0.9609      0.010     92.942      0.000       0.941       0.981\n",
       "===================================================================================\n",
       "Ljung-Box (L1) (Q):                   1.19   Jarque-Bera (JB):              8776.69\n",
       "Prob(Q):                              0.27   Prob(JB):                         0.00\n",
       "Heteroskedasticity (H):               0.64   Skew:                            -0.44\n",
       "Prob(H) (two-sided):                  0.00   Kurtosis:                         8.73\n",
       "===================================================================================\n",
       "\n",
       "Warnings:\n",
       "[1] Covariance matrix calculated using the outer product of gradients (complex-step).\n",
       "\"\"\""
      ]
     },
     "execution_count": 155,
     "metadata": {},
     "output_type": "execute_result"
    }
   ],
   "source": [
    "model_auto.summary()"
   ]
  },
  {
   "cell_type": "code",
   "execution_count": null,
   "id": "745c602f",
   "metadata": {},
   "outputs": [],
   "source": []
  }
 ],
 "metadata": {
  "kernelspec": {
   "display_name": "Python 3 (ipykernel)",
   "language": "python",
   "name": "python3"
  },
  "language_info": {
   "codemirror_mode": {
    "name": "ipython",
    "version": 3
   },
   "file_extension": ".py",
   "mimetype": "text/x-python",
   "name": "python",
   "nbconvert_exporter": "python",
   "pygments_lexer": "ipython3",
   "version": "3.9.7"
  }
 },
 "nbformat": 4,
 "nbformat_minor": 5
}
